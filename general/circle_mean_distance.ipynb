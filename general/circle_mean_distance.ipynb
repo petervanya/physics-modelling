{
 "cells": [
  {
   "cell_type": "markdown",
   "metadata": {},
   "source": [
    "## Compute average distance between points of a circle\n",
    "\n",
    "2025-03-16\n",
    "\n",
    "Circle radius is the only independent variable."
   ]
  },
  {
   "cell_type": "code",
   "execution_count": 28,
   "metadata": {},
   "outputs": [],
   "source": [
    "import numpy as np\n",
    "from numpy.linalg import norm\n",
    "import pandas as pd\n",
    "import matplotlib.pyplot as plt"
   ]
  },
  {
   "cell_type": "code",
   "execution_count": 1,
   "metadata": {},
   "outputs": [
    {
     "data": {
      "text/plain": [
       "0.9003163161571062"
      ]
     },
     "execution_count": 1,
     "metadata": {},
     "output_type": "execute_result"
    }
   ],
   "source": [
    "# real mean distance of two random points in a circle\n",
    "2 * np.sqrt(2) / np.pi"
   ]
  },
  {
   "cell_type": "code",
   "execution_count": 4,
   "metadata": {},
   "outputs": [
    {
     "data": {
      "text/plain": [
       "0.5214054331647207"
      ]
     },
     "execution_count": 4,
     "metadata": {},
     "output_type": "execute_result"
    }
   ],
   "source": [
    "# mean distance of two random points on a square\n",
    "(np.sqrt(2) + 2 + 5 * np.log(1 + np.sqrt(2))) / 15"
   ]
  },
  {
   "cell_type": "code",
   "execution_count": 15,
   "metadata": {},
   "outputs": [],
   "source": [
    "def compute_avg_distance(R, n_points, seed=42):\n",
    "    np.random.seed(seed)\n",
    "\n",
    "    n_hit = 0\n",
    "    ds = []\n",
    "\n",
    "    for pt in range(n_points):\n",
    "        x1, y1 = (np.random.rand(2) - 0.5) * 2 * R\n",
    "        x2, y2 = (np.random.rand(2) - 0.5) * 2 * R\n",
    "        if norm([x1, y1]) <= R and norm([x2, y2]) <= R:\n",
    "            n_hit += 1\n",
    "            d = np.sqrt((x2-x1)**2 + (y2-y1)**2)\n",
    "            ds.append(d)\n",
    "\n",
    "    return np.average(ds), np.std(ds), n_hit"
   ]
  },
  {
   "cell_type": "code",
   "execution_count": null,
   "metadata": {},
   "outputs": [],
   "source": [
    "res = compute_avg_distance(1, int(1e4))\n",
    "res"
   ]
  },
  {
   "cell_type": "code",
   "execution_count": 20,
   "metadata": {},
   "outputs": [
    {
     "name": "stdout",
     "output_type": "stream",
     "text": [
      "(0.9020958370539102, 0.424799478930182, 61743)\n",
      "(0.9058283645361459, 0.4245361635242395, 61862)\n",
      "(0.9050701557979945, 0.4249244682041191, 61778)\n",
      "(0.9066574556338943, 0.42456266543504695, 61491)\n",
      "(0.9038153519503354, 0.42470869348522705, 61787)\n",
      "(0.9017949791775707, 0.4242193556980375, 61878)\n",
      "(0.9043501957451255, 0.42599715757648776, 61456)\n",
      "(0.9054457438265464, 0.4245306404919941, 61702)\n",
      "(0.9040954149017132, 0.4256319961180819, 61706)\n",
      "(0.9081536316594567, 0.4257992585133758, 61549)\n",
      "CPU times: user 19.3 s, sys: 285 ms, total: 19.6 s\n",
      "Wall time: 22.9 s\n"
     ]
    }
   ],
   "source": [
    "%%time\n",
    "\n",
    "buf = []\n",
    "\n",
    "for seed in range(30, 40):\n",
    "    res = compute_avg_distance(1.0, int(1e5), seed=seed)\n",
    "    buf.append(res)\n",
    "    print(res)"
   ]
  },
  {
   "cell_type": "code",
   "execution_count": 24,
   "metadata": {},
   "outputs": [
    {
     "data": {
      "text/html": [
       "<div>\n",
       "<style scoped>\n",
       "    .dataframe tbody tr th:only-of-type {\n",
       "        vertical-align: middle;\n",
       "    }\n",
       "\n",
       "    .dataframe tbody tr th {\n",
       "        vertical-align: top;\n",
       "    }\n",
       "\n",
       "    .dataframe thead th {\n",
       "        text-align: right;\n",
       "    }\n",
       "</style>\n",
       "<table border=\"1\" class=\"dataframe\">\n",
       "  <thead>\n",
       "    <tr style=\"text-align: right;\">\n",
       "      <th></th>\n",
       "      <th>mean</th>\n",
       "      <th>std</th>\n",
       "      <th>n_acc</th>\n",
       "    </tr>\n",
       "  </thead>\n",
       "  <tbody>\n",
       "    <tr>\n",
       "      <th>0</th>\n",
       "      <td>0.902096</td>\n",
       "      <td>0.424799</td>\n",
       "      <td>61743</td>\n",
       "    </tr>\n",
       "    <tr>\n",
       "      <th>1</th>\n",
       "      <td>0.905828</td>\n",
       "      <td>0.424536</td>\n",
       "      <td>61862</td>\n",
       "    </tr>\n",
       "    <tr>\n",
       "      <th>2</th>\n",
       "      <td>0.905070</td>\n",
       "      <td>0.424924</td>\n",
       "      <td>61778</td>\n",
       "    </tr>\n",
       "    <tr>\n",
       "      <th>3</th>\n",
       "      <td>0.906657</td>\n",
       "      <td>0.424563</td>\n",
       "      <td>61491</td>\n",
       "    </tr>\n",
       "    <tr>\n",
       "      <th>4</th>\n",
       "      <td>0.903815</td>\n",
       "      <td>0.424709</td>\n",
       "      <td>61787</td>\n",
       "    </tr>\n",
       "    <tr>\n",
       "      <th>5</th>\n",
       "      <td>0.901795</td>\n",
       "      <td>0.424219</td>\n",
       "      <td>61878</td>\n",
       "    </tr>\n",
       "    <tr>\n",
       "      <th>6</th>\n",
       "      <td>0.904350</td>\n",
       "      <td>0.425997</td>\n",
       "      <td>61456</td>\n",
       "    </tr>\n",
       "    <tr>\n",
       "      <th>7</th>\n",
       "      <td>0.905446</td>\n",
       "      <td>0.424531</td>\n",
       "      <td>61702</td>\n",
       "    </tr>\n",
       "    <tr>\n",
       "      <th>8</th>\n",
       "      <td>0.904095</td>\n",
       "      <td>0.425632</td>\n",
       "      <td>61706</td>\n",
       "    </tr>\n",
       "    <tr>\n",
       "      <th>9</th>\n",
       "      <td>0.908154</td>\n",
       "      <td>0.425799</td>\n",
       "      <td>61549</td>\n",
       "    </tr>\n",
       "  </tbody>\n",
       "</table>\n",
       "</div>"
      ],
      "text/plain": [
       "       mean       std  n_acc\n",
       "0  0.902096  0.424799  61743\n",
       "1  0.905828  0.424536  61862\n",
       "2  0.905070  0.424924  61778\n",
       "3  0.906657  0.424563  61491\n",
       "4  0.903815  0.424709  61787\n",
       "5  0.901795  0.424219  61878\n",
       "6  0.904350  0.425997  61456\n",
       "7  0.905446  0.424531  61702\n",
       "8  0.904095  0.425632  61706\n",
       "9  0.908154  0.425799  61549"
      ]
     },
     "execution_count": 24,
     "metadata": {},
     "output_type": "execute_result"
    }
   ],
   "source": [
    "df_res = pd.DataFrame(buf, columns=['mean', 'std', 'n_acc'])\n",
    "df_res"
   ]
  },
  {
   "cell_type": "code",
   "execution_count": 36,
   "metadata": {},
   "outputs": [
    {
     "data": {
      "text/plain": [
       "mean    0.904731\n",
       "std     0.424971\n",
       "dtype: float64"
      ]
     },
     "execution_count": 36,
     "metadata": {},
     "output_type": "execute_result"
    }
   ],
   "source": [
    "df_res[['mean', 'std']].mean()"
   ]
  },
  {
   "cell_type": "code",
   "execution_count": 34,
   "metadata": {},
   "outputs": [
    {
     "data": {
      "image/png": "[encoded data removed]",
      "text/plain": [
       "<Figure size 640x480 with 1 Axes>"
      ]
     },
     "metadata": {},
     "output_type": "display_data"
    }
   ],
   "source": [
    "plt.errorbar(x=df_res.index, y=df_res['mean'], yerr=df_res['std'], linestyle='dotted')\n",
    "plt.ylim([0, 1.5])\n",
    "plt.grid()"
   ]
  },
  {
   "cell_type": "code",
   "execution_count": null,
   "metadata": {},
   "outputs": [],
   "source": []
  }
 ],
 "metadata": {
  "kernelspec": {
   "display_name": "base",
   "language": "python",
   "name": "python3"
  },
  "language_info": {
   "codemirror_mode": {
    "name": "ipython",
    "version": 3
   },
   "file_extension": ".py",
   "mimetype": "text/x-python",
   "name": "python",
   "nbconvert_exporter": "python",
   "pygments_lexer": "ipython3",
   "version": "3.11.7"
  }
 },
 "nbformat": 4,
 "nbformat_minor": 2
}

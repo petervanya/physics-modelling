{
 "cells": [
  {
   "cell_type": "markdown",
   "metadata": {},
   "source": [
    "# Optimisation of coal market with Scipy, using same principles as power market\n",
    "\n",
    "2024-09-15\n",
    "\n"
   ]
  },
  {
   "cell_type": "code",
   "execution_count": 11,
   "metadata": {},
   "outputs": [],
   "source": [
    "import numpy as np\n",
    "import pandas as pd\n",
    "\n",
    "import matplotlib.pyplot as plt\n",
    "import plotly.express as px\n",
    "\n",
    "pd.options.plotting.backend = \"plotly\""
   ]
  },
  {
   "cell_type": "code",
   "execution_count": 12,
   "metadata": {},
   "outputs": [],
   "source": [
    "from scipy.optimize import minimize, Bounds, LinearConstraint"
   ]
  },
  {
   "cell_type": "code",
   "execution_count": 13,
   "metadata": {},
   "outputs": [],
   "source": [
    "np.set_printoptions(linewidth=200)"
   ]
  },
  {
   "cell_type": "markdown",
   "metadata": {},
   "source": [
    "## 1. Brute-force minimisation with Scipy of total cost given the constraints\n",
    "\n",
    "As an approximation to the Nash equilibrium (though minimisation does not guarantee NE).\n",
    "\n",
    "List of constraints:\n",
    "- mine volumes: between 0 and 4, need to sum by rows\n",
    "- plant volumes: between 0 and 8, need to sum by columns\n",
    "- prices: above the mine cash costs, reproduce by rows\n",
    "- demand: all volume must sum to total demand\n",
    "\n",
    "Tutorial: https://docs.scipy.org/doc/scipy/tutorial/optimize.html#constrained-minimization-of-multivariate-scalar-functions-minimize"
   ]
  },
  {
   "cell_type": "code",
   "execution_count": 14,
   "metadata": {},
   "outputs": [],
   "source": [
    "def create_distance_matrix(v, w):\n",
    "    M = len(v)\n",
    "    N = len(w)\n",
    "    return np.array([[np.linalg.norm(v[i] - w[j]) for j in range(N)] for i in range(M)])"
   ]
  },
  {
   "cell_type": "code",
   "execution_count": 15,
   "metadata": {},
   "outputs": [],
   "source": [
    "def total_cost(mat_volumes, mat_prices, mat_freight):\n",
    "    return np.sum(mat_volumes * mat_prices) + np.sum(mat_volumes * mat_freight)\n",
    "\n",
    "\n",
    "def total_cost_squeezed(x, mat_freight):\n",
    "    mat_volumes = np.reshape(x[:N*N], (N, N))\n",
    "    mat_prices = np.reshape(x[N*N:2*N*N], (N, N))\n",
    "    return total_cost(mat_volumes, mat_prices, mat_freight)"
   ]
  },
  {
   "cell_type": "code",
   "execution_count": 16,
   "metadata": {},
   "outputs": [],
   "source": [
    "def build_constraints(N, vec_mine_costs, TOT_DEMAND, vec_mine_cap, vec_plant_cap):\n",
    "    '''\n",
    "    Build constraints for the optimization problem\n",
    "    NEXT STEP: generalise for unequal mine and plant numbers\n",
    "    '''\n",
    "    no_volume_constraint = [0] * N*N\n",
    "    no_price_constraint = [0] * N*N\n",
    "\n",
    "    constraints = []\n",
    "    lows = []\n",
    "    highs = []\n",
    "\n",
    "    # mine capacity constraints\n",
    "    for i in range(N):\n",
    "        cons = [0] * N * i + [1] * N + [0] * N * (N - i - 1)\n",
    "        constraints.append(cons + no_price_constraint)\n",
    "        lows.append(0)\n",
    "        highs.append(vec_mine_cap[i])\n",
    "\n",
    "    # individual mine volume constraints\n",
    "    for i in range(N):\n",
    "       for j in range(N):\n",
    "            cons = [0] * N * i + ([0]*j + [1] + [0]*(N-j-1)) + [0] * N * (N - i - 1)\n",
    "            constraints.append(cons + no_price_constraint)\n",
    "            lows.append(0)\n",
    "            highs.append(vec_mine_cap[i])\n",
    "\n",
    "    # plant capacity constraints\n",
    "    for i in range(N):\n",
    "        cons = ([0] * i + [1] + [0] * (N - i - 1)) * 3\n",
    "        constraints.append(cons + no_price_constraint)\n",
    "        lows.append(0)\n",
    "        highs.append(vec_plant_cap[i])\n",
    "\n",
    "    # individual plant capacity constraints\n",
    "    for i in range(N):\n",
    "        for j in range(N):\n",
    "            cons = [0] * N * i + ([0]*j + [1] + [0]*(N-j-1)) + [0] * N * (N - i - 1)\n",
    "            constraints.append(cons + no_price_constraint)\n",
    "            lows.append(0)\n",
    "            highs.append(vec_plant_cap[j])\n",
    "\n",
    "    # mine cost constraints\n",
    "    for i in range(N):\n",
    "        for j in range(N):\n",
    "            cons = [0] * N * i + ([0]*j + [1] + [0]*(N-j-1)) + [0] * N * (N - i - 1)\n",
    "            constraints.append(no_volume_constraint + cons)\n",
    "            lows.append(vec_mine_costs[i])\n",
    "            highs.append(np.inf)\n",
    "\n",
    "    # demand constraint\n",
    "    cons = [1] * N*N\n",
    "    constraints.append(cons + no_price_constraint)\n",
    "    lows.append(TOT_DEMAND)\n",
    "    highs.append(TOT_DEMAND*1.2)\n",
    "\n",
    "    return constraints, lows, highs"
   ]
  },
  {
   "cell_type": "code",
   "execution_count": 26,
   "metadata": {},
   "outputs": [],
   "source": [
    "def visualise_results_scipy(res, N, mat_freight):\n",
    "    '''Show results in a simple dataframe for visual exploration'''\n",
    "    dfvol = pd.DataFrame(res.x[:N*N].reshape((N, N)).round(1), columns=list('abc'))\n",
    "    dfprice = pd.DataFrame(res.x[N*N:].reshape((N, N)).round(1), columns=list('abc'))\n",
    "    dffreight = pd.DataFrame(mat_freight.round(1), columns=list('abc'))\n",
    "    df = pd.concat([dfvol, dfprice, dffreight], axis=1, keys=['Volumes', 'Prices', 'Freight'])\n",
    "    return df"
   ]
  },
  {
   "cell_type": "markdown",
   "metadata": {},
   "source": [
    "Define all variables, with random IPP positions."
   ]
  },
  {
   "cell_type": "code",
   "execution_count": 17,
   "metadata": {},
   "outputs": [],
   "source": [
    "np.random.seed(42)\n",
    "\n",
    "N = 3\n",
    "UNIT_FREIGHT = 0.05\n",
    "LF = 0.25\n",
    "MINE_CAP = 4.0\n",
    "\n",
    "# input vectors\n",
    "vec_mine_costs = np.linspace(80, 120, N)  # np.random.normal(100, 30, N)\n",
    "vec_mine_cap = np.ones_like(vec_mine_costs) * MINE_CAP\n",
    "vec_plant_cap = np.ones_like(vec_mine_costs) * 8.0\n",
    "\n",
    "# output vectors\n",
    "vec_plant_lf = np.ones_like(vec_mine_costs) * LF\n",
    "vec_plant_volume = vec_plant_cap * vec_plant_lf\n",
    "vec_mine_volume = vec_plant_volume\n",
    "\n",
    "# aggregated variables\n",
    "TOT_DEMAND = vec_plant_volume.sum()\n",
    "TOT_MINE_CAP = vec_mine_cap.sum()\n",
    "TOT_PLANT_CAP = vec_plant_cap.sum()\n",
    "\n",
    "# input matrices\n",
    "loc_mines = np.random.rand(N, 2) * 500\n",
    "loc_plants = np.random.rand(N, 2) * 500\n",
    "mat_distances = create_distance_matrix(loc_mines, loc_plants)\n",
    "mat_freight = UNIT_FREIGHT * mat_distances\n",
    "\n",
    "# output matrices\n",
    "mat_volumes = np.diag(vec_mine_volume)\n",
    "mat_prices = np.diag(vec_mine_costs)"
   ]
  },
  {
   "cell_type": "code",
   "execution_count": 18,
   "metadata": {},
   "outputs": [
    {
     "data": {
      "text/plain": [
       "666.1624739684947"
      ]
     },
     "execution_count": 18,
     "metadata": {},
     "output_type": "execute_result"
    }
   ],
   "source": [
    "# test function\n",
    "total_cost(mat_volumes, mat_prices, mat_freight)"
   ]
  },
  {
   "cell_type": "code",
   "execution_count": 30,
   "metadata": {},
   "outputs": [
    {
     "data": {
      "text/plain": [
       "  message: Desired error not necessarily achieved due to precision loss.\n",
       "  success: False\n",
       "   status: 2\n",
       "      fun: -102673482619.16183\n",
       "        x: [-1.121e+06 -1.056e+05 ...  7.329e+03  3.281e+04]\n",
       "      nit: 2\n",
       "      jac: [ 1.024e+04  3.072e+03 ... -2.253e+05 -1.788e+06]\n",
       " hess_inv: [[ 1.008e+00  1.962e-03 ...  3.787e-02  3.102e-01]\n",
       "            [ 1.962e-03  1.000e+00 ...  3.640e-03  2.982e-02]\n",
       "            ...\n",
       "            [ 3.787e-02  3.640e-03 ...  9.919e-01 -6.359e-02]\n",
       "            [ 3.102e-01  2.982e-02 ... -6.359e-02  5.025e-01]]\n",
       "     nfev: 2254\n",
       "     njev: 118"
      ]
     },
     "execution_count": 30,
     "metadata": {},
     "output_type": "execute_result"
    }
   ],
   "source": [
    "# minimise without constraints -- bad\n",
    "res = minimize(total_cost_squeezed, [*mat_volumes.flatten(), *mat_prices.flatten()], args=(mat_freight,))\n",
    "res"
   ]
  },
  {
   "cell_type": "code",
   "execution_count": 31,
   "metadata": {},
   "outputs": [
    {
     "data": {
      "text/html": [
       "<div>\n",
       "<style scoped>\n",
       "    .dataframe tbody tr th:only-of-type {\n",
       "        vertical-align: middle;\n",
       "    }\n",
       "\n",
       "    .dataframe tbody tr th {\n",
       "        vertical-align: top;\n",
       "    }\n",
       "\n",
       "    .dataframe thead tr th {\n",
       "        text-align: left;\n",
       "    }\n",
       "</style>\n",
       "<table border=\"1\" class=\"dataframe\">\n",
       "  <thead>\n",
       "    <tr>\n",
       "      <th></th>\n",
       "      <th colspan=\"3\" halign=\"left\">Volumes</th>\n",
       "      <th colspan=\"3\" halign=\"left\">Prices</th>\n",
       "      <th colspan=\"3\" halign=\"left\">Freight</th>\n",
       "    </tr>\n",
       "    <tr>\n",
       "      <th></th>\n",
       "      <th>a</th>\n",
       "      <th>b</th>\n",
       "      <th>c</th>\n",
       "      <th>a</th>\n",
       "      <th>b</th>\n",
       "      <th>c</th>\n",
       "      <th>a</th>\n",
       "      <th>b</th>\n",
       "      <th>c</th>\n",
       "    </tr>\n",
       "  </thead>\n",
       "  <tbody>\n",
       "    <tr>\n",
       "      <th>0</th>\n",
       "      <td>-1120962.3</td>\n",
       "      <td>-105572.6</td>\n",
       "      <td>-112726.3</td>\n",
       "      <td>11094.2</td>\n",
       "      <td>3430.8</td>\n",
       "      <td>3663.3</td>\n",
       "      <td>8.2</td>\n",
       "      <td>8.3</td>\n",
       "      <td>8.9</td>\n",
       "    </tr>\n",
       "    <tr>\n",
       "      <th>1</th>\n",
       "      <td>-230576.9</td>\n",
       "      <td>-1325452.8</td>\n",
       "      <td>-255186.7</td>\n",
       "      <td>7493.1</td>\n",
       "      <td>17759.5</td>\n",
       "      <td>8292.8</td>\n",
       "      <td>18.1</td>\n",
       "      <td>4.3</td>\n",
       "      <td>20.1</td>\n",
       "    </tr>\n",
       "    <tr>\n",
       "      <th>2</th>\n",
       "      <td>-227980.8</td>\n",
       "      <td>-225517.2</td>\n",
       "      <td>-1788001.1</td>\n",
       "      <td>7408.7</td>\n",
       "      <td>7328.6</td>\n",
       "      <td>32811.0</td>\n",
       "      <td>17.9</td>\n",
       "      <td>17.7</td>\n",
       "      <td>20.6</td>\n",
       "    </tr>\n",
       "  </tbody>\n",
       "</table>\n",
       "</div>"
      ],
      "text/plain": [
       "     Volumes                         Prices                   Freight        \\\n",
       "           a          b          c        a        b        c       a     b   \n",
       "0 -1120962.3  -105572.6  -112726.3  11094.2   3430.8   3663.3     8.2   8.3   \n",
       "1  -230576.9 -1325452.8  -255186.7   7493.1  17759.5   8292.8    18.1   4.3   \n",
       "2  -227980.8  -225517.2 -1788001.1   7408.7   7328.6  32811.0    17.9  17.7   \n",
       "\n",
       "         \n",
       "      c  \n",
       "0   8.9  \n",
       "1  20.1  \n",
       "2  20.6  "
      ]
     },
     "execution_count": 31,
     "metadata": {},
     "output_type": "execute_result"
    }
   ],
   "source": [
    "visualise_results_scipy(res, N, mat_freight)"
   ]
  },
  {
   "cell_type": "markdown",
   "metadata": {},
   "source": [
    "Build constraints."
   ]
  },
  {
   "cell_type": "code",
   "execution_count": 20,
   "metadata": {},
   "outputs": [],
   "source": [
    "c, l, h = build_constraints(N, vec_mine_costs, TOT_DEMAND, vec_mine_cap, vec_plant_cap)"
   ]
  },
  {
   "cell_type": "code",
   "execution_count": 21,
   "metadata": {},
   "outputs": [
    {
     "data": {
      "text/plain": [
       "array([[  1. ,   1. ,   1. ,   0. ,   0. ,   0. ,   0. ,   0. ,   0. ,   0. ,   0. ,   0. ,   0. ,   0. ,   0. ,   0. ,   0. ,   0. ,   0. ,   4. ],\n",
       "       [  0. ,   0. ,   0. ,   1. ,   1. ,   1. ,   0. ,   0. ,   0. ,   0. ,   0. ,   0. ,   0. ,   0. ,   0. ,   0. ,   0. ,   0. ,   0. ,   4. ],\n",
       "       [  0. ,   0. ,   0. ,   0. ,   0. ,   0. ,   1. ,   1. ,   1. ,   0. ,   0. ,   0. ,   0. ,   0. ,   0. ,   0. ,   0. ,   0. ,   0. ,   4. ],\n",
       "       [  1. ,   0. ,   0. ,   0. ,   0. ,   0. ,   0. ,   0. ,   0. ,   0. ,   0. ,   0. ,   0. ,   0. ,   0. ,   0. ,   0. ,   0. ,   0. ,   4. ],\n",
       "       [  0. ,   1. ,   0. ,   0. ,   0. ,   0. ,   0. ,   0. ,   0. ,   0. ,   0. ,   0. ,   0. ,   0. ,   0. ,   0. ,   0. ,   0. ,   0. ,   4. ],\n",
       "       [  0. ,   0. ,   1. ,   0. ,   0. ,   0. ,   0. ,   0. ,   0. ,   0. ,   0. ,   0. ,   0. ,   0. ,   0. ,   0. ,   0. ,   0. ,   0. ,   4. ],\n",
       "       [  0. ,   0. ,   0. ,   1. ,   0. ,   0. ,   0. ,   0. ,   0. ,   0. ,   0. ,   0. ,   0. ,   0. ,   0. ,   0. ,   0. ,   0. ,   0. ,   4. ],\n",
       "       [  0. ,   0. ,   0. ,   0. ,   1. ,   0. ,   0. ,   0. ,   0. ,   0. ,   0. ,   0. ,   0. ,   0. ,   0. ,   0. ,   0. ,   0. ,   0. ,   4. ],\n",
       "       [  0. ,   0. ,   0. ,   0. ,   0. ,   1. ,   0. ,   0. ,   0. ,   0. ,   0. ,   0. ,   0. ,   0. ,   0. ,   0. ,   0. ,   0. ,   0. ,   4. ],\n",
       "       [  0. ,   0. ,   0. ,   0. ,   0. ,   0. ,   1. ,   0. ,   0. ,   0. ,   0. ,   0. ,   0. ,   0. ,   0. ,   0. ,   0. ,   0. ,   0. ,   4. ],\n",
       "       [  0. ,   0. ,   0. ,   0. ,   0. ,   0. ,   0. ,   1. ,   0. ,   0. ,   0. ,   0. ,   0. ,   0. ,   0. ,   0. ,   0. ,   0. ,   0. ,   4. ],\n",
       "       [  0. ,   0. ,   0. ,   0. ,   0. ,   0. ,   0. ,   0. ,   1. ,   0. ,   0. ,   0. ,   0. ,   0. ,   0. ,   0. ,   0. ,   0. ,   0. ,   4. ],\n",
       "       [  1. ,   0. ,   0. ,   1. ,   0. ,   0. ,   1. ,   0. ,   0. ,   0. ,   0. ,   0. ,   0. ,   0. ,   0. ,   0. ,   0. ,   0. ,   0. ,   8. ],\n",
       "       [  0. ,   1. ,   0. ,   0. ,   1. ,   0. ,   0. ,   1. ,   0. ,   0. ,   0. ,   0. ,   0. ,   0. ,   0. ,   0. ,   0. ,   0. ,   0. ,   8. ],\n",
       "       [  0. ,   0. ,   1. ,   0. ,   0. ,   1. ,   0. ,   0. ,   1. ,   0. ,   0. ,   0. ,   0. ,   0. ,   0. ,   0. ,   0. ,   0. ,   0. ,   8. ],\n",
       "       [  1. ,   0. ,   0. ,   0. ,   0. ,   0. ,   0. ,   0. ,   0. ,   0. ,   0. ,   0. ,   0. ,   0. ,   0. ,   0. ,   0. ,   0. ,   0. ,   8. ],\n",
       "       [  0. ,   1. ,   0. ,   0. ,   0. ,   0. ,   0. ,   0. ,   0. ,   0. ,   0. ,   0. ,   0. ,   0. ,   0. ,   0. ,   0. ,   0. ,   0. ,   8. ],\n",
       "       [  0. ,   0. ,   1. ,   0. ,   0. ,   0. ,   0. ,   0. ,   0. ,   0. ,   0. ,   0. ,   0. ,   0. ,   0. ,   0. ,   0. ,   0. ,   0. ,   8. ],\n",
       "       [  0. ,   0. ,   0. ,   1. ,   0. ,   0. ,   0. ,   0. ,   0. ,   0. ,   0. ,   0. ,   0. ,   0. ,   0. ,   0. ,   0. ,   0. ,   0. ,   8. ],\n",
       "       [  0. ,   0. ,   0. ,   0. ,   1. ,   0. ,   0. ,   0. ,   0. ,   0. ,   0. ,   0. ,   0. ,   0. ,   0. ,   0. ,   0. ,   0. ,   0. ,   8. ],\n",
       "       [  0. ,   0. ,   0. ,   0. ,   0. ,   1. ,   0. ,   0. ,   0. ,   0. ,   0. ,   0. ,   0. ,   0. ,   0. ,   0. ,   0. ,   0. ,   0. ,   8. ],\n",
       "       [  0. ,   0. ,   0. ,   0. ,   0. ,   0. ,   1. ,   0. ,   0. ,   0. ,   0. ,   0. ,   0. ,   0. ,   0. ,   0. ,   0. ,   0. ,   0. ,   8. ],\n",
       "       [  0. ,   0. ,   0. ,   0. ,   0. ,   0. ,   0. ,   1. ,   0. ,   0. ,   0. ,   0. ,   0. ,   0. ,   0. ,   0. ,   0. ,   0. ,   0. ,   8. ],\n",
       "       [  0. ,   0. ,   0. ,   0. ,   0. ,   0. ,   0. ,   0. ,   1. ,   0. ,   0. ,   0. ,   0. ,   0. ,   0. ,   0. ,   0. ,   0. ,   0. ,   8. ],\n",
       "       [  0. ,   0. ,   0. ,   0. ,   0. ,   0. ,   0. ,   0. ,   0. ,   1. ,   0. ,   0. ,   0. ,   0. ,   0. ,   0. ,   0. ,   0. ,  80. ,   inf],\n",
       "       [  0. ,   0. ,   0. ,   0. ,   0. ,   0. ,   0. ,   0. ,   0. ,   0. ,   1. ,   0. ,   0. ,   0. ,   0. ,   0. ,   0. ,   0. ,  80. ,   inf],\n",
       "       [  0. ,   0. ,   0. ,   0. ,   0. ,   0. ,   0. ,   0. ,   0. ,   0. ,   0. ,   1. ,   0. ,   0. ,   0. ,   0. ,   0. ,   0. ,  80. ,   inf],\n",
       "       [  0. ,   0. ,   0. ,   0. ,   0. ,   0. ,   0. ,   0. ,   0. ,   0. ,   0. ,   0. ,   1. ,   0. ,   0. ,   0. ,   0. ,   0. , 100. ,   inf],\n",
       "       [  0. ,   0. ,   0. ,   0. ,   0. ,   0. ,   0. ,   0. ,   0. ,   0. ,   0. ,   0. ,   0. ,   1. ,   0. ,   0. ,   0. ,   0. , 100. ,   inf],\n",
       "       [  0. ,   0. ,   0. ,   0. ,   0. ,   0. ,   0. ,   0. ,   0. ,   0. ,   0. ,   0. ,   0. ,   0. ,   1. ,   0. ,   0. ,   0. , 100. ,   inf],\n",
       "       [  0. ,   0. ,   0. ,   0. ,   0. ,   0. ,   0. ,   0. ,   0. ,   0. ,   0. ,   0. ,   0. ,   0. ,   0. ,   1. ,   0. ,   0. , 120. ,   inf],\n",
       "       [  0. ,   0. ,   0. ,   0. ,   0. ,   0. ,   0. ,   0. ,   0. ,   0. ,   0. ,   0. ,   0. ,   0. ,   0. ,   0. ,   1. ,   0. , 120. ,   inf],\n",
       "       [  0. ,   0. ,   0. ,   0. ,   0. ,   0. ,   0. ,   0. ,   0. ,   0. ,   0. ,   0. ,   0. ,   0. ,   0. ,   0. ,   0. ,   1. , 120. ,   inf],\n",
       "       [  1. ,   1. ,   1. ,   1. ,   1. ,   1. ,   1. ,   1. ,   1. ,   0. ,   0. ,   0. ,   0. ,   0. ,   0. ,   0. ,   0. ,   0. ,   6. ,   7.2]])"
      ]
     },
     "execution_count": 21,
     "metadata": {},
     "output_type": "execute_result"
    }
   ],
   "source": [
    "np.c_[c, l, h]"
   ]
  },
  {
   "cell_type": "code",
   "execution_count": 22,
   "metadata": {},
   "outputs": [],
   "source": [
    "# # constraint on total traded volume\n",
    "# no_price_constraint = [0] * (N*N)\n",
    "\n",
    "# # individual mine volumes\n",
    "# # generalise for any N\n",
    "# mine_1 = [1] * N + [0] * N * (N-1)\n",
    "# mine_2 = [0] * N + [1] * N + [0] * N * (N-2)  # generalise\n",
    "# mine_3 = [0] * N * (N-1) + [1] * N\n",
    "\n",
    "# linear_constraint = LinearConstraint(\n",
    "#     [\n",
    "#         [1] * (N*N) + no_price_constraint,\n",
    "#         mine_1 + no_price_constraint,\n",
    "#         mine_2 + no_price_constraint,\n",
    "#         mine_3 + no_price_constraint,\n",
    "#     ]\n",
    "#     [TOT_MINE_VOLUME] + [0] * N,\n",
    "#     [TOT_MINE_VOLUME] + [MINE_CAP] * N\n",
    "# )\n",
    "\n",
    "\n",
    "# # constraint on individual mine volumes and prices\n",
    "# mine_vols_low = np.zeros(N)\n",
    "# mine_vols_high = vec_mine_volume\n",
    "# bounds = Bounds([0.0] * (N*N*2), [np.inf] * (N*N*2))"
   ]
  },
  {
   "cell_type": "code",
   "execution_count": 23,
   "metadata": {},
   "outputs": [],
   "source": [
    "linear_constraint = LinearConstraint(c, l, h)"
   ]
  },
  {
   "cell_type": "markdown",
   "metadata": {},
   "source": [
    "OptimizeWarning: \n",
    "\n",
    "Equality and inequality constraints are specified in the same element of the constraint list. For efficient use with this method, equality and inequality constraints should be specified in separate elements of the constraint list. \n",
    "\n",
    "  warn(\"Equality and inequality constraints are specified in the same \""
   ]
  },
  {
   "cell_type": "code",
   "execution_count": 24,
   "metadata": {},
   "outputs": [],
   "source": [
    "# with constraints\n",
    "res = minimize(\n",
    "    total_cost_squeezed,\n",
    "    [*mat_volumes.flatten(), *mat_prices.flatten()],\n",
    "    args=(mat_freight,),\n",
    "    constraints=linear_constraint\n",
    ")"
   ]
  },
  {
   "cell_type": "code",
   "execution_count": 25,
   "metadata": {},
   "outputs": [
    {
     "data": {
      "text/plain": [
       " message: Optimization terminated successfully\n",
       " success: True\n",
       "  status: 0\n",
       "     fun: 561.2848318233706\n",
       "       x: [ 4.000e+00 -7.627e-08 ...  1.206e+02  1.200e+02]\n",
       "     nit: 18\n",
       "     jac: [ 8.819e+01  8.830e+01 ...  0.000e+00  0.000e+00]\n",
       "    nfev: 296\n",
       "    njev: 14"
      ]
     },
     "execution_count": 25,
     "metadata": {},
     "output_type": "execute_result"
    }
   ],
   "source": [
    "res"
   ]
  },
  {
   "cell_type": "code",
   "execution_count": 27,
   "metadata": {},
   "outputs": [
    {
     "data": {
      "text/html": [
       "<div>\n",
       "<style scoped>\n",
       "    .dataframe tbody tr th:only-of-type {\n",
       "        vertical-align: middle;\n",
       "    }\n",
       "\n",
       "    .dataframe tbody tr th {\n",
       "        vertical-align: top;\n",
       "    }\n",
       "\n",
       "    .dataframe thead tr th {\n",
       "        text-align: left;\n",
       "    }\n",
       "</style>\n",
       "<table border=\"1\" class=\"dataframe\">\n",
       "  <thead>\n",
       "    <tr>\n",
       "      <th></th>\n",
       "      <th colspan=\"3\" halign=\"left\">Volumes</th>\n",
       "      <th colspan=\"3\" halign=\"left\">Prices</th>\n",
       "      <th colspan=\"3\" halign=\"left\">Freight</th>\n",
       "    </tr>\n",
       "    <tr>\n",
       "      <th></th>\n",
       "      <th>a</th>\n",
       "      <th>b</th>\n",
       "      <th>c</th>\n",
       "      <th>a</th>\n",
       "      <th>b</th>\n",
       "      <th>c</th>\n",
       "      <th>a</th>\n",
       "      <th>b</th>\n",
       "      <th>c</th>\n",
       "    </tr>\n",
       "  </thead>\n",
       "  <tbody>\n",
       "    <tr>\n",
       "      <th>0</th>\n",
       "      <td>4.0</td>\n",
       "      <td>-0.0</td>\n",
       "      <td>-0.0</td>\n",
       "      <td>80.0</td>\n",
       "      <td>80.0</td>\n",
       "      <td>80.1</td>\n",
       "      <td>8.2</td>\n",
       "      <td>8.3</td>\n",
       "      <td>8.9</td>\n",
       "    </tr>\n",
       "    <tr>\n",
       "      <th>1</th>\n",
       "      <td>-0.0</td>\n",
       "      <td>2.0</td>\n",
       "      <td>-0.0</td>\n",
       "      <td>100.5</td>\n",
       "      <td>100.0</td>\n",
       "      <td>101.1</td>\n",
       "      <td>18.1</td>\n",
       "      <td>4.3</td>\n",
       "      <td>20.1</td>\n",
       "    </tr>\n",
       "    <tr>\n",
       "      <th>2</th>\n",
       "      <td>-0.0</td>\n",
       "      <td>-0.0</td>\n",
       "      <td>-0.0</td>\n",
       "      <td>120.6</td>\n",
       "      <td>120.6</td>\n",
       "      <td>120.0</td>\n",
       "      <td>17.9</td>\n",
       "      <td>17.7</td>\n",
       "      <td>20.6</td>\n",
       "    </tr>\n",
       "  </tbody>\n",
       "</table>\n",
       "</div>"
      ],
      "text/plain": [
       "  Volumes           Prices               Freight            \n",
       "        a    b    c      a      b      c       a     b     c\n",
       "0     4.0 -0.0 -0.0   80.0   80.0   80.1     8.2   8.3   8.9\n",
       "1    -0.0  2.0 -0.0  100.5  100.0  101.1    18.1   4.3  20.1\n",
       "2    -0.0 -0.0 -0.0  120.6  120.6  120.0    17.9  17.7  20.6"
      ]
     },
     "execution_count": 27,
     "metadata": {},
     "output_type": "execute_result"
    }
   ],
   "source": [
    "visualise_results_scipy(res, N, mat_freight)"
   ]
  },
  {
   "cell_type": "markdown",
   "metadata": {},
   "source": [
    "**Notes:**\n",
    "- good allocation of volumes, cheapest plant \n",
    "- agreed price is not determined, clearly the derived prices are costs and not transaction prices at Nash equilibrium"
   ]
  },
  {
   "cell_type": "markdown",
   "metadata": {},
   "source": [
    "## 3. Exploration of variants"
   ]
  },
  {
   "cell_type": "markdown",
   "metadata": {},
   "source": [
    "### 3.1. Constant freight: show what price is"
   ]
  },
  {
   "cell_type": "code",
   "execution_count": 62,
   "metadata": {},
   "outputs": [],
   "source": [
    "seed = 42\n",
    "np.random.seed(seed)\n",
    "\n",
    "N = 3\n",
    "LF = 0.25\n",
    "MINE_CAP = 4.0\n",
    "PLANT_CAP = 8.0\n",
    "UNIT_FREIGHT = 0.0001\n",
    "FREIGHT_CONST = 0.0\n",
    "\n",
    "# input vectors\n",
    "vec_mine_costs = np.linspace(80, 140, N)\n",
    "vec_mine_cap = np.ones_like(vec_mine_costs) * MINE_CAP\n",
    "vec_plant_cap = np.ones_like(vec_mine_costs) * PLANT_CAP\n",
    "\n",
    "# output vectors\n",
    "vec_plant_lf = np.ones(N) * LF\n",
    "vec_plant_volume = vec_plant_cap * vec_plant_lf\n",
    "vec_mine_volume = vec_plant_volume\n",
    "\n",
    "# aggregated variables\n",
    "TOT_DEMAND = vec_plant_volume.sum()\n",
    "TOT_MINE_CAP = vec_mine_cap.sum()\n",
    "TOT_PLANT_CAP = vec_plant_cap.sum()\n",
    "\n",
    "# input matrices\n",
    "loc_mines = np.random.rand(N, 2) * 500\n",
    "loc_plants = np.random.rand(N, 2) * 500\n",
    "mat_distances = create_distance_matrix(loc_mines, loc_plants)\n",
    "mat_freight = UNIT_FREIGHT * mat_distances\n",
    "mat_freight = np.ones((N, N)) * FREIGHT_CONST\n",
    "\n",
    "# output matrices\n",
    "# mat_volumes = np.diag(vec_mine_volume)\n",
    "# mat_prices = np.diag(vec_mine_costs)\n",
    "mat_volumes = np.ones((N, N)) * TOT_DEMAND / N\n",
    "mat_prices = np.diag(vec_mine_costs)"
   ]
  },
  {
   "cell_type": "code",
   "execution_count": 63,
   "metadata": {},
   "outputs": [
    {
     "name": "stdout",
     "output_type": "stream",
     "text": [
      "Mean plant volume: 2.0\n"
     ]
    }
   ],
   "source": [
    "print(f'Mean plant volume: {vec_plant_volume.mean()}')"
   ]
  },
  {
   "cell_type": "code",
   "execution_count": 64,
   "metadata": {},
   "outputs": [],
   "source": [
    "c, l, h = build_constraints(N, vec_mine_costs, TOT_DEMAND, vec_mine_cap, vec_plant_cap)\n",
    "linear_constraint = LinearConstraint(c, l, h)"
   ]
  },
  {
   "cell_type": "code",
   "execution_count": 65,
   "metadata": {},
   "outputs": [],
   "source": [
    "res = minimize(\n",
    "    total_cost_squeezed,\n",
    "    [*mat_volumes.flatten(), *mat_prices.flatten()],\n",
    "    args=(mat_freight,),\n",
    "    constraints=linear_constraint\n",
    ")"
   ]
  },
  {
   "cell_type": "code",
   "execution_count": 66,
   "metadata": {},
   "outputs": [
    {
     "data": {
      "text/html": [
       "<div>\n",
       "<style scoped>\n",
       "    .dataframe tbody tr th:only-of-type {\n",
       "        vertical-align: middle;\n",
       "    }\n",
       "\n",
       "    .dataframe tbody tr th {\n",
       "        vertical-align: top;\n",
       "    }\n",
       "\n",
       "    .dataframe thead tr th {\n",
       "        text-align: left;\n",
       "    }\n",
       "</style>\n",
       "<table border=\"1\" class=\"dataframe\">\n",
       "  <thead>\n",
       "    <tr>\n",
       "      <th></th>\n",
       "      <th colspan=\"3\" halign=\"left\">Volumes</th>\n",
       "      <th colspan=\"3\" halign=\"left\">Prices</th>\n",
       "      <th colspan=\"3\" halign=\"left\">Freight</th>\n",
       "    </tr>\n",
       "    <tr>\n",
       "      <th></th>\n",
       "      <th>a</th>\n",
       "      <th>b</th>\n",
       "      <th>c</th>\n",
       "      <th>a</th>\n",
       "      <th>b</th>\n",
       "      <th>c</th>\n",
       "      <th>a</th>\n",
       "      <th>b</th>\n",
       "      <th>c</th>\n",
       "    </tr>\n",
       "  </thead>\n",
       "  <tbody>\n",
       "    <tr>\n",
       "      <th>0</th>\n",
       "      <td>-0.0</td>\n",
       "      <td>2.0</td>\n",
       "      <td>2.0</td>\n",
       "      <td>80.0</td>\n",
       "      <td>80.0</td>\n",
       "      <td>80.0</td>\n",
       "      <td>0.0</td>\n",
       "      <td>0.0</td>\n",
       "      <td>0.0</td>\n",
       "    </tr>\n",
       "    <tr>\n",
       "      <th>1</th>\n",
       "      <td>1.0</td>\n",
       "      <td>-0.0</td>\n",
       "      <td>1.0</td>\n",
       "      <td>110.0</td>\n",
       "      <td>110.0</td>\n",
       "      <td>110.0</td>\n",
       "      <td>0.0</td>\n",
       "      <td>0.0</td>\n",
       "      <td>0.0</td>\n",
       "    </tr>\n",
       "    <tr>\n",
       "      <th>2</th>\n",
       "      <td>-0.0</td>\n",
       "      <td>-0.0</td>\n",
       "      <td>-0.0</td>\n",
       "      <td>140.0</td>\n",
       "      <td>140.0</td>\n",
       "      <td>140.0</td>\n",
       "      <td>0.0</td>\n",
       "      <td>0.0</td>\n",
       "      <td>0.0</td>\n",
       "    </tr>\n",
       "  </tbody>\n",
       "</table>\n",
       "</div>"
      ],
      "text/plain": [
       "  Volumes           Prices               Freight          \n",
       "        a    b    c      a      b      c       a    b    c\n",
       "0    -0.0  2.0  2.0   80.0   80.0   80.0     0.0  0.0  0.0\n",
       "1     1.0 -0.0  1.0  110.0  110.0  110.0     0.0  0.0  0.0\n",
       "2    -0.0 -0.0 -0.0  140.0  140.0  140.0     0.0  0.0  0.0"
      ]
     },
     "execution_count": 66,
     "metadata": {},
     "output_type": "execute_result"
    }
   ],
   "source": [
    "visualise_results_scipy(res, N, mat_freight)"
   ]
  },
  {
   "cell_type": "markdown",
   "metadata": {},
   "source": [
    "**Notes:**\n",
    "- Volumes incorrect, should be degenerate on for each mine"
   ]
  },
  {
   "cell_type": "code",
   "execution_count": null,
   "metadata": {},
   "outputs": [],
   "source": []
  }
 ],
 "metadata": {
  "kernelspec": {
   "display_name": "base",
   "language": "python",
   "name": "python3"
  },
  "language_info": {
   "codemirror_mode": {
    "name": "ipython",
    "version": 3
   },
   "file_extension": ".py",
   "mimetype": "text/x-python",
   "name": "python",
   "nbconvert_exporter": "python",
   "pygments_lexer": "ipython3",
   "version": "3.11.7"
  }
 },
 "nbformat": 4,
 "nbformat_minor": 2
}

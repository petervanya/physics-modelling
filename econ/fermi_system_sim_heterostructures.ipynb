{
 "cells": [
  {
   "cell_type": "markdown",
   "metadata": {},
   "source": [
    "# Simulate Fermi system with heterostructures using MC\n",
    "\n",
    "2024-11-18\n",
    "\n",
    "As a proxy for a market with M mines and N power plants.\n",
    "\n",
    "Start with a system of a few mines and two power plants."
   ]
  },
  {
   "cell_type": "code",
   "execution_count": 8,
   "metadata": {},
   "outputs": [],
   "source": [
    "import numpy as np\n",
    "import pandas as pd\n",
    "\n",
    "import plotly.express as px\n",
    "import matplotlib.pyplot as plt\n",
    "\n",
    "from scipy.optimize import curve_fit, minimize, root"
   ]
  },
  {
   "cell_type": "markdown",
   "metadata": {},
   "source": [
    "## 1. Minimal nontrivial system: 2 mines, 2 power plants"
   ]
  },
  {
   "cell_type": "markdown",
   "metadata": {},
   "source": [
    "Tasks:\n",
    "- implement working arrays\n",
    "- implement buffer arrays\n"
   ]
  },
  {
   "cell_type": "code",
   "execution_count": 24,
   "metadata": {},
   "outputs": [],
   "source": [
    "def selection_rules(i1, j1, i2, j2):\n",
    "    '''Rules for indices to swap particles in MC exchange'''\n",
    "    if i1 == i2 and j1 == j2:\n",
    "        return False\n",
    "    else:\n",
    "        return True\n",
    "\n",
    "\n",
    "def exp_bounding_fun(x):\n",
    "    '''Prevent overflow in exponential'''\n",
    "    return min(0, max(-100, x))\n",
    "\n",
    "\n",
    "def compute_percentile(Ns, Es, perc, dN):\n",
    "    '''compute real percentile with weights, Numpy function only available from Numpy 2.0'''\n",
    "    buf = []\n",
    "    for i, _ in enumerate(Ns):\n",
    "        temp_weight = int(Ns[i] / dN)\n",
    "        buf.extend([Es[i]] * temp_weight)\n",
    "\n",
    "    return np.percentile(buf, perc, method='nearest')"
   ]
  },
  {
   "cell_type": "code",
   "execution_count": 63,
   "metadata": {},
   "outputs": [],
   "source": [
    "# main fixed parameters\n",
    "T = 0.1  # temperature\n",
    "\n",
    "# raw production costs without \n",
    "Es = np.array([50, 80, 100, 110, 120] + list(range(130, 200, 10)))  # energy/cash cost levels, USD/t\n",
    "Es = Es.astype(float)\n",
    "# Es = np.array([50, 80, 100]).astype(float)\n",
    "\n",
    "num_E = len(Es)\n",
    "mat_Es = np.c_[Es, Es] # only two consumers\n",
    "num_pp = 2  # number of power plants\n",
    "\n",
    "# transport cost matrix\n",
    "dE = 0.0  # fixed freight differential\n",
    "mat_dE = np.ones_like(mat_Es) * dE\n",
    "mat_Es += mat_dE\n",
    "\n",
    "# volumes in Mt\n",
    "N = 5.0\n",
    "dN = 0.01\n",
    "\n",
    "# Caps = np.array([1.0] * num_E)  # mine capacities, all same\n",
    "Caps = np.array([0.5, 1.5, 2.0, 0.75, 0.5, 1.0, 0.25, 0.25, 0.5, 0.5, 1.0, 1.0])\n",
    "# Caps = np.array([1.0, 1.0, 1.0])\n",
    "mat_Caps = np.c_[Caps, Caps]\n",
    "\n",
    "# Ns = np.array([0.0] * 7 + [1.0] * 5)  # manual initial allocation of volumes\n",
    "Ns = np.array([0.0] * (num_E-1) + [N/2])  # simplest initial allocation, but need more steps\n",
    "mat_Ns = np.c_[Ns, Ns]"
   ]
  },
  {
   "cell_type": "code",
   "execution_count": 64,
   "metadata": {},
   "outputs": [
    {
     "name": "stdout",
     "output_type": "stream",
     "text": [
      "step n_swap E dE P\n",
      "0 1 949.1 -90.0 [190. 190.]\n",
      "100 47 923.500000000001 30.0 [190. 190.]\n",
      "200 97 899.4000000000019 80.0 [190. 190.]\n",
      "300 136 882.0000000000026 -10.0 [190. 190.]\n",
      "400 169 866.900000000003 50.0 [190. 190.]\n",
      "500 209 845.7000000000037 70.0 [190. 190.]\n",
      "600 247 823.200000000004 70.0 [190. 190.]\n",
      "700 288 803.600000000004 40.0 [190. 190.]\n",
      "800 328 782.800000000004 120.0 [190. 190.]\n",
      "900 376 755.900000000004 70.0 [190. 190.]\n",
      "1000 407 740.1000000000039 60.0 [190. 190.]\n",
      "1100 452 720.5000000000039 20.0 [190. 190.]\n",
      "1200 499 704.500000000004 20.0 [190. 190.]\n",
      "1300 535 689.1000000000039 -70.0 [190. 190.]\n",
      "1400 575 674.9000000000038 -60.0 [190. 190.]\n",
      "1500 623 659.8000000000038 60.0 [190. 190.]\n",
      "1600 667 642.1000000000038 -110.0 [190. 190.]\n",
      "1700 710 627.5000000000038 80.0 [190. 190.]\n",
      "1800 748 612.6000000000038 70.0 [190. 190.]\n",
      "1900 776 601.6000000000038 -50.0 [190. 190.]\n",
      "2000 806 588.1000000000038 -80.0 [190. 190.]\n",
      "2100 839 576.6000000000038 -10.0 [190. 190.]\n",
      "2200 874 563.3000000000038 50.0 [190. 190.]\n",
      "2300 909 550.2000000000037 20.0 [190. 190.]\n",
      "2400 942 536.4000000000037 80.0 [190. 190.]\n",
      "2500 974 522.8000000000037 40.0 [190. 190.]\n",
      "2600 1004 513.6000000000038 -30.0 [190. 190.]\n",
      "2700 1042 502.10000000000366 20.0 [190. 190.]\n",
      "2800 1075 491.4000000000037 -60.0 [190. 190.]\n",
      "2900 1113 478.00000000000364 -10.0 [190. 190.]\n",
      "3000 1148 466.50000000000364 60.0 [190. 190.]\n",
      "3100 1189 451.50000000000364 100.0 [110. 120.]\n",
      "3200 1229 435.00000000000364 30.0 [110. 110.]\n",
      "3300 1271 419.4000000000036 70.0 [100. 110.]\n",
      "3400 1299 409.50000000000364 110.0 [100. 100.]\n",
      "3500 1318 406.2000000000036 70.0 [100. 100.]\n",
      "3600 1329 404.60000000000366 20.0 [100. 100.]\n",
      "3700 1343 401.60000000000366 30.0 [100. 100.]\n",
      "3800 1358 399.4000000000036 50.0 [100. 100.]\n",
      "3900 1368 398.2000000000036 10.0 [100. 100.]\n",
      "4000 1379 397.10000000000366 50.0 [100. 100.]\n",
      "4100 1389 395.9000000000037 100.0 [100. 100.]\n",
      "4200 1398 394.60000000000366 50.0 [100. 100.]\n",
      "4300 1403 393.80000000000365 70.0 [100. 100.]\n",
      "4400 1411 392.4000000000036 70.0 [100. 100.]\n",
      "4500 1417 392.00000000000364 90.0 [100. 100.]\n",
      "4600 1421 391.80000000000365 10.0 [100. 100.]\n",
      "4700 1426 391.2000000000036 30.0 [100. 100.]\n",
      "4800 1429 391.00000000000364 50.0 [100. 100.]\n",
      "4900 1431 390.80000000000365 140.0 [100. 100.]\n",
      "5000 1437 390.2000000000036 100.0 [100. 100.]\n",
      "CPU times: user 1.14 s, sys: 26.2 ms, total: 1.17 s\n",
      "Wall time: 1.62 s\n"
     ]
    }
   ],
   "source": [
    "%%time\n",
    "\n",
    "np.random.seed(43)\n",
    "DEBUG = False\n",
    "THERMO = 100\n",
    "\n",
    "# MC simulation\n",
    "n_steps = int(5e3)\n",
    "n_sim = int(1e3)  # simulation steps after equilibration\n",
    "n_eq = n_steps - n_sim  # equilibration steps\n",
    "\n",
    "# simulation buffers\n",
    "energies = []\n",
    "prices = []\n",
    "avg_Es = np.zeros_like(mat_Es)\n",
    "avg_Ns = np.zeros_like(mat_Ns)\n",
    "\n",
    "n_swap = 0  # number of successful swaps\n",
    "\n",
    "print('step n_swap E dE P')\n",
    "for step in range(n_steps+1):\n",
    "    # select proper levels\n",
    "    while True:\n",
    "        # transfer dN from (i1, j1) to (i2, j2)\n",
    "        i1 = np.random.randint(num_E)\n",
    "        j1 = np.random.randint(num_pp)\n",
    "        i2 = np.random.randint(num_E)\n",
    "        j2 = np.random.randint(num_pp)\n",
    "        if selection_rules(i1, j1, i2, j2) and mat_Ns[i1, j1] > 0 and mat_Ns[i2, j2] < mat_Caps[i2, j2]:\n",
    "            break\n",
    "    if DEBUG:\n",
    "        print(i1, j1, i2, j2)\n",
    "\n",
    "    # swap particles\n",
    "    mat_Ns[i1, j1] -= dN\n",
    "    mat_Ns[i2, j2] += dN\n",
    "    dE = mat_Es[i2, j2] - mat_Es[i1, j1]\n",
    "    if DEBUG:\n",
    "        print(dE)\n",
    "\n",
    "    # perform Metropolis step, return to orign conf, prevent overflow in exp\n",
    "    if np.exp(exp_bounding_fun(-dE/T)) <= np.random.rand():\n",
    "        # reject\n",
    "        mat_Ns[i1, j1] += dN\n",
    "        mat_Ns[i2, j2] -= dN\n",
    "    else:\n",
    "        # accept\n",
    "        n_swap += 1\n",
    "    \n",
    "    # compute observables\n",
    "    E = (mat_Ns * mat_Es).sum()  # total energy\n",
    "    P = np.zeros(num_pp)\n",
    "    for j in range(num_pp):\n",
    "        P[j] = compute_percentile(mat_Ns[:, j], mat_Es[:, j], 90, dN)\n",
    "    energies.append(E)\n",
    "    prices.append(P)\n",
    "    if step >= n_eq:\n",
    "        avg_Ns += mat_Ns\n",
    "\n",
    "    if step % THERMO == 0:\n",
    "        print(step, n_swap, E, dE, P)\n",
    "\n",
    "# post-process\n",
    "avg_Ns = avg_Ns / n_sim"
   ]
  },
  {
   "cell_type": "code",
   "execution_count": 65,
   "metadata": {},
   "outputs": [
    {
     "data": {
      "image/png": "[encoded data removed]",
      "text/plain": [
       "<Figure size 640x480 with 2 Axes>"
      ]
     },
     "metadata": {},
     "output_type": "display_data"
    }
   ],
   "source": [
    "# plot distribution\n",
    "plt.imshow(avg_Ns)\n",
    "plt.xlabel('Power plants')\n",
    "plt.ylabel('Mines')\n",
    "plt.colorbar()\n",
    "plt.grid()"
   ]
  },
  {
   "cell_type": "code",
   "execution_count": 68,
   "metadata": {},
   "outputs": [
    {
     "data": {
      "image/png": "[encoded data removed]",
      "text/plain": [
       "<Figure size 640x480 with 1 Axes>"
      ]
     },
     "metadata": {},
     "output_type": "display_data"
    }
   ],
   "source": [
    "for j in range(num_pp):\n",
    "    plt.plot(mat_Es[:, j], mat_Ns[:, j])\n",
    "\n",
    "plt.xlabel('Cash costs (USD/t)')\n",
    "plt.ylabel('Volumes (Mt)')\n",
    "plt.grid()"
   ]
  },
  {
   "cell_type": "code",
   "execution_count": null,
   "metadata": {},
   "outputs": [],
   "source": []
  }
 ],
 "metadata": {
  "kernelspec": {
   "display_name": "base",
   "language": "python",
   "name": "python3"
  },
  "language_info": {
   "codemirror_mode": {
    "name": "ipython",
    "version": 3
   },
   "file_extension": ".py",
   "mimetype": "text/x-python",
   "name": "python",
   "nbconvert_exporter": "python",
   "pygments_lexer": "ipython3",
   "version": "3.11.7"
  }
 },
 "nbformat": 4,
 "nbformat_minor": 2
}

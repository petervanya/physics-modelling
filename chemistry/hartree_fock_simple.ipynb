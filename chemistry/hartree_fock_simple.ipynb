{
 "cells": [
  {
   "cell_type": "markdown",
   "id": "agreed-wallace",
   "metadata": {},
   "source": [
    "# Hartree-Fock approximation"
   ]
  },
  {
   "cell_type": "code",
   "execution_count": 38,
   "id": "filled-harvey",
   "metadata": {},
   "outputs": [],
   "source": [
    "import numpy as np\n",
    "from numpy.linalg import norm\n",
    "from numba import jit\n",
    "\n",
    "import matplotlib.pyplot as plt"
   ]
  },
  {
   "cell_type": "code",
   "execution_count": 3,
   "id": "healthy-works",
   "metadata": {},
   "outputs": [],
   "source": [
    "# distance of H2 atoms 0.74 A\n",
    "R1 = np.array([0., 0., 0.])\n",
    "R2 = np.array([0., 0., 1.45])\n",
    "\n",
    "Z1 = 1.0\n",
    "Z2 = 1.0\n",
    "\n",
    "N = 2 # number of electrons\n",
    "\n",
    "\n",
    "alpha_1g = 0.27 # STO-1G orbital"
   ]
  },
  {
   "cell_type": "markdown",
   "id": "descending-suggestion",
   "metadata": {},
   "source": [
    "## Orbitals"
   ]
  },
  {
   "cell_type": "code",
   "execution_count": 147,
   "id": "turkish-tuition",
   "metadata": {},
   "outputs": [],
   "source": [
    "@jit(nopython=True)\n",
    "def orbital_1s(r, r0, alpha=0.27):\n",
    "    \"\"\"STO-1G orbital\"\"\"\n",
    "    r = np.asarray(r)\n",
    "    r0 = np.asarray(r0)\n",
    "    return np.exp(-alpha * (r - r0)@(r - r0)) * (2*alpha / np.pi)**(3./4.)\n",
    "\n",
    "\n",
    "@jit(nopython=True)\n",
    "def orbital_1s_1D(r, r0, alpha=0.27):\n",
    "    \"\"\"for training\"\"\"\n",
    "    r = np.asarray(r)\n",
    "    r0 = np.asarray(r0)\n",
    "    return np.exp(-alpha * (r - r0)**2) * (2*alpha / np.pi)**(1./4.)\n",
    "\n",
    "\n",
    "def orbital_1s_2g(r, r0, w=[0.68, 0.43], a=[0.15, 0.85]):\n",
    "    \"\"\"STO-2G orbital\"\"\"\n",
    "    return w[0] * orbital_1s(r, r0, a[0]) + \\\n",
    "        w[1] * orbital_1s(r, r0, a[1])\n",
    "\n",
    "\n",
    "def orbital_1s_3g(r, r0, w=[0.44, 0.54, 0.41], a=[0.11, 0.41, 2.23]):\n",
    "    \"\"\"STO-3G orbital\"\"\"\n",
    "    return w[0] * orbital_1s(r, r0, w[0], a[0]) + \\\n",
    "        orbital_1s(r, r0, w[1], a[1]) + \\\n",
    "        orbital_1s(r, r0, w[2], a[2])"
   ]
  },
  {
   "cell_type": "code",
   "execution_count": 148,
   "id": "hidden-triumph",
   "metadata": {},
   "outputs": [
    {
     "data": {
      "text/plain": [
       "0.26695183797870803"
      ]
     },
     "execution_count": 148,
     "metadata": {},
     "output_type": "execute_result"
    }
   ],
   "source": [
    "orbital_1s(np.array([0., 0., 0.]), R1)"
   ]
  },
  {
   "cell_type": "code",
   "execution_count": 149,
   "id": "improving-radar",
   "metadata": {},
   "outputs": [
    {
     "data": {
      "text/plain": [
       "[<matplotlib.lines.Line2D at 0x7fed77a7e910>]"
      ]
     },
     "execution_count": 149,
     "metadata": {},
     "output_type": "execute_result"
    },
    {
     "data": {
      "image/png": "[encoded data removed]",
      "text/plain": [
       "<Figure size 432x288 with 1 Axes>"
      ]
     },
     "metadata": {
      "needs_background": "light"
     },
     "output_type": "display_data"
    }
   ],
   "source": [
    "# plot the orbital/density\n",
    "\n",
    "rs = np.linspace(-5, 5, 101)\n",
    "phis = [orbital_1s_1D(ri, R1[0]) for ri in rs]\n",
    "rhos = [orbital_1s_1D(ri**2, R1[0]) for ri in rs]\n",
    "\n",
    "plt.plot(rs, rhos)\n",
    "plt.plot(rs, phis)"
   ]
  },
  {
   "cell_type": "code",
   "execution_count": 150,
   "id": "tropical-stationery",
   "metadata": {},
   "outputs": [
    {
     "data": {
      "text/plain": [
       "1.619276861531746"
      ]
     },
     "execution_count": 150,
     "metadata": {},
     "output_type": "execute_result"
    }
   ],
   "source": [
    "# test simple integration\n",
    "np.sum(rhos) * (rs[1] - rs[0])"
   ]
  },
  {
   "cell_type": "code",
   "execution_count": 151,
   "id": "heated-sunday",
   "metadata": {},
   "outputs": [
    {
     "data": {
      "text/plain": [
       "1.008719304817534"
      ]
     },
     "execution_count": 151,
     "metadata": {},
     "output_type": "execute_result"
    }
   ],
   "source": [
    "# test MC integration on a simple function\n",
    "\n",
    "def test_mc_integration():\n",
    "    np.random.seed(42)\n",
    "    \n",
    "    @jit(nopython=True)\n",
    "    def func(x):\n",
    "        # return x**9\n",
    "        return np.exp(-x**2) / np.sqrt(np.pi)\n",
    "\n",
    "    n_pts = 20_000\n",
    "    # x_min, x_max = 0., 1.\n",
    "    x_min, x_max = -3., 3.\n",
    "    V = x_max - x_min\n",
    "\n",
    "    pts = np.random.uniform(x_min, x_max, size=(n_pts))\n",
    "\n",
    "    I = 0.0\n",
    "    for pt in pts:\n",
    "        I += func(pt)\n",
    "\n",
    "    I *= V / n_pts\n",
    "    return I\n",
    "\n",
    "test_mc_integration()"
   ]
  },
  {
   "cell_type": "code",
   "execution_count": 153,
   "id": "mounted-floating",
   "metadata": {},
   "outputs": [
    {
     "data": {
      "text/plain": [
       "1.0113250890220704"
      ]
     },
     "execution_count": 153,
     "metadata": {},
     "output_type": "execute_result"
    }
   ],
   "source": [
    "# test orbital density MC integration in 1d\n",
    "np.random.seed(42)\n",
    "r_min, r_max = -5.0, 5.0\n",
    "V_single = r_max - r_min\n",
    "\n",
    "n_pts = 20_000\n",
    "pts = np.random.uniform(r_min, r_max, size=(n_pts,))\n",
    "\n",
    "I = 0.0\n",
    "for pt in pts:\n",
    "    I += orbital_1s_1D(pt, R1[0])**2 # density\n",
    "\n",
    "I *= V_single / n_pts\n",
    "I"
   ]
  },
  {
   "cell_type": "code",
   "execution_count": 155,
   "id": "documentary-process",
   "metadata": {},
   "outputs": [
    {
     "data": {
      "text/plain": [
       "0.9945444272799734"
      ]
     },
     "execution_count": 155,
     "metadata": {},
     "output_type": "execute_result"
    }
   ],
   "source": [
    "# test orbital density MC integration in 3d\n",
    "np.random.seed(42)\n",
    "r_min, r_max = -5.0, 5.0\n",
    "V_single = (r_max - r_min)**3\n",
    "\n",
    "n_pts = 50_000\n",
    "pts = np.random.uniform(r_min, r_max, size=(n_pts, 3))\n",
    "\n",
    "I = 0.0\n",
    "for pt in pts:\n",
    "    I += orbital_1s(pt, R1)**2 # density\n",
    "\n",
    "I *= V_single / n_pts\n",
    "I"
   ]
  },
  {
   "cell_type": "markdown",
   "id": "manual-broadway",
   "metadata": {},
   "source": [
    "## Compute fixed matrices"
   ]
  },
  {
   "cell_type": "code",
   "execution_count": 161,
   "id": "stylish-airline",
   "metadata": {},
   "outputs": [],
   "source": [
    "# generate random points\n",
    "np.random.seed(42)\n",
    "n_pts = 50_000\n",
    "r_min, r_max = -6.0, 7.5\n",
    "V_single = (r_max - r_min)**3\n",
    "pts = np.random.uniform(r_min, r_max, size=(n_pts, 3))\n",
    "\n",
    "pts1 = pts\n",
    "pts2 = np.random.uniform(r_min, r_max, size=(n_pts, 3))\n",
    "V_double = (r_max - r_min)**6"
   ]
  },
  {
   "cell_type": "code",
   "execution_count": 166,
   "id": "broken-advocacy",
   "metadata": {},
   "outputs": [],
   "source": [
    "@jit(nopython=True)\n",
    "def overlap_integrals(R1, R2, pts1, pts2):\n",
    "\n",
    "    # FILL\n",
    "    I1 = 0.0\n",
    "    for r1, r2 in zip(pts1, pts2):\n",
    "        r12 = (r1 - r2) @ (r1 - r2)\n",
    "        I1 += orbital_1s(r1, R1)**2 * orbital_1s(r2, R2)**2 / r12\n",
    "        \n",
    "    I1 *= V_double / n_pts\n",
    "    \n",
    "    \n",
    "    mat = np.zeros(size=(2, 2, 2, 2))\n",
    "    # FILL mat elements\n",
    "    \n",
    "    return mat\n",
    "\n",
    "\n",
    "def kinetic_energy():\n",
    "    pass\n",
    "\n",
    "\n",
    "@jit(nopython=True)\n",
    "def nuclear_energy_term(R1, R2, Z1, Z2, pts):\n",
    "    \"\"\"Compute V_nucl\"\"\"\n",
    "    V11 = 0.0\n",
    "    for r in pts:\n",
    "        central_term = - Z1 / norm(r - R1) - Z2 / norm(r - R2)\n",
    "        V11 += orbital_1s(r, R1) * orbital_1s(r, R1) * central_term\n",
    "        \n",
    "    V11 *= V_single / n_pts\n",
    "    \n",
    "    V22 = 0.0\n",
    "    for r in pts:\n",
    "        central_term = - Z1 / norm(r - R1) - Z2 / norm(r - R2)\n",
    "        V22 += orbital_1s(r, R2) * orbital_1s(r, R2) * central_term\n",
    "        \n",
    "    V22 *= V_single / n_pts\n",
    "        \n",
    "    V12 = 0.0\n",
    "    for r in pts:\n",
    "        central_term = - Z1 / norm(r - R1) - Z2 / norm(r - R2)\n",
    "        V12 += orbital_1s(r, R1) * orbital_1s(r, R2) * central_term\n",
    "        \n",
    "    V12 *= V_single / n_pts\n",
    "    \n",
    "    mat = np.array([[V11, V12], [V12, V22]])\n",
    "    return mat\n",
    "\n",
    "\n",
    "@jit(nopython=True)\n",
    "def overlap_matrix(R1, R2, pts):\n",
    "    \"\"\"Compute Sij\"\"\"\n",
    "    def func(r):\n",
    "        # return (orbital_1s(r, R1) + orbital_1s(r, R2)) / np.sqrt(2.0)\n",
    "        return orbital_1s(r, R1) * orbital_1s(r, R2)\n",
    "    \n",
    "    # s = compute_single_integral(orbital_1s, orbital_1s, R1, R2, pts)\n",
    "    s = 0.0\n",
    "    n_pts = len(pts)\n",
    "    for r in pts:\n",
    "        s += func(r)\n",
    "    \n",
    "    s *= V_single / n_pts\n",
    "    \n",
    "    S = np.array([[1.0, s], [s, 1.0]])\n",
    "    return S"
   ]
  },
  {
   "cell_type": "code",
   "execution_count": 160,
   "id": "driven-twins",
   "metadata": {},
   "outputs": [
    {
     "name": "stdout",
     "output_type": "stream",
     "text": [
      "CPU times: user 596 ms, sys: 23.4 ms, total: 619 ms\n",
      "Wall time: 626 ms\n"
     ]
    },
    {
     "data": {
      "text/plain": [
       "array([[1.        , 0.85676442],\n",
       "       [0.85676442, 1.        ]])"
      ]
     },
     "execution_count": 160,
     "metadata": {},
     "output_type": "execute_result"
    }
   ],
   "source": [
    "%%time\n",
    "\n",
    "overlap_matrix(R1, R2, pts)"
   ]
  },
  {
   "cell_type": "code",
   "execution_count": 167,
   "id": "internal-praise",
   "metadata": {},
   "outputs": [
    {
     "name": "stdout",
     "output_type": "stream",
     "text": [
      "CPU times: user 1.09 s, sys: 37.9 ms, total: 1.13 s\n",
      "Wall time: 1.14 s\n"
     ]
    },
    {
     "data": {
      "text/plain": [
       "array([[-1.47593502, -1.33821354],\n",
       "       [-1.33821354, -1.48520007]])"
      ]
     },
     "execution_count": 167,
     "metadata": {},
     "output_type": "execute_result"
    }
   ],
   "source": [
    "%%time\n",
    "\n",
    "nuclear_energy_term(R1, R2, Z1, Z2, pts)"
   ]
  },
  {
   "cell_type": "code",
   "execution_count": null,
   "id": "overhead-syndication",
   "metadata": {},
   "outputs": [],
   "source": []
  },
  {
   "cell_type": "code",
   "execution_count": null,
   "id": "arabic-length",
   "metadata": {},
   "outputs": [],
   "source": [
    "# simulation parameters\n",
    "n_pts = 1_000_000\n",
    "\n",
    "n_cycles = 10"
   ]
  },
  {
   "cell_type": "code",
   "execution_count": 6,
   "id": "industrial-technical",
   "metadata": {},
   "outputs": [],
   "source": [
    "\n",
    "def density_matrix():\n",
    "    pass\n",
    "\n",
    "def g_matrix():\n",
    "    pass\n",
    "\n",
    "def calculate_hf_step():\n",
    "    pass"
   ]
  },
  {
   "cell_type": "code",
   "execution_count": null,
   "id": "automated-wages",
   "metadata": {},
   "outputs": [],
   "source": []
  },
  {
   "cell_type": "code",
   "execution_count": null,
   "id": "appropriate-dairy",
   "metadata": {},
   "outputs": [],
   "source": []
  },
  {
   "cell_type": "code",
   "execution_count": null,
   "id": "dominant-western",
   "metadata": {},
   "outputs": [],
   "source": []
  }
 ],
 "metadata": {
  "kernelspec": {
   "display_name": "Python 3",
   "language": "python",
   "name": "python3"
  },
  "language_info": {
   "codemirror_mode": {
    "name": "ipython",
    "version": 3
   },
   "file_extension": ".py",
   "mimetype": "text/x-python",
   "name": "python",
   "nbconvert_exporter": "python",
   "pygments_lexer": "ipython3",
   "version": "3.7.7"
  }
 },
 "nbformat": 4,
 "nbformat_minor": 5
}

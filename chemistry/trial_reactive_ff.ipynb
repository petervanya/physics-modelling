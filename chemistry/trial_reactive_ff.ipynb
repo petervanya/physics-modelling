{
 "cells": [
  {
   "cell_type": "code",
   "execution_count": 1,
   "id": "17e161c4-406d-49cf-8eae-a35c21b4fe90",
   "metadata": {},
   "outputs": [
    {
     "name": "stderr",
     "output_type": "stream",
     "text": [
      "/var/folders/ht/fh4bytd97pz3m_k1s82rf1vw0000gn/T/ipykernel_76805/1428000839.py:2: DeprecationWarning: \n",
      "Pyarrow will become a required dependency of pandas in the next major release of pandas (pandas 3.0),\n",
      "(to allow more performant data types, such as the Arrow string type, and better interoperability with other libraries)\n",
      "but was not found to be installed on your system.\n",
      "If this would cause problems for you,\n",
      "please provide us feedback at https://github.com/pandas-dev/pandas/issues/54466\n",
      "        \n",
      "  import pandas as pd\n"
     ]
    }
   ],
   "source": [
    "import numpy as np\n",
    "import pandas as pd\n",
    "import jax\n",
    "import jax.numpy as jnp\n",
    "\n",
    "import plotly.express as px\n",
    "\n",
    "from datetime import datetime\n",
    "import time"
   ]
  },
  {
   "cell_type": "code",
   "execution_count": 2,
   "id": "4d24f1ef-aca7-4c84-bc73-9068864dbbe4",
   "metadata": {},
   "outputs": [],
   "source": [
    "class ReactiveFF:\n",
    "    def __init__(\n",
    "        self,\n",
    "        atom_list,\n",
    "        xyz,\n",
    "        box,\n",
    "        gamma=1.0,\n",
    "        seed=42,\n",
    "    ):\n",
    "        np.random.seed(seed)\n",
    "        \n",
    "        # particle params\n",
    "        self.N = len(atom_list)\n",
    "        self.box = jnp.array(box)\n",
    "        self.inv_box = jnp.diag(1.0 / jnp.diag(self.box))\n",
    "\n",
    "        self.X = jnp.asarray(xyz, dtype='float32')\n",
    "        self.V = jnp.zeros_like(xyz)\n",
    "        self.F = jnp.zeros_like(xyz)\n",
    "        self.F_cube = np.zeros((N, N, 3), dtype='float32')\n",
    "        # self.vir = None\n",
    "\n",
    "        # sampling params\n",
    "        self.kT = 1.0\n",
    "        self.gamma = gamma\n",
    "\n",
    "        # integraton params\n",
    "        self.n_steps = None\n",
    "        self.dt = None\n",
    "\n",
    "        # minimisation params\n",
    "        self.n_min = None\n",
    "\n",
    "        # initial functions\n",
    "        self._init_speeds()\n",
    "\n",
    "    def _init_speeds(self):\n",
    "        self.V = np.random.randn(self.N, 3) * np.sqrt(self.kT)\n",
    "        self.V = jnp.asarray(self.V)\n",
    "        self.V = self.V - jnp.sum(self.V, axis=0) / self.N\n",
    "\n",
    "    \"\"\"Physics functions\"\"\"\n",
    "    def compute_ke(self):\n",
    "        \"\"\"Compute kinetic energy\"\"\"\n",
    "        # self.KE = 0.0\n",
    "        # for i in range(len(self.V)):\n",
    "        #     for j in range(3):\n",
    "        #         self.KE += self.V[i, j]**2 / 2.0\n",
    "        # return self.KE\n",
    "        self.KE = jnp.sum(self.V**2) / 2.0  # FEATURE: add mass vector\n",
    "        return self.KE\n",
    "\n",
    "    def compute_pe(self):\n",
    "        \"\"\"Compute potential energy\"\"\"\n",
    "        self.PE = 0.0\n",
    "        for i in range(self.N):\n",
    "            for j in range(i):\n",
    "                self.PE += potential(self.X[i], self.X[j])\n",
    "        return self.PE\n",
    "\n",
    "    def compute_temperature(self):\n",
    "        if self.KE is None:\n",
    "            self.KE = compute_ke()\n",
    "        return self.KE / ((3 * self.N - 3) / 2.0)\n",
    "\n",
    "    def compute_force(self):\n",
    "        \"\"\"Compute force between two particles\"\"\"\n",
    "        for i in range(self.N):\n",
    "            for j in range(i):\n",
    "                # basic variables\n",
    "                ri = self.X[i]\n",
    "                rj = self.X[j]\n",
    "                rij = ri - rj\n",
    "                norm_rij = jnp.linalg.norm(rij)\n",
    "                \n",
    "                # PBC\n",
    "                g = jnp.dot(self.inv_box, rij)\n",
    "                g = g - jnp.round(g, 0)\n",
    "                rij = jnp.dot(self.box, g)\n",
    "\n",
    "                # compute pair force\n",
    "                f_pair = force(potential, ri, rj) # ADD fluct-dissip terms\n",
    "                \n",
    "                # compute total force\n",
    "                self.F_cube[i, j, :] = f_pair\n",
    "\n",
    "        self.F = jnp.sum(self.F_cube, axis=1)\n",
    "        return self.F\n",
    "\n",
    "    \"\"\"\n",
    "    Minimisation\n",
    "    \"\"\"\n",
    "    def minimise(self, n_iter=10, w=1e-7, thermo=1):\n",
    "        print('step ke pe')\n",
    "        \n",
    "        print(\"Minimising... Initial PE: %.3e\" % self.compute_pe())\n",
    "        print(\"step time pe\")\n",
    "        tic = datetime.now()\n",
    "\n",
    "        for i in range(1, n_iter + 1):\n",
    "            self.F = self.compute_force()\n",
    "            self.X += self.F * w\n",
    "            self.X = self.X % np.diag(self.box)\n",
    "            PE = self.compute_pe()\n",
    "\n",
    "            toc = datetime.now()\n",
    "            if i % thermo == 0:\n",
    "                print(f'{i} {toc - tic} {PE}')\n",
    "                \n",
    "        print(f'Minimisation done. Time: {toc - tic} s')\n",
    "\n",
    "\n",
    "    \"\"\"\n",
    "    Integration\n",
    "    \"\"\"\n",
    "    def _euler_step(self):\n",
    "        \"\"\"Perform one euler step\"\"\"\n",
    "        self.compute_force()\n",
    "        self.V += self.F * self.dt\n",
    "        self.X += self.V * self.dt\n",
    "\n",
    "    def _verlet_step(self):\n",
    "        \"\"\"Perform one verlet step\"\"\"\n",
    "        V2 = self.V + 0.5 * self.F * self.dt\n",
    "        self.X += V2 * self.dt\n",
    "        self.compute_force()\n",
    "        self.V = V2 + 0.5 * self.F * self.dt\n",
    "\n",
    "    def run(self):\n",
    "        \"\"\"Integrate the whole thing\"\"\"\n",
    "\n",
    "        self.tic = datetime.now()\n",
    "        # FILL\n",
    "        self.toc = datetime.now()\n",
    "\n",
    "        self._dump_observables()\n",
    "        print(\"Done. Simulation time: %.2f s.\" % (self.toc - self.tic))\n",
    "\n",
    "    def save_frames(self, it):\n",
    "        \"\"\"In the future, modify so that no external function is called\"\"\"\n",
    "        save_xyzfile(f\"Dump/dump_{it:05i}.xyz\", self.bl, self.X)\n",
    "        if self.dump_vel:\n",
    "            save_xyzfile(f\"Dump/dump_{it:05i}.vel\", self.bl, self.V)\n",
    "\n",
    "    def _dump_observables(self):\n",
    "        \"\"\"Save temperature, energies and pressure tensor\n",
    "        components to a file\"\"\"\n",
    "        df_obs = pd.DataFrame(\n",
    "            {\n",
    "                \"temp\": self.T,\n",
    "                \"ke\": self.KE,\n",
    "                \"pe\": self.PE,\n",
    "            }\n",
    "        )\n",
    "        df_obs.to_csv(\"Dump/correl.csv\")\n",
    "\n",
    "\n",
    "\"\"\"\n",
    "Helper functions\n",
    "\"\"\"\n",
    "def potential(r1, r2):\n",
    "    \"\"\"Compute the particle potential\"\"\"\n",
    "    A, B, C = 1.0, 1.5, 1.5\n",
    "    re = 2.0\n",
    "    D = 1e-1\n",
    "    r_cut = 6.0 # adhoc\n",
    "    \n",
    "    r = jnp.linalg.norm(r1 - r2)\n",
    "    V = (A - B * jnp.exp(-C*(r - re)**2)) * jnp.exp(-D*r**2)\n",
    "    return V if r <= r_cut else 0.0\n",
    "\n",
    "\n",
    "def force(pot, r1, r2):\n",
    "    \"\"\"Compute force on particle 1 from particle 2\"\"\"\n",
    "    return -jax.grad(pot)(r1, r2)\n",
    "    \n",
    "\n",
    "def save_xyzfile(fname, names, mat):\n",
    "    \"\"\"Save a coordinate matrix in a xyz format\"\"\"\n",
    "    M = len(mat)\n",
    "    s = f'type,x,y,z\\n'\n",
    "    for i in range(M):\n",
    "        s += f'{names[i]},{mat[i, 0]},{mat[i, 1]},{mat[i, 2]}\\n'\n",
    "    open(fname, 'w').write(s)"
   ]
  },
  {
   "cell_type": "code",
   "execution_count": null,
   "id": "f44b2942-770a-4c2a-8a7b-f0b7f618042a",
   "metadata": {},
   "outputs": [],
   "source": [
    "@jit(nopython=True)\n",
    "def force_numba(\n",
    "    X, V, rho2, bl, ip_A, ip_B, Rd, ip_N_wrap, ip_N_rho, box, gamma, kT, dt\n",
    "):\n",
    "    N = len(X)\n",
    "    F = np.zeros((N, 3))\n",
    "    Fcube = np.zeros((N, N, 3))\n",
    "    inv_box = np.zeros((3, 3))\n",
    "    for i in range(3):\n",
    "        inv_box[i, i] = 1.0 / box[i, i]\n",
    "    g = np.zeros(3)\n",
    "    rij = np.zeros(3)\n",
    "    vij = np.zeros(3)\n",
    "    A = 0.0\n",
    "    nr = 0.0\n",
    "    rhoi = 0.0\n",
    "    rhoj = 0.0\n",
    "    nwi = 0.0\n",
    "    nwj = 0.0\n",
    "    nrho = 0.0\n",
    "    nrm = 0.0\n",
    "    fpair = 0.0\n",
    "\n",
    "    vir = 0.0\n",
    "    sigma = np.zeros(3)\n",
    "    volume = np.linalg.det(box)\n",
    "\n",
    "    for i in range(N):\n",
    "        for j in range(i):\n",
    "            rij = X[i] - X[j]\n",
    "            g = matvecmul(inv_box, rij)\n",
    "            g = g - round_numba(g)\n",
    "            rij = matvecmul(box, g)\n",
    "            vij = V[i] - V[j]\n",
    "\n",
    "            nr = norm_numba(rij)\n",
    "            A = ip_A[bl[i], bl[j]]\n",
    "            rhoi = rho2[i, bl[j]]\n",
    "            rhoj = rho2[j, bl[i]]\n",
    "            rd = Rd[bl[i], bl[j]]\n",
    "            nwi = ip_N_wrap[bl[i]]\n",
    "            nwj = ip_N_wrap[bl[j]]\n",
    "            nrho = ip_N_rho[bl[i], bl[j]]\n",
    "            nrm = (nrho + 1.0) * (nrho + 2.0) * (nrho + 3.0) / (8.0 * pi * rd ** 3)\n",
    "\n",
    "            fpair = (\n",
    "                A * wr(nr)\n",
    "                + ip_B\n",
    "                * (rhoi ** (nwi - 1) + rhoj ** (nwj - 1))\n",
    "                * nrm\n",
    "                * wr(nr / rd) ** (nrho - 1)\n",
    "                * nrho\n",
    "                / rd\n",
    "                - gamma * wr(nr) ** 2 * dot_numba(rij, vij) / nr\n",
    "                + sqrt(2.0 * gamma * kT) * wr(nr) * np.random.randn() / sqrt(dt)\n",
    "            )\n",
    "            Fcube[i, j, :] = fpair / nr * rij\n",
    "            Fcube[j, i, :] = -Fcube[i, j, :]\n",
    "\n",
    "            vir += Fcube[i, j, :] @ rij\n",
    "            sigma += Fcube[i, j, :] * rij\n",
    "\n",
    "            if np.isnan(fpair):\n",
    "                print(\n",
    "                    fpair,\n",
    "                    i,\n",
    "                    j,\n",
    "                    bl[i],\n",
    "                    bl[j],\n",
    "                    \"\\n\",\n",
    "                    rhoi,\n",
    "                    rhoj,\n",
    "                    nrm,\n",
    "                    wr(nr / rd),\n",
    "                    nrho,\n",
    "                    gamma,\n",
    "                    rij,\n",
    "                    vij,\n",
    "                    sqrt(dt),\n",
    "                )\n",
    "                assert False, \"NaN in forces.\"\n",
    "\n",
    "    for i in range(N):\n",
    "        sigma += V[i] * V[i]\n",
    "\n",
    "    sigma = sigma / volume\n",
    "    F = np.sum(Fcube, 1)\n",
    "    return F, vir, sigma\n",
    "\n",
    "\n",
    "@jit(nopython=True)\n",
    "def pe_numba(X, rho2, bl, ip_A, ip_B, ip_N_wrap, box):\n",
    "    N = len(X)\n",
    "    inv_box = np.zeros((3, 3))\n",
    "    for i in range(3):\n",
    "        inv_box[i, i] = 1.0 / box[i, i]\n",
    "    rij = np.zeros(3)\n",
    "    g = np.zeros(3)\n",
    "    nr = 0.0\n",
    "    pe = 0.0\n",
    "    nwi = 0.0\n",
    "\n",
    "    # standard part\n",
    "    for i in range(N):\n",
    "        for j in range(i):\n",
    "            rij = X[i] - X[j]\n",
    "            g = matvecmul(inv_box, rij)\n",
    "            g = g - round_numba(g)\n",
    "            nr = norm_numba(matvecmul(box, g))\n",
    "            pe += ip_A[bl[i], bl[j]] * wr(nr) ** 2 / 2.0\n",
    "\n",
    "    # many-body part\n",
    "    for i in range(N):\n",
    "        nwi = ip_N_wrap[bl[i]]\n",
    "        pe += ip_B * np.sum(rho2[i]) ** nwi / nwi\n",
    "    return pe"
   ]
  },
  {
   "cell_type": "markdown",
   "id": "675e3215-5cfd-40c2-83b4-83bee3ff1c28",
   "metadata": {},
   "source": [
    "## 1. Testing"
   ]
  },
  {
   "cell_type": "markdown",
   "id": "8d91f0ee-6b83-4a82-bdd9-134f26c86118",
   "metadata": {},
   "source": [
    "### 1.1. Random dev feature testing"
   ]
  },
  {
   "cell_type": "code",
   "execution_count": 3,
   "id": "f70a2e5d-7325-4a88-83bd-9ab9d35bd562",
   "metadata": {},
   "outputs": [
    {
     "data": {
      "text/plain": [
       "Array([-1.2274158,  0.       ,  0.       ], dtype=float32)"
      ]
     },
     "execution_count": 3,
     "metadata": {},
     "output_type": "execute_result"
    }
   ],
   "source": [
    "# test potential and force\n",
    "x1 = jnp.asarray([0., 0., 0.])\n",
    "x2 = jnp.asarray([1.5, 0., 0.])\n",
    "# dx = 4: push off to the left, minus\n",
    "# dx = 2.5: push in to the right, plus\n",
    "# dx = 1.5: push in to the left, minus\n",
    "\n",
    "potential(x1, x2)\n",
    "force(potential, x1, x2)"
   ]
  },
  {
   "cell_type": "code",
   "execution_count": 4,
   "id": "6b9d1cf5-87d5-4568-af0f-bdf06c5bbb72",
   "metadata": {},
   "outputs": [],
   "source": [
    "# random numbers\n",
    "np.random.seed(42)\n",
    "\n",
    "x1 = jnp.array(np.random.rand(3)) * 2\n",
    "# x1 = np.ones(3) * 4\n",
    "\n",
    "L = jnp.ones(3) * 2.0\n",
    "box = jnp.diag(L)\n",
    "inv_box = jnp.diag(1.0 / L)"
   ]
  },
  {
   "cell_type": "code",
   "execution_count": 5,
   "id": "410c6361-8969-43f7-b91f-546e408b6a99",
   "metadata": {},
   "outputs": [
    {
     "data": {
      "text/plain": [
       "array([1.4981605, 3.8028572, 2.9279757], dtype=float32)"
      ]
     },
     "execution_count": 5,
     "metadata": {},
     "output_type": "execute_result"
    }
   ],
   "source": [
    "g = np.dot(box, x1)\n",
    "g"
   ]
  },
  {
   "cell_type": "code",
   "execution_count": 6,
   "id": "729b67e2-9e55-4956-8c19-b00a937546b1",
   "metadata": {},
   "outputs": [
    {
     "data": {
      "text/plain": [
       "array([ 0.49816048, -0.19714284, -0.07202435], dtype=float32)"
      ]
     },
     "execution_count": 6,
     "metadata": {},
     "output_type": "execute_result"
    }
   ],
   "source": [
    "g - np.round(g, 0)"
   ]
  },
  {
   "cell_type": "markdown",
   "id": "e70e14a3-0d5b-41f5-bac0-58074eefbe79",
   "metadata": {},
   "source": [
    "### 2. Object testing"
   ]
  },
  {
   "cell_type": "code",
   "execution_count": 16,
   "id": "3af4e7e7-4dae-4a7c-92d5-9f79b8f78f22",
   "metadata": {},
   "outputs": [],
   "source": [
    "np.random.rand(42)\n",
    "\n",
    "N = 100\n",
    "atom_list = [1] * N\n",
    "\n",
    "L = 10.0\n",
    "box = np.diag(np.ones(3) * L)\n",
    "volume = np.prod(np.diag(box))\n",
    "\n",
    "xyz = np.random.rand(N, 3) * L"
   ]
  },
  {
   "cell_type": "code",
   "execution_count": 8,
   "id": "df703bcf-d681-46fa-a45e-122e69ecd469",
   "metadata": {},
   "outputs": [],
   "source": [
    "sim = ReactiveFF(atom_list, xyz, box)"
   ]
  },
  {
   "cell_type": "code",
   "execution_count": 9,
   "id": "c3eb5ec2-b51f-45d4-bf5c-c6a6cc695f75",
   "metadata": {},
   "outputs": [
    {
     "data": {
      "text/plain": [
       "Array(142.4362, dtype=float32)"
      ]
     },
     "execution_count": 9,
     "metadata": {},
     "output_type": "execute_result"
    }
   ],
   "source": [
    "# %timeit sim.compute_ke()\n",
    "sim.compute_ke()"
   ]
  },
  {
   "cell_type": "code",
   "execution_count": 10,
   "id": "851a8cb7-264e-49a3-b096-2901e2b52bab",
   "metadata": {},
   "outputs": [],
   "source": [
    "# %timeit sim.compute_pe()\n",
    "# sim.compute_pe()"
   ]
  },
  {
   "cell_type": "code",
   "execution_count": 11,
   "id": "ad53fac6-da89-4b0c-86b6-a69b28715811",
   "metadata": {
    "scrolled": true
   },
   "outputs": [
    {
     "data": {
      "text/plain": [
       "Array([[ 0.00000000e+00,  0.00000000e+00,  0.00000000e+00],\n",
       "       [-2.28581969e-02, -2.50381138e-02,  8.87226015e-02],\n",
       "       [ 0.00000000e+00,  0.00000000e+00,  0.00000000e+00],\n",
       "       [ 0.00000000e+00,  0.00000000e+00,  0.00000000e+00],\n",
       "       [-3.56067717e-02, -2.03383192e-02, -1.48625840e-02],\n",
       "       [ 4.44130510e-01, -2.88624078e-01,  6.13152742e-01],\n",
       "       [ 2.19781622e-01,  1.17148347e-01,  3.94941986e-01],\n",
       "       [-9.79179740e-02, -2.56437119e-02, -2.98737548e-03],\n",
       "       [ 1.20746620e-01, -4.64469232e-02,  3.42147090e-02],\n",
       "       [ 0.00000000e+00,  0.00000000e+00,  0.00000000e+00],\n",
       "       [ 3.31594884e-01,  1.04899384e-01,  1.97000459e-01],\n",
       "       [ 3.92815262e-01, -8.33743215e-01,  7.95477688e-01],\n",
       "       [-1.80593564e-03, -1.46483332e-01, -1.89177439e-01],\n",
       "       [-7.79105842e-01, -9.54276323e-02, -5.44585466e-01],\n",
       "       [-1.37672782e-01,  7.82314539e-02,  2.40101770e-01],\n",
       "       [ 5.82082033e-01, -4.05476004e-01,  3.55965853e-01],\n",
       "       [-7.29851067e-01, -9.69474316e-01,  3.42680275e-01],\n",
       "       [-9.29246366e-01,  6.38869166e-01, -5.30283988e-01],\n",
       "       [-4.10600632e-01, -3.56556833e-01, -1.76820219e-01],\n",
       "       [ 7.68608823e-02, -9.26637292e-01, -5.71809173e-01],\n",
       "       [-2.66692579e-01,  4.06347334e-01, -9.37327445e-02],\n",
       "       [ 7.03876615e-02, -8.31469148e-03, -6.14504337e-01],\n",
       "       [-6.85724199e-01, -8.20182085e-01, -3.88041943e-01],\n",
       "       [-1.29152298e-01, -8.44684839e-02, -1.32708833e-01],\n",
       "       [-1.01650059e+00, -1.90951809e-01,  1.41346669e+00],\n",
       "       [-1.20024741e-01, -6.27963424e-01, -4.68278825e-01],\n",
       "       [ 9.01356459e-01, -1.46134770e+00, -7.23430157e-01],\n",
       "       [ 5.49925327e-01,  9.29003060e-01,  1.03028812e-01],\n",
       "       [ 3.69075239e-01, -3.25568557e-01, -8.26392829e-01],\n",
       "       [ 1.33317816e+00,  7.00769544e-01, -8.31501842e-01],\n",
       "       [ 5.07773876e-01,  5.03581464e-01, -4.82729822e-02],\n",
       "       [-5.97189605e-01,  2.29531631e-01, -7.02497065e-02],\n",
       "       [ 9.95049775e-02, -8.65168124e-03, -5.85445642e-01],\n",
       "       [ 6.47027194e-01,  4.52153236e-01, -1.98224723e-01],\n",
       "       [-4.87025738e-01, -6.52318597e-01, -2.41999596e-01],\n",
       "       [ 2.61071801e-01, -1.40283793e-01, -1.47995695e-01],\n",
       "       [ 8.76497254e-02,  2.96518087e-01,  2.28681788e-01],\n",
       "       [-3.02432448e-01,  1.96227515e+00,  1.09905434e+00],\n",
       "       [ 1.59442747e+00,  4.66161788e-01,  1.06371808e+00],\n",
       "       [ 5.37385345e-01,  7.89100885e-01,  4.43384767e-01],\n",
       "       [-1.12186861e+00,  6.37404561e-01, -2.40914315e-01],\n",
       "       [-5.39240181e-01,  1.31916404e-02, -2.42407709e-01],\n",
       "       [ 4.07268584e-01,  6.30049855e-02, -1.20725647e-01],\n",
       "       [ 8.60674620e-01,  8.12390089e-01, -6.56124726e-02],\n",
       "       [-1.13208497e+00, -4.97274697e-02, -1.38008869e+00],\n",
       "       [ 3.37495387e-01, -5.75792491e-02,  1.03862524e+00],\n",
       "       [-8.40721726e-01, -2.73572981e-01, -1.38672203e-01],\n",
       "       [ 2.99795121e-02, -1.20851111e+00,  9.42119300e-01],\n",
       "       [-2.16258717e+00,  3.31001878e-01, -3.76909316e-01],\n",
       "       [ 2.73044944e-01,  1.09931636e+00,  2.47289062e-01],\n",
       "       [-7.75510490e-01,  4.63117272e-01,  5.82731813e-02],\n",
       "       [-9.99233127e-03, -3.57599229e-01,  2.32392207e-01],\n",
       "       [ 4.42057848e-04, -7.65232682e-01,  1.01604432e-01],\n",
       "       [-1.47188604e-01, -5.46460271e-01,  7.98768923e-02],\n",
       "       [ 4.78652120e-01, -7.01363981e-01,  4.40068036e-01],\n",
       "       [ 4.04393733e-01,  9.91817951e-01,  9.89905834e-01],\n",
       "       [-9.40174699e-01, -5.46548843e-01, -5.61388969e-01],\n",
       "       [-5.57578564e-01,  7.82909244e-02,  1.10622048e+00],\n",
       "       [ 5.12578368e-01,  2.22872496e-02, -5.89017808e-01],\n",
       "       [ 3.44598293e-02, -9.87106085e-01,  2.19642550e-01],\n",
       "       [ 3.05407673e-01,  8.56440485e-01, -1.52535129e+00],\n",
       "       [ 4.16747451e-01,  3.79689664e-01, -1.05137551e+00],\n",
       "       [-2.86254078e-01,  8.27615112e-02,  6.92393184e-01],\n",
       "       [-1.21644235e+00,  9.08641815e-02, -8.20245028e-01],\n",
       "       [ 1.26769078e+00,  1.56028986e+00, -5.39468706e-01],\n",
       "       [ 1.13130879e+00,  3.66143435e-01,  4.02677089e-01],\n",
       "       [ 2.17670965e+00, -2.22849679e+00,  1.44051921e+00],\n",
       "       [ 5.08400798e-01, -4.33483124e-01,  7.07112402e-02],\n",
       "       [ 1.73026517e-01, -3.32264900e-01,  7.83553481e-01],\n",
       "       [-5.62957883e-01,  4.15568233e-01, -1.96802139e-01],\n",
       "       [-2.73963720e-01, -2.43276954e-01, -1.62915766e+00],\n",
       "       [-3.99033546e-01, -4.84998494e-01, -1.17520642e+00],\n",
       "       [ 1.05350316e-01,  2.71929443e-01,  2.49833107e-01],\n",
       "       [ 3.28467369e-01,  1.25809205e+00,  1.10949254e+00],\n",
       "       [-8.99335802e-01, -2.94305980e-02, -1.32901740e+00],\n",
       "       [ 1.54422116e+00, -1.35307753e+00, -5.20991981e-01],\n",
       "       [ 1.40934706e+00, -1.99733841e+00,  2.09395707e-01],\n",
       "       [-2.63227201e+00, -1.15335619e+00,  1.15452027e+00],\n",
       "       [ 4.47167039e-01, -3.96655560e-01, -1.17250013e+00],\n",
       "       [ 4.14381713e-01,  7.53489733e-02,  2.36949742e-01],\n",
       "       [-8.72239113e-01, -1.01728916e+00, -9.62283969e-01],\n",
       "       [-1.14426899e+00,  7.30611086e-01,  8.39116752e-01],\n",
       "       [ 1.36719799e+00,  2.85468936e-01, -1.00819337e+00],\n",
       "       [ 4.90967572e-01, -9.94387746e-01,  1.54105687e+00],\n",
       "       [-2.39578032e+00, -4.41667199e-01,  1.18082893e+00],\n",
       "       [-4.60115492e-01, -3.75694185e-02, -2.87153125e-02],\n",
       "       [ 8.32914531e-01,  1.39312708e+00,  6.75662160e-02],\n",
       "       [ 5.67249656e-01, -1.26548052e+00, -2.40761369e-01],\n",
       "       [ 1.57775804e-02, -1.18036330e+00,  1.01997173e+00],\n",
       "       [-1.79792738e+00,  4.09503281e-01,  4.35991019e-01],\n",
       "       [ 2.39473581e-01,  4.28611785e-02, -1.34213781e+00],\n",
       "       [ 6.97612226e-01, -8.45151722e-01,  1.72242618e+00],\n",
       "       [ 1.24571085e+00,  2.83870697e-01, -3.99868309e-01],\n",
       "       [ 1.98054564e+00, -1.67694640e+00, -1.86940587e+00],\n",
       "       [ 8.86650562e-01,  1.80662513e-01, -1.28066111e+00],\n",
       "       [-1.57310665e+00,  1.52046227e+00,  2.29258969e-01],\n",
       "       [-9.42033827e-02, -5.43859839e-01,  2.96269536e-01],\n",
       "       [-1.60962534e+00,  3.41301346e+00, -1.76431572e+00],\n",
       "       [ 2.68320620e-01, -1.80713236e+00, -2.56915641e+00],\n",
       "       [-1.50198364e+00, -1.97435474e+00,  8.99751246e-01]],      dtype=float32)"
      ]
     },
     "execution_count": 11,
     "metadata": {},
     "output_type": "execute_result"
    }
   ],
   "source": [
    "sim.compute_force()"
   ]
  },
  {
   "cell_type": "markdown",
   "id": "bde90aa7-0a08-425b-a9c3-a40ed995a348",
   "metadata": {},
   "source": [
    "### 3. Minimisation"
   ]
  },
  {
   "cell_type": "code",
   "execution_count": 12,
   "id": "75d0930b-aa27-4a76-84f7-0b29f82f80ac",
   "metadata": {},
   "outputs": [
    {
     "name": "stdout",
     "output_type": "stream",
     "text": [
      "step ke pe\n",
      "Minimising... Initial PE: 2.149e+02\n",
      "step time pe\n",
      "1 0:00:59.086865 214.87643432617188\n",
      "2 0:01:49.428413 214.87646484375\n",
      "3 0:02:42.409101 214.87643432617188\n",
      "4 0:03:34.832728 214.87643432617188\n",
      "5 0:04:24.704217 214.87643432617188\n",
      "6 0:05:14.621698 214.8763885498047\n",
      "7 0:06:04.242092 214.87637329101562\n",
      "8 0:06:53.466507 214.8763427734375\n"
     ]
    },
    {
     "ename": "KeyboardInterrupt",
     "evalue": "",
     "output_type": "error",
     "traceback": [
      "\u001b[0;31m---------------------------------------------------------------------------\u001b[0m",
      "\u001b[0;31mKeyboardInterrupt\u001b[0m                         Traceback (most recent call last)",
      "Cell \u001b[0;32mIn[12], line 1\u001b[0m\n\u001b[0;32m----> 1\u001b[0m \u001b[43msim\u001b[49m\u001b[38;5;241;43m.\u001b[39;49m\u001b[43mminimise\u001b[49m\u001b[43m(\u001b[49m\u001b[43m)\u001b[49m\n",
      "Cell \u001b[0;32mIn[2], line 101\u001b[0m, in \u001b[0;36mReactiveFF.minimise\u001b[0;34m(self, n_iter, w, thermo)\u001b[0m\n\u001b[1;32m     98\u001b[0m tic \u001b[38;5;241m=\u001b[39m datetime\u001b[38;5;241m.\u001b[39mnow()\n\u001b[1;32m    100\u001b[0m \u001b[38;5;28;01mfor\u001b[39;00m i \u001b[38;5;129;01min\u001b[39;00m \u001b[38;5;28mrange\u001b[39m(\u001b[38;5;241m1\u001b[39m, n_iter \u001b[38;5;241m+\u001b[39m \u001b[38;5;241m1\u001b[39m):\n\u001b[0;32m--> 101\u001b[0m     \u001b[38;5;28mself\u001b[39m\u001b[38;5;241m.\u001b[39mF \u001b[38;5;241m=\u001b[39m \u001b[38;5;28;43mself\u001b[39;49m\u001b[38;5;241;43m.\u001b[39;49m\u001b[43mcompute_force\u001b[49m\u001b[43m(\u001b[49m\u001b[43m)\u001b[49m\n\u001b[1;32m    102\u001b[0m     \u001b[38;5;28mself\u001b[39m\u001b[38;5;241m.\u001b[39mX \u001b[38;5;241m+\u001b[39m\u001b[38;5;241m=\u001b[39m \u001b[38;5;28mself\u001b[39m\u001b[38;5;241m.\u001b[39mF \u001b[38;5;241m*\u001b[39m w\n\u001b[1;32m    103\u001b[0m     \u001b[38;5;28mself\u001b[39m\u001b[38;5;241m.\u001b[39mX \u001b[38;5;241m=\u001b[39m \u001b[38;5;28mself\u001b[39m\u001b[38;5;241m.\u001b[39mX \u001b[38;5;241m%\u001b[39m np\u001b[38;5;241m.\u001b[39mdiag(\u001b[38;5;28mself\u001b[39m\u001b[38;5;241m.\u001b[39mbox)\n",
      "Cell \u001b[0;32mIn[2], line 82\u001b[0m, in \u001b[0;36mReactiveFF.compute_force\u001b[0;34m(self)\u001b[0m\n\u001b[1;32m     79\u001b[0m rij \u001b[38;5;241m=\u001b[39m jnp\u001b[38;5;241m.\u001b[39mdot(\u001b[38;5;28mself\u001b[39m\u001b[38;5;241m.\u001b[39mbox, g)\n\u001b[1;32m     81\u001b[0m \u001b[38;5;66;03m# compute pair force\u001b[39;00m\n\u001b[0;32m---> 82\u001b[0m f_pair \u001b[38;5;241m=\u001b[39m \u001b[43mforce\u001b[49m\u001b[43m(\u001b[49m\u001b[43mpotential\u001b[49m\u001b[43m,\u001b[49m\u001b[43m \u001b[49m\u001b[43mri\u001b[49m\u001b[43m,\u001b[49m\u001b[43m \u001b[49m\u001b[43mrj\u001b[49m\u001b[43m)\u001b[49m \u001b[38;5;66;03m# ADD fluct-dissip terms\u001b[39;00m\n\u001b[1;32m     84\u001b[0m \u001b[38;5;66;03m# compute total force\u001b[39;00m\n\u001b[1;32m     85\u001b[0m \u001b[38;5;28mself\u001b[39m\u001b[38;5;241m.\u001b[39mF_cube[i, j, :] \u001b[38;5;241m=\u001b[39m f_pair\n",
      "Cell \u001b[0;32mIn[2], line 175\u001b[0m, in \u001b[0;36mforce\u001b[0;34m(pot, r1, r2)\u001b[0m\n\u001b[1;32m    173\u001b[0m \u001b[38;5;28;01mdef\u001b[39;00m \u001b[38;5;21mforce\u001b[39m(pot, r1, r2):\n\u001b[1;32m    174\u001b[0m \u001b[38;5;250m    \u001b[39m\u001b[38;5;124;03m\"\"\"Compute force on particle 1 from particle 2\"\"\"\u001b[39;00m\n\u001b[0;32m--> 175\u001b[0m     \u001b[38;5;28;01mreturn\u001b[39;00m \u001b[38;5;241m-\u001b[39m\u001b[43mjax\u001b[49m\u001b[38;5;241;43m.\u001b[39;49m\u001b[43mgrad\u001b[49m\u001b[43m(\u001b[49m\u001b[43mpot\u001b[49m\u001b[43m)\u001b[49m\u001b[43m(\u001b[49m\u001b[43mr1\u001b[49m\u001b[43m,\u001b[49m\u001b[43m \u001b[49m\u001b[43mr2\u001b[49m\u001b[43m)\u001b[49m\n",
      "    \u001b[0;31m[... skipping hidden 1 frame]\u001b[0m\n",
      "File \u001b[0;32m~/Tatra/UHP/Code/Learning/venv11/lib/python3.11/site-packages/jax/_src/api.py:659\u001b[0m, in \u001b[0;36mgrad.<locals>.grad_f\u001b[0;34m(*args, **kwargs)\u001b[0m\n\u001b[1;32m    656\u001b[0m \u001b[38;5;129m@wraps\u001b[39m(fun, docstr\u001b[38;5;241m=\u001b[39mdocstr, argnums\u001b[38;5;241m=\u001b[39margnums)\n\u001b[1;32m    657\u001b[0m \u001b[38;5;129m@api_boundary\u001b[39m\n\u001b[1;32m    658\u001b[0m \u001b[38;5;28;01mdef\u001b[39;00m \u001b[38;5;21mgrad_f\u001b[39m(\u001b[38;5;241m*\u001b[39margs, \u001b[38;5;241m*\u001b[39m\u001b[38;5;241m*\u001b[39mkwargs):\n\u001b[0;32m--> 659\u001b[0m   _, g \u001b[38;5;241m=\u001b[39m \u001b[43mvalue_and_grad_f\u001b[49m\u001b[43m(\u001b[49m\u001b[38;5;241;43m*\u001b[39;49m\u001b[43margs\u001b[49m\u001b[43m,\u001b[49m\u001b[43m \u001b[49m\u001b[38;5;241;43m*\u001b[39;49m\u001b[38;5;241;43m*\u001b[39;49m\u001b[43mkwargs\u001b[49m\u001b[43m)\u001b[49m\n\u001b[1;32m    660\u001b[0m   \u001b[38;5;28;01mreturn\u001b[39;00m g\n",
      "    \u001b[0;31m[... skipping hidden 1 frame]\u001b[0m\n",
      "File \u001b[0;32m~/Tatra/UHP/Code/Learning/venv11/lib/python3.11/site-packages/jax/_src/api.py:735\u001b[0m, in \u001b[0;36mvalue_and_grad.<locals>.value_and_grad_f\u001b[0;34m(*args, **kwargs)\u001b[0m\n\u001b[1;32m    733\u001b[0m   _check_input_dtype_grad(holomorphic, allow_int, leaf)\n\u001b[1;32m    734\u001b[0m \u001b[38;5;28;01mif\u001b[39;00m \u001b[38;5;129;01mnot\u001b[39;00m has_aux:\n\u001b[0;32m--> 735\u001b[0m   ans, vjp_py \u001b[38;5;241m=\u001b[39m \u001b[43m_vjp\u001b[49m\u001b[43m(\u001b[49m\u001b[43mf_partial\u001b[49m\u001b[43m,\u001b[49m\u001b[43m \u001b[49m\u001b[38;5;241;43m*\u001b[39;49m\u001b[43mdyn_args\u001b[49m\u001b[43m,\u001b[49m\u001b[43m \u001b[49m\u001b[43mreduce_axes\u001b[49m\u001b[38;5;241;43m=\u001b[39;49m\u001b[43mreduce_axes\u001b[49m\u001b[43m)\u001b[49m\n\u001b[1;32m    736\u001b[0m \u001b[38;5;28;01melse\u001b[39;00m:\n\u001b[1;32m    737\u001b[0m   ans, vjp_py, aux \u001b[38;5;241m=\u001b[39m _vjp(\n\u001b[1;32m    738\u001b[0m       f_partial, \u001b[38;5;241m*\u001b[39mdyn_args, has_aux\u001b[38;5;241m=\u001b[39m\u001b[38;5;28;01mTrue\u001b[39;00m, reduce_axes\u001b[38;5;241m=\u001b[39mreduce_axes)\n",
      "File \u001b[0;32m~/Tatra/UHP/Code/Learning/venv11/lib/python3.11/site-packages/jax/_src/api.py:2223\u001b[0m, in \u001b[0;36m_vjp\u001b[0;34m(fun, has_aux, reduce_axes, *primals)\u001b[0m\n\u001b[1;32m   2221\u001b[0m \u001b[38;5;28;01mif\u001b[39;00m \u001b[38;5;129;01mnot\u001b[39;00m has_aux:\n\u001b[1;32m   2222\u001b[0m   flat_fun, out_tree \u001b[38;5;241m=\u001b[39m flatten_fun_nokwargs(fun, in_tree)\n\u001b[0;32m-> 2223\u001b[0m   out_primal, out_vjp \u001b[38;5;241m=\u001b[39m \u001b[43mad\u001b[49m\u001b[38;5;241;43m.\u001b[39;49m\u001b[43mvjp\u001b[49m\u001b[43m(\u001b[49m\n\u001b[1;32m   2224\u001b[0m \u001b[43m      \u001b[49m\u001b[43mflat_fun\u001b[49m\u001b[43m,\u001b[49m\u001b[43m \u001b[49m\u001b[43mprimals_flat\u001b[49m\u001b[43m,\u001b[49m\u001b[43m \u001b[49m\u001b[43mreduce_axes\u001b[49m\u001b[38;5;241;43m=\u001b[39;49m\u001b[43mreduce_axes\u001b[49m\u001b[43m)\u001b[49m\n\u001b[1;32m   2225\u001b[0m   out_tree \u001b[38;5;241m=\u001b[39m out_tree()\n\u001b[1;32m   2226\u001b[0m \u001b[38;5;28;01melse\u001b[39;00m:\n",
      "File \u001b[0;32m~/Tatra/UHP/Code/Learning/venv11/lib/python3.11/site-packages/jax/_src/interpreters/ad.py:142\u001b[0m, in \u001b[0;36mvjp\u001b[0;34m(traceable, primals, has_aux, reduce_axes)\u001b[0m\n\u001b[1;32m    140\u001b[0m \u001b[38;5;28;01mdef\u001b[39;00m \u001b[38;5;21mvjp\u001b[39m(traceable, primals, has_aux\u001b[38;5;241m=\u001b[39m\u001b[38;5;28;01mFalse\u001b[39;00m, reduce_axes\u001b[38;5;241m=\u001b[39m()):\n\u001b[1;32m    141\u001b[0m   \u001b[38;5;28;01mif\u001b[39;00m \u001b[38;5;129;01mnot\u001b[39;00m has_aux:\n\u001b[0;32m--> 142\u001b[0m     out_primals, pvals, jaxpr, consts \u001b[38;5;241m=\u001b[39m \u001b[43mlinearize\u001b[49m\u001b[43m(\u001b[49m\u001b[43mtraceable\u001b[49m\u001b[43m,\u001b[49m\u001b[43m \u001b[49m\u001b[38;5;241;43m*\u001b[39;49m\u001b[43mprimals\u001b[49m\u001b[43m)\u001b[49m\n\u001b[1;32m    143\u001b[0m   \u001b[38;5;28;01melse\u001b[39;00m:\n\u001b[1;32m    144\u001b[0m     out_primals, pvals, jaxpr, consts, aux \u001b[38;5;241m=\u001b[39m linearize(traceable, \u001b[38;5;241m*\u001b[39mprimals, has_aux\u001b[38;5;241m=\u001b[39m\u001b[38;5;28;01mTrue\u001b[39;00m)\n",
      "File \u001b[0;32m~/Tatra/UHP/Code/Learning/venv11/lib/python3.11/site-packages/jax/_src/interpreters/ad.py:131\u001b[0m, in \u001b[0;36mlinearize\u001b[0;34m(traceable, *primals, **kwargs)\u001b[0m\n\u001b[1;32m    129\u001b[0m _, in_tree \u001b[38;5;241m=\u001b[39m tree_flatten(((primals, primals), {}))\n\u001b[1;32m    130\u001b[0m jvpfun_flat, out_tree \u001b[38;5;241m=\u001b[39m flatten_fun(jvpfun, in_tree)\n\u001b[0;32m--> 131\u001b[0m jaxpr, out_pvals, consts \u001b[38;5;241m=\u001b[39m \u001b[43mpe\u001b[49m\u001b[38;5;241;43m.\u001b[39;49m\u001b[43mtrace_to_jaxpr_nounits\u001b[49m\u001b[43m(\u001b[49m\u001b[43mjvpfun_flat\u001b[49m\u001b[43m,\u001b[49m\u001b[43m \u001b[49m\u001b[43min_pvals\u001b[49m\u001b[43m)\u001b[49m\n\u001b[1;32m    132\u001b[0m out_primals_pvals, out_tangents_pvals \u001b[38;5;241m=\u001b[39m tree_unflatten(out_tree(), out_pvals)\n\u001b[1;32m    133\u001b[0m \u001b[38;5;28;01massert\u001b[39;00m \u001b[38;5;28mall\u001b[39m(out_primal_pval\u001b[38;5;241m.\u001b[39mis_known() \u001b[38;5;28;01mfor\u001b[39;00m out_primal_pval \u001b[38;5;129;01min\u001b[39;00m out_primals_pvals)\n",
      "File \u001b[0;32m~/Tatra/UHP/Code/Learning/venv11/lib/python3.11/site-packages/jax/_src/profiler.py:336\u001b[0m, in \u001b[0;36mannotate_function.<locals>.wrapper\u001b[0;34m(*args, **kwargs)\u001b[0m\n\u001b[1;32m    333\u001b[0m \u001b[38;5;129m@wraps\u001b[39m(func)\n\u001b[1;32m    334\u001b[0m \u001b[38;5;28;01mdef\u001b[39;00m \u001b[38;5;21mwrapper\u001b[39m(\u001b[38;5;241m*\u001b[39margs, \u001b[38;5;241m*\u001b[39m\u001b[38;5;241m*\u001b[39mkwargs):\n\u001b[1;32m    335\u001b[0m   \u001b[38;5;28;01mwith\u001b[39;00m TraceAnnotation(name, \u001b[38;5;241m*\u001b[39m\u001b[38;5;241m*\u001b[39mdecorator_kwargs):\n\u001b[0;32m--> 336\u001b[0m     \u001b[38;5;28;01mreturn\u001b[39;00m \u001b[43mfunc\u001b[49m\u001b[43m(\u001b[49m\u001b[38;5;241;43m*\u001b[39;49m\u001b[43margs\u001b[49m\u001b[43m,\u001b[49m\u001b[43m \u001b[49m\u001b[38;5;241;43m*\u001b[39;49m\u001b[38;5;241;43m*\u001b[39;49m\u001b[43mkwargs\u001b[49m\u001b[43m)\u001b[49m\n\u001b[1;32m    337\u001b[0m   \u001b[38;5;28;01mreturn\u001b[39;00m wrapper\n",
      "File \u001b[0;32m~/Tatra/UHP/Code/Learning/venv11/lib/python3.11/site-packages/jax/_src/interpreters/partial_eval.py:774\u001b[0m, in \u001b[0;36mtrace_to_jaxpr_nounits\u001b[0;34m(fun, pvals, instantiate)\u001b[0m\n\u001b[1;32m    772\u001b[0m \u001b[38;5;28;01mwith\u001b[39;00m core\u001b[38;5;241m.\u001b[39mnew_main(JaxprTrace, name_stack\u001b[38;5;241m=\u001b[39mcurrent_name_stack) \u001b[38;5;28;01mas\u001b[39;00m main:\n\u001b[1;32m    773\u001b[0m   fun \u001b[38;5;241m=\u001b[39m trace_to_subjaxpr_nounits(fun, main, instantiate)\n\u001b[0;32m--> 774\u001b[0m   jaxpr, (out_pvals, consts, env) \u001b[38;5;241m=\u001b[39m \u001b[43mfun\u001b[49m\u001b[38;5;241;43m.\u001b[39;49m\u001b[43mcall_wrapped\u001b[49m\u001b[43m(\u001b[49m\u001b[43mpvals\u001b[49m\u001b[43m)\u001b[49m\n\u001b[1;32m    775\u001b[0m   \u001b[38;5;28;01massert\u001b[39;00m \u001b[38;5;129;01mnot\u001b[39;00m env\n\u001b[1;32m    776\u001b[0m   \u001b[38;5;28;01mdel\u001b[39;00m main, fun, env\n",
      "File \u001b[0;32m~/Tatra/UHP/Code/Learning/venv11/lib/python3.11/site-packages/jax/_src/linear_util.py:191\u001b[0m, in \u001b[0;36mWrappedFun.call_wrapped\u001b[0;34m(self, *args, **kwargs)\u001b[0m\n\u001b[1;32m    188\u001b[0m gen \u001b[38;5;241m=\u001b[39m gen_static_args \u001b[38;5;241m=\u001b[39m out_store \u001b[38;5;241m=\u001b[39m \u001b[38;5;28;01mNone\u001b[39;00m\n\u001b[1;32m    190\u001b[0m \u001b[38;5;28;01mtry\u001b[39;00m:\n\u001b[0;32m--> 191\u001b[0m   ans \u001b[38;5;241m=\u001b[39m \u001b[38;5;28;43mself\u001b[39;49m\u001b[38;5;241;43m.\u001b[39;49m\u001b[43mf\u001b[49m\u001b[43m(\u001b[49m\u001b[38;5;241;43m*\u001b[39;49m\u001b[43margs\u001b[49m\u001b[43m,\u001b[49m\u001b[43m \u001b[49m\u001b[38;5;241;43m*\u001b[39;49m\u001b[38;5;241;43m*\u001b[39;49m\u001b[38;5;28;43mdict\u001b[39;49m\u001b[43m(\u001b[49m\u001b[38;5;28;43mself\u001b[39;49m\u001b[38;5;241;43m.\u001b[39;49m\u001b[43mparams\u001b[49m\u001b[43m,\u001b[49m\u001b[43m \u001b[49m\u001b[38;5;241;43m*\u001b[39;49m\u001b[38;5;241;43m*\u001b[39;49m\u001b[43mkwargs\u001b[49m\u001b[43m)\u001b[49m\u001b[43m)\u001b[49m\n\u001b[1;32m    192\u001b[0m \u001b[38;5;28;01mexcept\u001b[39;00m:\n\u001b[1;32m    193\u001b[0m   \u001b[38;5;66;03m# Some transformations yield from inside context managers, so we have to\u001b[39;00m\n\u001b[1;32m    194\u001b[0m   \u001b[38;5;66;03m# interrupt them before reraising the exception. Otherwise they will only\u001b[39;00m\n\u001b[1;32m    195\u001b[0m   \u001b[38;5;66;03m# get garbage-collected at some later time, running their cleanup tasks\u001b[39;00m\n\u001b[1;32m    196\u001b[0m   \u001b[38;5;66;03m# only after this exception is handled, which can corrupt the global\u001b[39;00m\n\u001b[1;32m    197\u001b[0m   \u001b[38;5;66;03m# state.\u001b[39;00m\n\u001b[1;32m    198\u001b[0m   \u001b[38;5;28;01mwhile\u001b[39;00m stack:\n",
      "Cell \u001b[0;32mIn[2], line 169\u001b[0m, in \u001b[0;36mpotential\u001b[0;34m(r1, r2)\u001b[0m\n\u001b[1;32m    166\u001b[0m r_cut \u001b[38;5;241m=\u001b[39m \u001b[38;5;241m6.0\u001b[39m \u001b[38;5;66;03m# adhoc\u001b[39;00m\n\u001b[1;32m    168\u001b[0m r \u001b[38;5;241m=\u001b[39m jnp\u001b[38;5;241m.\u001b[39mlinalg\u001b[38;5;241m.\u001b[39mnorm(r1 \u001b[38;5;241m-\u001b[39m r2)\n\u001b[0;32m--> 169\u001b[0m V \u001b[38;5;241m=\u001b[39m (A \u001b[38;5;241m-\u001b[39m B \u001b[38;5;241m*\u001b[39m jnp\u001b[38;5;241m.\u001b[39mexp(\u001b[38;5;241m-\u001b[39mC\u001b[38;5;241m*\u001b[39m(r \u001b[38;5;241m-\u001b[39m re)\u001b[38;5;241m*\u001b[39m\u001b[38;5;241m*\u001b[39m\u001b[38;5;241m2\u001b[39m)) \u001b[38;5;241m*\u001b[39m jnp\u001b[38;5;241m.\u001b[39mexp(\u001b[38;5;241m-\u001b[39mD\u001b[38;5;241m*\u001b[39m\u001b[43mr\u001b[49m\u001b[38;5;241;43m*\u001b[39;49m\u001b[38;5;241;43m*\u001b[39;49m\u001b[38;5;241;43m2\u001b[39;49m)\n\u001b[1;32m    170\u001b[0m \u001b[38;5;28;01mreturn\u001b[39;00m V \u001b[38;5;28;01mif\u001b[39;00m r \u001b[38;5;241m<\u001b[39m\u001b[38;5;241m=\u001b[39m r_cut \u001b[38;5;28;01melse\u001b[39;00m \u001b[38;5;241m0.0\u001b[39m\n",
      "File \u001b[0;32m~/Tatra/UHP/Code/Learning/venv11/lib/python3.11/site-packages/jax/_src/numpy/array_methods.py:743\u001b[0m, in \u001b[0;36m_forward_operator_to_aval.<locals>.op\u001b[0;34m(self, *args)\u001b[0m\n\u001b[1;32m    742\u001b[0m \u001b[38;5;28;01mdef\u001b[39;00m \u001b[38;5;21mop\u001b[39m(\u001b[38;5;28mself\u001b[39m, \u001b[38;5;241m*\u001b[39margs):\n\u001b[0;32m--> 743\u001b[0m   \u001b[38;5;28;01mreturn\u001b[39;00m \u001b[38;5;28;43mgetattr\u001b[39;49m\u001b[43m(\u001b[49m\u001b[38;5;28;43mself\u001b[39;49m\u001b[38;5;241;43m.\u001b[39;49m\u001b[43maval\u001b[49m\u001b[43m,\u001b[49m\u001b[43m \u001b[49m\u001b[38;5;124;43mf\u001b[39;49m\u001b[38;5;124;43m\"\u001b[39;49m\u001b[38;5;124;43m_\u001b[39;49m\u001b[38;5;132;43;01m{\u001b[39;49;00m\u001b[43mname\u001b[49m\u001b[38;5;132;43;01m}\u001b[39;49;00m\u001b[38;5;124;43m\"\u001b[39;49m\u001b[43m)\u001b[49m\u001b[43m(\u001b[49m\u001b[38;5;28;43mself\u001b[39;49m\u001b[43m,\u001b[49m\u001b[43m \u001b[49m\u001b[38;5;241;43m*\u001b[39;49m\u001b[43margs\u001b[49m\u001b[43m)\u001b[49m\n",
      "File \u001b[0;32m~/Tatra/UHP/Code/Learning/venv11/lib/python3.11/site-packages/jax/_src/numpy/array_methods.py:271\u001b[0m, in \u001b[0;36m_defer_to_unrecognized_arg.<locals>.deferring_binary_op\u001b[0;34m(self, other)\u001b[0m\n\u001b[1;32m    269\u001b[0m args \u001b[38;5;241m=\u001b[39m (other, \u001b[38;5;28mself\u001b[39m) \u001b[38;5;28;01mif\u001b[39;00m swap \u001b[38;5;28;01melse\u001b[39;00m (\u001b[38;5;28mself\u001b[39m, other)\n\u001b[1;32m    270\u001b[0m \u001b[38;5;28;01mif\u001b[39;00m \u001b[38;5;28misinstance\u001b[39m(other, _accepted_binop_types):\n\u001b[0;32m--> 271\u001b[0m   \u001b[38;5;28;01mreturn\u001b[39;00m \u001b[43mbinary_op\u001b[49m\u001b[43m(\u001b[49m\u001b[38;5;241;43m*\u001b[39;49m\u001b[43margs\u001b[49m\u001b[43m)\u001b[49m\n\u001b[1;32m    272\u001b[0m \u001b[38;5;66;03m# Note: don't use isinstance here, because we don't want to raise for\u001b[39;00m\n\u001b[1;32m    273\u001b[0m \u001b[38;5;66;03m# subclasses, e.g. NamedTuple objects that may override operators.\u001b[39;00m\n\u001b[1;32m    274\u001b[0m \u001b[38;5;28;01mif\u001b[39;00m \u001b[38;5;28mtype\u001b[39m(other) \u001b[38;5;129;01min\u001b[39;00m _rejected_binop_types:\n",
      "File \u001b[0;32m~/Tatra/UHP/Code/Learning/venv11/lib/python3.11/site-packages/jax/_src/numpy/ufuncs.py:341\u001b[0m, in \u001b[0;36mpower\u001b[0;34m(x1, x2)\u001b[0m\n\u001b[1;32m    339\u001b[0m   \u001b[38;5;28;01melse\u001b[39;00m:\n\u001b[1;32m    340\u001b[0m     x1, \u001b[38;5;241m=\u001b[39m promote_dtypes_numeric(x1)\n\u001b[0;32m--> 341\u001b[0m     \u001b[38;5;28;01mreturn\u001b[39;00m \u001b[43mlax\u001b[49m\u001b[38;5;241;43m.\u001b[39;49m\u001b[43minteger_pow\u001b[49m\u001b[43m(\u001b[49m\u001b[43mx1\u001b[49m\u001b[43m,\u001b[49m\u001b[43m \u001b[49m\u001b[43mx2\u001b[49m\u001b[43m)\u001b[49m\n\u001b[1;32m    343\u001b[0m \u001b[38;5;66;03m# Handle cases #2 and #3 under a jit:\u001b[39;00m\n\u001b[1;32m    344\u001b[0m \u001b[38;5;28;01mreturn\u001b[39;00m _power(x1, x2)\n",
      "File \u001b[0;32m~/Tatra/UHP/Code/Learning/venv11/lib/python3.11/site-packages/jax/_src/lax/lax.py:379\u001b[0m, in \u001b[0;36minteger_pow\u001b[0;34m(x, y)\u001b[0m\n\u001b[1;32m    377\u001b[0m \u001b[38;5;28;01mdef\u001b[39;00m \u001b[38;5;21minteger_pow\u001b[39m(x: ArrayLike, y: \u001b[38;5;28mint\u001b[39m) \u001b[38;5;241m-\u001b[39m\u001b[38;5;241m>\u001b[39m Array:\n\u001b[1;32m    378\u001b[0m \u001b[38;5;250m  \u001b[39m\u001b[38;5;124mr\u001b[39m\u001b[38;5;124;03m\"\"\"Elementwise power: :math:`x^y`, where :math:`y` is a fixed integer.\"\"\"\u001b[39;00m\n\u001b[0;32m--> 379\u001b[0m   \u001b[38;5;28;01mreturn\u001b[39;00m \u001b[43minteger_pow_p\u001b[49m\u001b[38;5;241;43m.\u001b[39;49m\u001b[43mbind\u001b[49m\u001b[43m(\u001b[49m\u001b[43mx\u001b[49m\u001b[43m,\u001b[49m\u001b[43m \u001b[49m\u001b[43my\u001b[49m\u001b[38;5;241;43m=\u001b[39;49m\u001b[43my\u001b[49m\u001b[43m)\u001b[49m\n",
      "File \u001b[0;32m~/Tatra/UHP/Code/Learning/venv11/lib/python3.11/site-packages/jax/_src/core.py:444\u001b[0m, in \u001b[0;36mPrimitive.bind\u001b[0;34m(self, *args, **params)\u001b[0m\n\u001b[1;32m    441\u001b[0m \u001b[38;5;28;01mdef\u001b[39;00m \u001b[38;5;21mbind\u001b[39m(\u001b[38;5;28mself\u001b[39m, \u001b[38;5;241m*\u001b[39margs, \u001b[38;5;241m*\u001b[39m\u001b[38;5;241m*\u001b[39mparams):\n\u001b[1;32m    442\u001b[0m   \u001b[38;5;28;01massert\u001b[39;00m (\u001b[38;5;129;01mnot\u001b[39;00m config\u001b[38;5;241m.\u001b[39menable_checks\u001b[38;5;241m.\u001b[39mvalue \u001b[38;5;129;01mor\u001b[39;00m\n\u001b[1;32m    443\u001b[0m           \u001b[38;5;28mall\u001b[39m(\u001b[38;5;28misinstance\u001b[39m(arg, Tracer) \u001b[38;5;129;01mor\u001b[39;00m valid_jaxtype(arg) \u001b[38;5;28;01mfor\u001b[39;00m arg \u001b[38;5;129;01min\u001b[39;00m args)), args\n\u001b[0;32m--> 444\u001b[0m   \u001b[38;5;28;01mreturn\u001b[39;00m \u001b[38;5;28;43mself\u001b[39;49m\u001b[38;5;241;43m.\u001b[39;49m\u001b[43mbind_with_trace\u001b[49m\u001b[43m(\u001b[49m\u001b[43mfind_top_trace\u001b[49m\u001b[43m(\u001b[49m\u001b[43margs\u001b[49m\u001b[43m)\u001b[49m\u001b[43m,\u001b[49m\u001b[43m \u001b[49m\u001b[43margs\u001b[49m\u001b[43m,\u001b[49m\u001b[43m \u001b[49m\u001b[43mparams\u001b[49m\u001b[43m)\u001b[49m\n",
      "File \u001b[0;32m~/Tatra/UHP/Code/Learning/venv11/lib/python3.11/site-packages/jax/_src/core.py:447\u001b[0m, in \u001b[0;36mPrimitive.bind_with_trace\u001b[0;34m(self, trace, args, params)\u001b[0m\n\u001b[1;32m    446\u001b[0m \u001b[38;5;28;01mdef\u001b[39;00m \u001b[38;5;21mbind_with_trace\u001b[39m(\u001b[38;5;28mself\u001b[39m, trace, args, params):\n\u001b[0;32m--> 447\u001b[0m   out \u001b[38;5;241m=\u001b[39m \u001b[43mtrace\u001b[49m\u001b[38;5;241;43m.\u001b[39;49m\u001b[43mprocess_primitive\u001b[49m\u001b[43m(\u001b[49m\u001b[38;5;28;43mself\u001b[39;49m\u001b[43m,\u001b[49m\u001b[43m \u001b[49m\u001b[38;5;28;43mmap\u001b[39;49m\u001b[43m(\u001b[49m\u001b[43mtrace\u001b[49m\u001b[38;5;241;43m.\u001b[39;49m\u001b[43mfull_raise\u001b[49m\u001b[43m,\u001b[49m\u001b[43m \u001b[49m\u001b[43margs\u001b[49m\u001b[43m)\u001b[49m\u001b[43m,\u001b[49m\u001b[43m \u001b[49m\u001b[43mparams\u001b[49m\u001b[43m)\u001b[49m\n\u001b[1;32m    448\u001b[0m   \u001b[38;5;28;01mreturn\u001b[39;00m \u001b[38;5;28mmap\u001b[39m(full_lower, out) \u001b[38;5;28;01mif\u001b[39;00m \u001b[38;5;28mself\u001b[39m\u001b[38;5;241m.\u001b[39mmultiple_results \u001b[38;5;28;01melse\u001b[39;00m full_lower(out)\n",
      "File \u001b[0;32m~/Tatra/UHP/Code/Learning/venv11/lib/python3.11/site-packages/jax/_src/interpreters/ad.py:318\u001b[0m, in \u001b[0;36mJVPTrace.process_primitive\u001b[0;34m(self, primitive, tracers, params)\u001b[0m\n\u001b[1;32m    316\u001b[0m   msg \u001b[38;5;241m=\u001b[39m \u001b[38;5;124mf\u001b[39m\u001b[38;5;124m\"\u001b[39m\u001b[38;5;124mDifferentiation rule for \u001b[39m\u001b[38;5;124m'\u001b[39m\u001b[38;5;132;01m{\u001b[39;00mprimitive\u001b[38;5;132;01m}\u001b[39;00m\u001b[38;5;124m'\u001b[39m\u001b[38;5;124m not implemented\u001b[39m\u001b[38;5;124m\"\u001b[39m\n\u001b[1;32m    317\u001b[0m   \u001b[38;5;28;01mraise\u001b[39;00m \u001b[38;5;167;01mNotImplementedError\u001b[39;00m(msg)\n\u001b[0;32m--> 318\u001b[0m primal_out, tangent_out \u001b[38;5;241m=\u001b[39m \u001b[43mjvp\u001b[49m\u001b[43m(\u001b[49m\u001b[43mprimals_in\u001b[49m\u001b[43m,\u001b[49m\u001b[43m \u001b[49m\u001b[43mtangents_in\u001b[49m\u001b[43m,\u001b[49m\u001b[43m \u001b[49m\u001b[38;5;241;43m*\u001b[39;49m\u001b[38;5;241;43m*\u001b[39;49m\u001b[43mparams\u001b[49m\u001b[43m)\u001b[49m\n\u001b[1;32m    319\u001b[0m \u001b[38;5;28;01mif\u001b[39;00m primitive\u001b[38;5;241m.\u001b[39mmultiple_results:\n\u001b[1;32m    320\u001b[0m   \u001b[38;5;28;01mreturn\u001b[39;00m [JVPTracer(\u001b[38;5;28mself\u001b[39m, x, t) \u001b[38;5;28;01mfor\u001b[39;00m x, t \u001b[38;5;129;01min\u001b[39;00m \u001b[38;5;28mzip\u001b[39m(primal_out, tangent_out)]\n",
      "File \u001b[0;32m~/Tatra/UHP/Code/Learning/venv11/lib/python3.11/site-packages/jax/_src/interpreters/ad.py:535\u001b[0m, in \u001b[0;36mstandard_jvp\u001b[0;34m(jvprules, primitive, primals, tangents, **params)\u001b[0m\n\u001b[1;32m    533\u001b[0m \u001b[38;5;28;01mdef\u001b[39;00m \u001b[38;5;21mstandard_jvp\u001b[39m(jvprules, primitive, primals, tangents, \u001b[38;5;241m*\u001b[39m\u001b[38;5;241m*\u001b[39mparams):\n\u001b[1;32m    534\u001b[0m   val_out \u001b[38;5;241m=\u001b[39m primitive\u001b[38;5;241m.\u001b[39mbind(\u001b[38;5;241m*\u001b[39mprimals, \u001b[38;5;241m*\u001b[39m\u001b[38;5;241m*\u001b[39mparams)\n\u001b[0;32m--> 535\u001b[0m   tangents_out \u001b[38;5;241m=\u001b[39m \u001b[43m[\u001b[49m\u001b[43mrule\u001b[49m\u001b[43m(\u001b[49m\u001b[43mt\u001b[49m\u001b[43m,\u001b[49m\u001b[43m \u001b[49m\u001b[38;5;241;43m*\u001b[39;49m\u001b[43mprimals\u001b[49m\u001b[43m,\u001b[49m\u001b[43m \u001b[49m\u001b[38;5;241;43m*\u001b[39;49m\u001b[38;5;241;43m*\u001b[39;49m\u001b[43mparams\u001b[49m\u001b[43m)\u001b[49m\u001b[43m \u001b[49m\u001b[38;5;28;43;01mfor\u001b[39;49;00m\u001b[43m \u001b[49m\u001b[43mrule\u001b[49m\u001b[43m,\u001b[49m\u001b[43m \u001b[49m\u001b[43mt\u001b[49m\u001b[43m \u001b[49m\u001b[38;5;129;43;01min\u001b[39;49;00m\u001b[43m \u001b[49m\u001b[38;5;28;43mzip\u001b[39;49m\u001b[43m(\u001b[49m\u001b[43mjvprules\u001b[49m\u001b[43m,\u001b[49m\u001b[43m \u001b[49m\u001b[43mtangents\u001b[49m\u001b[43m)\u001b[49m\n\u001b[1;32m    536\u001b[0m \u001b[43m                  \u001b[49m\u001b[38;5;28;43;01mif\u001b[39;49;00m\u001b[43m \u001b[49m\u001b[43mrule\u001b[49m\u001b[43m \u001b[49m\u001b[38;5;129;43;01mis\u001b[39;49;00m\u001b[43m \u001b[49m\u001b[38;5;129;43;01mnot\u001b[39;49;00m\u001b[43m \u001b[49m\u001b[38;5;28;43;01mNone\u001b[39;49;00m\u001b[43m \u001b[49m\u001b[38;5;129;43;01mand\u001b[39;49;00m\u001b[43m \u001b[49m\u001b[38;5;28;43mtype\u001b[39;49m\u001b[43m(\u001b[49m\u001b[43mt\u001b[49m\u001b[43m)\u001b[49m\u001b[43m \u001b[49m\u001b[38;5;129;43;01mis\u001b[39;49;00m\u001b[43m \u001b[49m\u001b[38;5;129;43;01mnot\u001b[39;49;00m\u001b[43m \u001b[49m\u001b[43mZero\u001b[49m\u001b[43m]\u001b[49m\n\u001b[1;32m    537\u001b[0m   \u001b[38;5;28;01mreturn\u001b[39;00m val_out, functools\u001b[38;5;241m.\u001b[39mreduce(add_tangents, tangents_out, Zero\u001b[38;5;241m.\u001b[39mfrom_value(val_out))\n",
      "File \u001b[0;32m~/Tatra/UHP/Code/Learning/venv11/lib/python3.11/site-packages/jax/_src/interpreters/ad.py:535\u001b[0m, in \u001b[0;36m<listcomp>\u001b[0;34m(.0)\u001b[0m\n\u001b[1;32m    533\u001b[0m \u001b[38;5;28;01mdef\u001b[39;00m \u001b[38;5;21mstandard_jvp\u001b[39m(jvprules, primitive, primals, tangents, \u001b[38;5;241m*\u001b[39m\u001b[38;5;241m*\u001b[39mparams):\n\u001b[1;32m    534\u001b[0m   val_out \u001b[38;5;241m=\u001b[39m primitive\u001b[38;5;241m.\u001b[39mbind(\u001b[38;5;241m*\u001b[39mprimals, \u001b[38;5;241m*\u001b[39m\u001b[38;5;241m*\u001b[39mparams)\n\u001b[0;32m--> 535\u001b[0m   tangents_out \u001b[38;5;241m=\u001b[39m [\u001b[43mrule\u001b[49m\u001b[43m(\u001b[49m\u001b[43mt\u001b[49m\u001b[43m,\u001b[49m\u001b[43m \u001b[49m\u001b[38;5;241;43m*\u001b[39;49m\u001b[43mprimals\u001b[49m\u001b[43m,\u001b[49m\u001b[43m \u001b[49m\u001b[38;5;241;43m*\u001b[39;49m\u001b[38;5;241;43m*\u001b[39;49m\u001b[43mparams\u001b[49m\u001b[43m)\u001b[49m \u001b[38;5;28;01mfor\u001b[39;00m rule, t \u001b[38;5;129;01min\u001b[39;00m \u001b[38;5;28mzip\u001b[39m(jvprules, tangents)\n\u001b[1;32m    536\u001b[0m                   \u001b[38;5;28;01mif\u001b[39;00m rule \u001b[38;5;129;01mis\u001b[39;00m \u001b[38;5;129;01mnot\u001b[39;00m \u001b[38;5;28;01mNone\u001b[39;00m \u001b[38;5;129;01mand\u001b[39;00m \u001b[38;5;28mtype\u001b[39m(t) \u001b[38;5;129;01mis\u001b[39;00m \u001b[38;5;129;01mnot\u001b[39;00m Zero]\n\u001b[1;32m    537\u001b[0m   \u001b[38;5;28;01mreturn\u001b[39;00m val_out, functools\u001b[38;5;241m.\u001b[39mreduce(add_tangents, tangents_out, Zero\u001b[38;5;241m.\u001b[39mfrom_value(val_out))\n",
      "File \u001b[0;32m~/Tatra/UHP/Code/Learning/venv11/lib/python3.11/site-packages/jax/_src/lax/lax.py:2041\u001b[0m, in \u001b[0;36m_integer_pow_jvp\u001b[0;34m(g, x, y)\u001b[0m\n\u001b[1;32m   2040\u001b[0m \u001b[38;5;28;01mdef\u001b[39;00m \u001b[38;5;21m_integer_pow_jvp\u001b[39m(g, x, \u001b[38;5;241m*\u001b[39m, y):\n\u001b[0;32m-> 2041\u001b[0m   \u001b[38;5;28;01mreturn\u001b[39;00m _zeros(g) \u001b[38;5;28;01mif\u001b[39;00m y \u001b[38;5;241m==\u001b[39m \u001b[38;5;241m0\u001b[39m \u001b[38;5;28;01melse\u001b[39;00m \u001b[43mmul\u001b[49m\u001b[43m(\u001b[49m\u001b[43mg\u001b[49m\u001b[43m,\u001b[49m\u001b[43m \u001b[49m\u001b[43mmul\u001b[49m\u001b[43m(\u001b[49m\u001b[43m_const\u001b[49m\u001b[43m(\u001b[49m\u001b[43mx\u001b[49m\u001b[43m,\u001b[49m\u001b[43m \u001b[49m\u001b[43my\u001b[49m\u001b[43m)\u001b[49m\u001b[43m,\u001b[49m\u001b[43m \u001b[49m\u001b[43minteger_pow\u001b[49m\u001b[43m(\u001b[49m\u001b[43mx\u001b[49m\u001b[43m,\u001b[49m\u001b[43m \u001b[49m\u001b[43my\u001b[49m\u001b[43m \u001b[49m\u001b[38;5;241;43m-\u001b[39;49m\u001b[43m \u001b[49m\u001b[38;5;241;43m1\u001b[39;49m\u001b[43m)\u001b[49m\u001b[43m)\u001b[49m\u001b[43m)\u001b[49m\n",
      "File \u001b[0;32m~/Tatra/UHP/Code/Learning/venv11/lib/python3.11/site-packages/jax/_src/lax/lax.py:427\u001b[0m, in \u001b[0;36mmul\u001b[0;34m(x, y)\u001b[0m\n\u001b[1;32m    425\u001b[0m \u001b[38;5;28;01mdef\u001b[39;00m \u001b[38;5;21mmul\u001b[39m(x: ArrayLike, y: ArrayLike) \u001b[38;5;241m-\u001b[39m\u001b[38;5;241m>\u001b[39m Array:\n\u001b[1;32m    426\u001b[0m \u001b[38;5;250m  \u001b[39m\u001b[38;5;124mr\u001b[39m\u001b[38;5;124;03m\"\"\"Elementwise multiplication: :math:`x \\times y`.\"\"\"\u001b[39;00m\n\u001b[0;32m--> 427\u001b[0m   \u001b[38;5;28;01mreturn\u001b[39;00m \u001b[43mmul_p\u001b[49m\u001b[38;5;241;43m.\u001b[39;49m\u001b[43mbind\u001b[49m\u001b[43m(\u001b[49m\u001b[43mx\u001b[49m\u001b[43m,\u001b[49m\u001b[43m \u001b[49m\u001b[43my\u001b[49m\u001b[43m)\u001b[49m\n",
      "File \u001b[0;32m~/Tatra/UHP/Code/Learning/venv11/lib/python3.11/site-packages/jax/_src/core.py:444\u001b[0m, in \u001b[0;36mPrimitive.bind\u001b[0;34m(self, *args, **params)\u001b[0m\n\u001b[1;32m    441\u001b[0m \u001b[38;5;28;01mdef\u001b[39;00m \u001b[38;5;21mbind\u001b[39m(\u001b[38;5;28mself\u001b[39m, \u001b[38;5;241m*\u001b[39margs, \u001b[38;5;241m*\u001b[39m\u001b[38;5;241m*\u001b[39mparams):\n\u001b[1;32m    442\u001b[0m   \u001b[38;5;28;01massert\u001b[39;00m (\u001b[38;5;129;01mnot\u001b[39;00m config\u001b[38;5;241m.\u001b[39menable_checks\u001b[38;5;241m.\u001b[39mvalue \u001b[38;5;129;01mor\u001b[39;00m\n\u001b[1;32m    443\u001b[0m           \u001b[38;5;28mall\u001b[39m(\u001b[38;5;28misinstance\u001b[39m(arg, Tracer) \u001b[38;5;129;01mor\u001b[39;00m valid_jaxtype(arg) \u001b[38;5;28;01mfor\u001b[39;00m arg \u001b[38;5;129;01min\u001b[39;00m args)), args\n\u001b[0;32m--> 444\u001b[0m   \u001b[38;5;28;01mreturn\u001b[39;00m \u001b[38;5;28;43mself\u001b[39;49m\u001b[38;5;241;43m.\u001b[39;49m\u001b[43mbind_with_trace\u001b[49m\u001b[43m(\u001b[49m\u001b[43mfind_top_trace\u001b[49m\u001b[43m(\u001b[49m\u001b[43margs\u001b[49m\u001b[43m)\u001b[49m\u001b[43m,\u001b[49m\u001b[43m \u001b[49m\u001b[43margs\u001b[49m\u001b[43m,\u001b[49m\u001b[43m \u001b[49m\u001b[43mparams\u001b[49m\u001b[43m)\u001b[49m\n",
      "File \u001b[0;32m~/Tatra/UHP/Code/Learning/venv11/lib/python3.11/site-packages/jax/_src/core.py:447\u001b[0m, in \u001b[0;36mPrimitive.bind_with_trace\u001b[0;34m(self, trace, args, params)\u001b[0m\n\u001b[1;32m    446\u001b[0m \u001b[38;5;28;01mdef\u001b[39;00m \u001b[38;5;21mbind_with_trace\u001b[39m(\u001b[38;5;28mself\u001b[39m, trace, args, params):\n\u001b[0;32m--> 447\u001b[0m   out \u001b[38;5;241m=\u001b[39m \u001b[43mtrace\u001b[49m\u001b[38;5;241;43m.\u001b[39;49m\u001b[43mprocess_primitive\u001b[49m\u001b[43m(\u001b[49m\u001b[38;5;28;43mself\u001b[39;49m\u001b[43m,\u001b[49m\u001b[43m \u001b[49m\u001b[38;5;28;43mmap\u001b[39;49m\u001b[43m(\u001b[49m\u001b[43mtrace\u001b[49m\u001b[38;5;241;43m.\u001b[39;49m\u001b[43mfull_raise\u001b[49m\u001b[43m,\u001b[49m\u001b[43m \u001b[49m\u001b[43margs\u001b[49m\u001b[43m)\u001b[49m\u001b[43m,\u001b[49m\u001b[43m \u001b[49m\u001b[43mparams\u001b[49m\u001b[43m)\u001b[49m\n\u001b[1;32m    448\u001b[0m   \u001b[38;5;28;01mreturn\u001b[39;00m \u001b[38;5;28mmap\u001b[39m(full_lower, out) \u001b[38;5;28;01mif\u001b[39;00m \u001b[38;5;28mself\u001b[39m\u001b[38;5;241m.\u001b[39mmultiple_results \u001b[38;5;28;01melse\u001b[39;00m full_lower(out)\n",
      "File \u001b[0;32m~/Tatra/UHP/Code/Learning/venv11/lib/python3.11/site-packages/jax/_src/interpreters/partial_eval.py:214\u001b[0m, in \u001b[0;36mJaxprTrace.process_primitive\u001b[0;34m(self, primitive, tracers, params)\u001b[0m\n\u001b[1;32m    212\u001b[0m   \u001b[38;5;28;01mreturn\u001b[39;00m custom_partial_eval_rules[primitive](\u001b[38;5;28mself\u001b[39m, \u001b[38;5;241m*\u001b[39mtracers, \u001b[38;5;241m*\u001b[39m\u001b[38;5;241m*\u001b[39mparams)\n\u001b[1;32m    213\u001b[0m \u001b[38;5;28;01melse\u001b[39;00m:\n\u001b[0;32m--> 214\u001b[0m   \u001b[38;5;28;01mreturn\u001b[39;00m \u001b[38;5;28;43mself\u001b[39;49m\u001b[38;5;241;43m.\u001b[39;49m\u001b[43mdefault_process_primitive\u001b[49m\u001b[43m(\u001b[49m\u001b[43mprimitive\u001b[49m\u001b[43m,\u001b[49m\u001b[43m \u001b[49m\u001b[43mtracers\u001b[49m\u001b[43m,\u001b[49m\u001b[43m \u001b[49m\u001b[43mparams\u001b[49m\u001b[43m)\u001b[49m\n",
      "File \u001b[0;32m~/Tatra/UHP/Code/Learning/venv11/lib/python3.11/site-packages/jax/_src/interpreters/partial_eval.py:223\u001b[0m, in \u001b[0;36mJaxprTrace.default_process_primitive\u001b[0;34m(self, primitive, tracers, params)\u001b[0m\n\u001b[1;32m    221\u001b[0m \u001b[38;5;28;01mif\u001b[39;00m \u001b[38;5;28mall\u001b[39m(c \u001b[38;5;129;01mis\u001b[39;00m \u001b[38;5;129;01mnot\u001b[39;00m \u001b[38;5;28;01mNone\u001b[39;00m \u001b[38;5;28;01mfor\u001b[39;00m c \u001b[38;5;129;01min\u001b[39;00m consts):\n\u001b[1;32m    222\u001b[0m   \u001b[38;5;28;01mreturn\u001b[39;00m primitive\u001b[38;5;241m.\u001b[39mbind(\u001b[38;5;241m*\u001b[39mconsts, \u001b[38;5;241m*\u001b[39m\u001b[38;5;241m*\u001b[39mparams)\n\u001b[0;32m--> 223\u001b[0m tracers \u001b[38;5;241m=\u001b[39m \u001b[38;5;28mmap\u001b[39m(\u001b[38;5;28mself\u001b[39m\u001b[38;5;241m.\u001b[39minstantiate_const, tracers)\n\u001b[1;32m    224\u001b[0m avals \u001b[38;5;241m=\u001b[39m [t\u001b[38;5;241m.\u001b[39maval \u001b[38;5;28;01mfor\u001b[39;00m t \u001b[38;5;129;01min\u001b[39;00m tracers]\n\u001b[1;32m    225\u001b[0m out_aval, effects \u001b[38;5;241m=\u001b[39m primitive\u001b[38;5;241m.\u001b[39mabstract_eval(\u001b[38;5;241m*\u001b[39mavals, \u001b[38;5;241m*\u001b[39m\u001b[38;5;241m*\u001b[39mparams)\n",
      "File \u001b[0;32m~/Tatra/UHP/Code/Learning/venv11/lib/python3.11/site-packages/jax/_src/interpreters/partial_eval.py:200\u001b[0m, in \u001b[0;36mJaxprTrace.instantiate_const\u001b[0;34m(self, tracer)\u001b[0m\n\u001b[1;32m    198\u001b[0m   \u001b[38;5;28;01mreturn\u001b[39;00m \u001b[38;5;28mself\u001b[39m\u001b[38;5;241m.\u001b[39mnew_instantiated_literal(const)\n\u001b[1;32m    199\u001b[0m \u001b[38;5;28;01melse\u001b[39;00m:\n\u001b[0;32m--> 200\u001b[0m   \u001b[38;5;28;01mreturn\u001b[39;00m \u001b[38;5;28;43mself\u001b[39;49m\u001b[38;5;241;43m.\u001b[39;49m\u001b[43mnew_instantiated_const\u001b[49m\u001b[43m(\u001b[49m\u001b[43mconst\u001b[49m\u001b[43m)\u001b[49m\n",
      "File \u001b[0;32m~/Tatra/UHP/Code/Learning/venv11/lib/python3.11/site-packages/jax/_src/interpreters/partial_eval.py:167\u001b[0m, in \u001b[0;36mJaxprTrace.new_instantiated_const\u001b[0;34m(self, val)\u001b[0m\n\u001b[1;32m    166\u001b[0m \u001b[38;5;28;01mdef\u001b[39;00m \u001b[38;5;21mnew_instantiated_const\u001b[39m(\u001b[38;5;28mself\u001b[39m, val) \u001b[38;5;241m-\u001b[39m\u001b[38;5;241m>\u001b[39m JaxprTracer:\n\u001b[0;32m--> 167\u001b[0m   aval \u001b[38;5;241m=\u001b[39m \u001b[43mget_aval\u001b[49m\u001b[43m(\u001b[49m\u001b[43mval\u001b[49m\u001b[43m)\u001b[49m\n\u001b[1;32m    168\u001b[0m   \u001b[38;5;28;01mif\u001b[39;00m \u001b[38;5;28misinstance\u001b[39m(aval, DShapedArray):\n\u001b[1;32m    169\u001b[0m     shape \u001b[38;5;241m=\u001b[39m [\u001b[38;5;28mself\u001b[39m\u001b[38;5;241m.\u001b[39mnew_instantiated_const(d)\n\u001b[1;32m    170\u001b[0m              \u001b[38;5;28;01mif\u001b[39;00m \u001b[38;5;28misinstance\u001b[39m(d, Tracer) \u001b[38;5;129;01mand\u001b[39;00m d\u001b[38;5;241m.\u001b[39m_trace\u001b[38;5;241m.\u001b[39mlevel \u001b[38;5;241m<\u001b[39m \u001b[38;5;28mself\u001b[39m\u001b[38;5;241m.\u001b[39mlevel \u001b[38;5;28;01melse\u001b[39;00m d\n\u001b[1;32m    171\u001b[0m              \u001b[38;5;28;01mfor\u001b[39;00m d \u001b[38;5;129;01min\u001b[39;00m aval\u001b[38;5;241m.\u001b[39mshape]\n",
      "File \u001b[0;32m~/Tatra/UHP/Code/Learning/venv11/lib/python3.11/site-packages/jax/_src/core.py:1498\u001b[0m, in \u001b[0;36mget_aval\u001b[0;34m(x)\u001b[0m\n\u001b[1;32m   1496\u001b[0m   \u001b[38;5;28;01mreturn\u001b[39;00m x\u001b[38;5;241m.\u001b[39maval\n\u001b[1;32m   1497\u001b[0m \u001b[38;5;28;01melse\u001b[39;00m:\n\u001b[0;32m-> 1498\u001b[0m   \u001b[38;5;28;01mreturn\u001b[39;00m \u001b[43mconcrete_aval\u001b[49m\u001b[43m(\u001b[49m\u001b[43mx\u001b[49m\u001b[43m)\u001b[49m\n",
      "File \u001b[0;32m~/Tatra/UHP/Code/Learning/venv11/lib/python3.11/site-packages/jax/_src/core.py:1487\u001b[0m, in \u001b[0;36mconcrete_aval\u001b[0;34m(x)\u001b[0m\n\u001b[1;32m   1485\u001b[0m \u001b[38;5;28;01mfor\u001b[39;00m typ \u001b[38;5;129;01min\u001b[39;00m \u001b[38;5;28mtype\u001b[39m(x)\u001b[38;5;241m.\u001b[39m\u001b[38;5;18m__mro__\u001b[39m:\n\u001b[1;32m   1486\u001b[0m   handler \u001b[38;5;241m=\u001b[39m pytype_aval_mappings\u001b[38;5;241m.\u001b[39mget(typ)\n\u001b[0;32m-> 1487\u001b[0m   \u001b[38;5;28;01mif\u001b[39;00m handler: \u001b[38;5;28;01mreturn\u001b[39;00m \u001b[43mhandler\u001b[49m\u001b[43m(\u001b[49m\u001b[43mx\u001b[49m\u001b[43m)\u001b[49m\n\u001b[1;32m   1488\u001b[0m \u001b[38;5;28;01mif\u001b[39;00m \u001b[38;5;28mhasattr\u001b[39m(x, \u001b[38;5;124m'\u001b[39m\u001b[38;5;124m__jax_array__\u001b[39m\u001b[38;5;124m'\u001b[39m):\n\u001b[1;32m   1489\u001b[0m   \u001b[38;5;28;01mreturn\u001b[39;00m concrete_aval(x\u001b[38;5;241m.\u001b[39m__jax_array__())\n",
      "File \u001b[0;32m~/Tatra/UHP/Code/Learning/venv11/lib/python3.11/site-packages/jax/_src/abstract_arrays.py:57\u001b[0m, in \u001b[0;36mcanonical_concrete_aval\u001b[0;34m(val, weak_type)\u001b[0m\n\u001b[1;32m     56\u001b[0m \u001b[38;5;28;01mdef\u001b[39;00m \u001b[38;5;21mcanonical_concrete_aval\u001b[39m(val, weak_type\u001b[38;5;241m=\u001b[39m\u001b[38;5;28;01mNone\u001b[39;00m):\n\u001b[0;32m---> 57\u001b[0m   \u001b[38;5;28;01mreturn\u001b[39;00m \u001b[43mConcreteArray\u001b[49m\u001b[43m(\u001b[49m\u001b[43mdtypes\u001b[49m\u001b[38;5;241;43m.\u001b[39;49m\u001b[43mcanonicalize_dtype\u001b[49m\u001b[43m(\u001b[49m\u001b[43mnp\u001b[49m\u001b[38;5;241;43m.\u001b[39;49m\u001b[43mresult_type\u001b[49m\u001b[43m(\u001b[49m\u001b[43mval\u001b[49m\u001b[43m)\u001b[49m\u001b[43m)\u001b[49m\u001b[43m,\u001b[49m\u001b[43m \u001b[49m\u001b[43mval\u001b[49m\u001b[43m,\u001b[49m\n\u001b[1;32m     58\u001b[0m \u001b[43m                       \u001b[49m\u001b[43mweak_type\u001b[49m\u001b[38;5;241;43m=\u001b[39;49m\u001b[43mweak_type\u001b[49m\u001b[43m)\u001b[49m\n",
      "File \u001b[0;32m~/Tatra/UHP/Code/Learning/venv11/lib/python3.11/site-packages/jax/_src/core.py:1737\u001b[0m, in \u001b[0;36mConcreteArray.__init__\u001b[0;34m(self, dtype, val, weak_type)\u001b[0m\n\u001b[1;32m   1736\u001b[0m \u001b[38;5;28;01mdef\u001b[39;00m \u001b[38;5;21m__init__\u001b[39m(\u001b[38;5;28mself\u001b[39m, dtype, val, weak_type\u001b[38;5;241m=\u001b[39m\u001b[38;5;28;01mNone\u001b[39;00m):\n\u001b[0;32m-> 1737\u001b[0m   \u001b[38;5;28;43msuper\u001b[39;49m\u001b[43m(\u001b[49m\u001b[43m)\u001b[49m\u001b[38;5;241;43m.\u001b[39;49m\u001b[38;5;21;43m__init__\u001b[39;49m\u001b[43m(\u001b[49m\n\u001b[1;32m   1738\u001b[0m \u001b[43m      \u001b[49m\u001b[43mnp\u001b[49m\u001b[38;5;241;43m.\u001b[39;49m\u001b[43mshape\u001b[49m\u001b[43m(\u001b[49m\u001b[43mval\u001b[49m\u001b[43m)\u001b[49m\u001b[43m,\u001b[49m\u001b[43m \u001b[49m\u001b[43mdtype\u001b[49m\u001b[43m,\u001b[49m\n\u001b[1;32m   1739\u001b[0m \u001b[43m      \u001b[49m\u001b[43mweak_type\u001b[49m\u001b[38;5;241;43m=\u001b[39;49m\u001b[43mdtypes\u001b[49m\u001b[38;5;241;43m.\u001b[39;49m\u001b[43mis_weakly_typed\u001b[49m\u001b[43m(\u001b[49m\u001b[43mval\u001b[49m\u001b[43m)\u001b[49m\u001b[43m \u001b[49m\u001b[38;5;28;43;01mif\u001b[39;49;00m\u001b[43m \u001b[49m\u001b[43mweak_type\u001b[49m\u001b[43m \u001b[49m\u001b[38;5;129;43;01mis\u001b[39;49;00m\u001b[43m \u001b[49m\u001b[38;5;28;43;01mNone\u001b[39;49;00m\u001b[43m \u001b[49m\u001b[38;5;28;43;01melse\u001b[39;49;00m\u001b[43m \u001b[49m\u001b[43mweak_type\u001b[49m\u001b[43m)\u001b[49m\n\u001b[1;32m   1740\u001b[0m   dtypes\u001b[38;5;241m.\u001b[39mcheck_valid_dtype(\u001b[38;5;28mself\u001b[39m\u001b[38;5;241m.\u001b[39mdtype)\n\u001b[1;32m   1741\u001b[0m   \u001b[38;5;66;03m# Note: canonicalized self.dtype doesn't necessarily match self.val\u001b[39;00m\n",
      "File \u001b[0;32m~/Tatra/UHP/Code/Learning/venv11/lib/python3.11/site-packages/jax/_src/core.py:1657\u001b[0m, in \u001b[0;36mShapedArray.__init__\u001b[0;34m(self, shape, dtype, weak_type, named_shape)\u001b[0m\n\u001b[1;32m   1655\u001b[0m \u001b[38;5;28;01mdef\u001b[39;00m \u001b[38;5;21m__init__\u001b[39m(\u001b[38;5;28mself\u001b[39m, shape, dtype, weak_type\u001b[38;5;241m=\u001b[39m\u001b[38;5;28;01mFalse\u001b[39;00m, named_shape\u001b[38;5;241m=\u001b[39m\u001b[38;5;28;01mNone\u001b[39;00m):\n\u001b[1;32m   1656\u001b[0m   \u001b[38;5;28mself\u001b[39m\u001b[38;5;241m.\u001b[39mshape \u001b[38;5;241m=\u001b[39m canonicalize_shape(shape)\n\u001b[0;32m-> 1657\u001b[0m   \u001b[38;5;28mself\u001b[39m\u001b[38;5;241m.\u001b[39mdtype \u001b[38;5;241m=\u001b[39m \u001b[43m_dtype_object\u001b[49m\u001b[43m(\u001b[49m\u001b[43mdtype\u001b[49m\u001b[43m)\u001b[49m\n\u001b[1;32m   1658\u001b[0m   \u001b[38;5;28mself\u001b[39m\u001b[38;5;241m.\u001b[39mweak_type \u001b[38;5;241m=\u001b[39m weak_type\n\u001b[1;32m   1659\u001b[0m   \u001b[38;5;28mself\u001b[39m\u001b[38;5;241m.\u001b[39mnamed_shape \u001b[38;5;241m=\u001b[39m {} \u001b[38;5;28;01mif\u001b[39;00m named_shape \u001b[38;5;129;01mis\u001b[39;00m \u001b[38;5;28;01mNone\u001b[39;00m \u001b[38;5;28;01melse\u001b[39;00m \u001b[38;5;28mdict\u001b[39m(named_shape)\n",
      "File \u001b[0;32m~/Tatra/UHP/Code/Learning/venv11/lib/python3.11/site-packages/jax/_src/core.py:1581\u001b[0m, in \u001b[0;36m_dtype_object\u001b[0;34m(dtype)\u001b[0m\n\u001b[1;32m   1580\u001b[0m \u001b[38;5;28;01mdef\u001b[39;00m \u001b[38;5;21m_dtype_object\u001b[39m(dtype):\n\u001b[0;32m-> 1581\u001b[0m   \u001b[38;5;28;01mreturn\u001b[39;00m dtype \u001b[38;5;28;01mif\u001b[39;00m \u001b[43mdtypes\u001b[49m\u001b[38;5;241;43m.\u001b[39;49m\u001b[43missubdtype\u001b[49m\u001b[43m(\u001b[49m\u001b[43mdtype\u001b[49m\u001b[43m,\u001b[49m\u001b[43m \u001b[49m\u001b[43mdtypes\u001b[49m\u001b[38;5;241;43m.\u001b[39;49m\u001b[43mextended\u001b[49m\u001b[43m)\u001b[49m \u001b[38;5;28;01melse\u001b[39;00m np\u001b[38;5;241m.\u001b[39mdtype(dtype)\n",
      "File \u001b[0;32m~/Tatra/UHP/Code/Learning/venv11/lib/python3.11/site-packages/jax/_src/dtypes.py:343\u001b[0m, in \u001b[0;36missubdtype\u001b[0;34m(a, b)\u001b[0m\n\u001b[1;32m    341\u001b[0m   \u001b[38;5;28;01mif\u001b[39;00m _issubclass(a, np\u001b[38;5;241m.\u001b[39mgeneric):\n\u001b[1;32m    342\u001b[0m     \u001b[38;5;28;01mreturn\u001b[39;00m _issubclass(a, b)\n\u001b[0;32m--> 343\u001b[0m   \u001b[38;5;28;01mreturn\u001b[39;00m _issubclass(\u001b[43mnp\u001b[49m\u001b[38;5;241;43m.\u001b[39;49m\u001b[43mdtype\u001b[49m\u001b[43m(\u001b[49m\u001b[43ma\u001b[49m\u001b[43m)\u001b[49m\u001b[38;5;241m.\u001b[39mtype, b)\n\u001b[1;32m    344\u001b[0m \u001b[38;5;28;01mif\u001b[39;00m \u001b[38;5;28misinstance\u001b[39m(b, ExtendedDType):\n\u001b[1;32m    345\u001b[0m   \u001b[38;5;28;01mreturn\u001b[39;00m \u001b[38;5;28misinstance\u001b[39m(a, ExtendedDType) \u001b[38;5;129;01mand\u001b[39;00m a \u001b[38;5;241m==\u001b[39m b\n",
      "\u001b[0;31mKeyboardInterrupt\u001b[0m: "
     ]
    }
   ],
   "source": [
    "sim.minimise()"
   ]
  },
  {
   "cell_type": "code",
   "execution_count": 13,
   "id": "2c6e2419-9d46-417d-9184-0112b770fce5",
   "metadata": {},
   "outputs": [
    {
     "name": "stdout",
     "output_type": "stream",
     "text": [
      "step ke pe\n",
      "Minimising... Initial PE: 2.149e+02\n",
      "step time pe\n",
      "1 0:00:49.044139 214.8559112548828\n",
      "2 0:01:37.939084 214.8355255126953\n"
     ]
    },
    {
     "ename": "KeyboardInterrupt",
     "evalue": "",
     "output_type": "error",
     "traceback": [
      "\u001b[0;31m---------------------------------------------------------------------------\u001b[0m",
      "\u001b[0;31mKeyboardInterrupt\u001b[0m                         Traceback (most recent call last)",
      "Cell \u001b[0;32mIn[13], line 1\u001b[0m\n\u001b[0;32m----> 1\u001b[0m \u001b[43msim\u001b[49m\u001b[38;5;241;43m.\u001b[39;49m\u001b[43mminimise\u001b[49m\u001b[43m(\u001b[49m\u001b[38;5;241;43m20\u001b[39;49m\u001b[43m,\u001b[49m\u001b[43m \u001b[49m\u001b[43mw\u001b[49m\u001b[38;5;241;43m=\u001b[39;49m\u001b[38;5;241;43m1e-4\u001b[39;49m\u001b[43m)\u001b[49m\n",
      "Cell \u001b[0;32mIn[2], line 101\u001b[0m, in \u001b[0;36mReactiveFF.minimise\u001b[0;34m(self, n_iter, w, thermo)\u001b[0m\n\u001b[1;32m     98\u001b[0m tic \u001b[38;5;241m=\u001b[39m datetime\u001b[38;5;241m.\u001b[39mnow()\n\u001b[1;32m    100\u001b[0m \u001b[38;5;28;01mfor\u001b[39;00m i \u001b[38;5;129;01min\u001b[39;00m \u001b[38;5;28mrange\u001b[39m(\u001b[38;5;241m1\u001b[39m, n_iter \u001b[38;5;241m+\u001b[39m \u001b[38;5;241m1\u001b[39m):\n\u001b[0;32m--> 101\u001b[0m     \u001b[38;5;28mself\u001b[39m\u001b[38;5;241m.\u001b[39mF \u001b[38;5;241m=\u001b[39m \u001b[38;5;28;43mself\u001b[39;49m\u001b[38;5;241;43m.\u001b[39;49m\u001b[43mcompute_force\u001b[49m\u001b[43m(\u001b[49m\u001b[43m)\u001b[49m\n\u001b[1;32m    102\u001b[0m     \u001b[38;5;28mself\u001b[39m\u001b[38;5;241m.\u001b[39mX \u001b[38;5;241m+\u001b[39m\u001b[38;5;241m=\u001b[39m \u001b[38;5;28mself\u001b[39m\u001b[38;5;241m.\u001b[39mF \u001b[38;5;241m*\u001b[39m w\n\u001b[1;32m    103\u001b[0m     \u001b[38;5;28mself\u001b[39m\u001b[38;5;241m.\u001b[39mX \u001b[38;5;241m=\u001b[39m \u001b[38;5;28mself\u001b[39m\u001b[38;5;241m.\u001b[39mX \u001b[38;5;241m%\u001b[39m np\u001b[38;5;241m.\u001b[39mdiag(\u001b[38;5;28mself\u001b[39m\u001b[38;5;241m.\u001b[39mbox)\n",
      "Cell \u001b[0;32mIn[2], line 82\u001b[0m, in \u001b[0;36mReactiveFF.compute_force\u001b[0;34m(self)\u001b[0m\n\u001b[1;32m     79\u001b[0m rij \u001b[38;5;241m=\u001b[39m jnp\u001b[38;5;241m.\u001b[39mdot(\u001b[38;5;28mself\u001b[39m\u001b[38;5;241m.\u001b[39mbox, g)\n\u001b[1;32m     81\u001b[0m \u001b[38;5;66;03m# compute pair force\u001b[39;00m\n\u001b[0;32m---> 82\u001b[0m f_pair \u001b[38;5;241m=\u001b[39m \u001b[43mforce\u001b[49m\u001b[43m(\u001b[49m\u001b[43mpotential\u001b[49m\u001b[43m,\u001b[49m\u001b[43m \u001b[49m\u001b[43mri\u001b[49m\u001b[43m,\u001b[49m\u001b[43m \u001b[49m\u001b[43mrj\u001b[49m\u001b[43m)\u001b[49m \u001b[38;5;66;03m# ADD fluct-dissip terms\u001b[39;00m\n\u001b[1;32m     84\u001b[0m \u001b[38;5;66;03m# compute total force\u001b[39;00m\n\u001b[1;32m     85\u001b[0m \u001b[38;5;28mself\u001b[39m\u001b[38;5;241m.\u001b[39mF_cube[i, j, :] \u001b[38;5;241m=\u001b[39m f_pair\n",
      "Cell \u001b[0;32mIn[2], line 175\u001b[0m, in \u001b[0;36mforce\u001b[0;34m(pot, r1, r2)\u001b[0m\n\u001b[1;32m    173\u001b[0m \u001b[38;5;28;01mdef\u001b[39;00m \u001b[38;5;21mforce\u001b[39m(pot, r1, r2):\n\u001b[1;32m    174\u001b[0m \u001b[38;5;250m    \u001b[39m\u001b[38;5;124;03m\"\"\"Compute force on particle 1 from particle 2\"\"\"\u001b[39;00m\n\u001b[0;32m--> 175\u001b[0m     \u001b[38;5;28;01mreturn\u001b[39;00m \u001b[38;5;241m-\u001b[39m\u001b[43mjax\u001b[49m\u001b[38;5;241;43m.\u001b[39;49m\u001b[43mgrad\u001b[49m\u001b[43m(\u001b[49m\u001b[43mpot\u001b[49m\u001b[43m)\u001b[49m\u001b[43m(\u001b[49m\u001b[43mr1\u001b[49m\u001b[43m,\u001b[49m\u001b[43m \u001b[49m\u001b[43mr2\u001b[49m\u001b[43m)\u001b[49m\n",
      "    \u001b[0;31m[... skipping hidden 1 frame]\u001b[0m\n",
      "File \u001b[0;32m~/Tatra/UHP/Code/Learning/venv11/lib/python3.11/site-packages/jax/_src/api.py:659\u001b[0m, in \u001b[0;36mgrad.<locals>.grad_f\u001b[0;34m(*args, **kwargs)\u001b[0m\n\u001b[1;32m    656\u001b[0m \u001b[38;5;129m@wraps\u001b[39m(fun, docstr\u001b[38;5;241m=\u001b[39mdocstr, argnums\u001b[38;5;241m=\u001b[39margnums)\n\u001b[1;32m    657\u001b[0m \u001b[38;5;129m@api_boundary\u001b[39m\n\u001b[1;32m    658\u001b[0m \u001b[38;5;28;01mdef\u001b[39;00m \u001b[38;5;21mgrad_f\u001b[39m(\u001b[38;5;241m*\u001b[39margs, \u001b[38;5;241m*\u001b[39m\u001b[38;5;241m*\u001b[39mkwargs):\n\u001b[0;32m--> 659\u001b[0m   _, g \u001b[38;5;241m=\u001b[39m \u001b[43mvalue_and_grad_f\u001b[49m\u001b[43m(\u001b[49m\u001b[38;5;241;43m*\u001b[39;49m\u001b[43margs\u001b[49m\u001b[43m,\u001b[49m\u001b[43m \u001b[49m\u001b[38;5;241;43m*\u001b[39;49m\u001b[38;5;241;43m*\u001b[39;49m\u001b[43mkwargs\u001b[49m\u001b[43m)\u001b[49m\n\u001b[1;32m    660\u001b[0m   \u001b[38;5;28;01mreturn\u001b[39;00m g\n",
      "    \u001b[0;31m[... skipping hidden 1 frame]\u001b[0m\n",
      "File \u001b[0;32m~/Tatra/UHP/Code/Learning/venv11/lib/python3.11/site-packages/jax/_src/api.py:735\u001b[0m, in \u001b[0;36mvalue_and_grad.<locals>.value_and_grad_f\u001b[0;34m(*args, **kwargs)\u001b[0m\n\u001b[1;32m    733\u001b[0m   _check_input_dtype_grad(holomorphic, allow_int, leaf)\n\u001b[1;32m    734\u001b[0m \u001b[38;5;28;01mif\u001b[39;00m \u001b[38;5;129;01mnot\u001b[39;00m has_aux:\n\u001b[0;32m--> 735\u001b[0m   ans, vjp_py \u001b[38;5;241m=\u001b[39m \u001b[43m_vjp\u001b[49m\u001b[43m(\u001b[49m\u001b[43mf_partial\u001b[49m\u001b[43m,\u001b[49m\u001b[43m \u001b[49m\u001b[38;5;241;43m*\u001b[39;49m\u001b[43mdyn_args\u001b[49m\u001b[43m,\u001b[49m\u001b[43m \u001b[49m\u001b[43mreduce_axes\u001b[49m\u001b[38;5;241;43m=\u001b[39;49m\u001b[43mreduce_axes\u001b[49m\u001b[43m)\u001b[49m\n\u001b[1;32m    736\u001b[0m \u001b[38;5;28;01melse\u001b[39;00m:\n\u001b[1;32m    737\u001b[0m   ans, vjp_py, aux \u001b[38;5;241m=\u001b[39m _vjp(\n\u001b[1;32m    738\u001b[0m       f_partial, \u001b[38;5;241m*\u001b[39mdyn_args, has_aux\u001b[38;5;241m=\u001b[39m\u001b[38;5;28;01mTrue\u001b[39;00m, reduce_axes\u001b[38;5;241m=\u001b[39mreduce_axes)\n",
      "File \u001b[0;32m~/Tatra/UHP/Code/Learning/venv11/lib/python3.11/site-packages/jax/_src/api.py:2223\u001b[0m, in \u001b[0;36m_vjp\u001b[0;34m(fun, has_aux, reduce_axes, *primals)\u001b[0m\n\u001b[1;32m   2221\u001b[0m \u001b[38;5;28;01mif\u001b[39;00m \u001b[38;5;129;01mnot\u001b[39;00m has_aux:\n\u001b[1;32m   2222\u001b[0m   flat_fun, out_tree \u001b[38;5;241m=\u001b[39m flatten_fun_nokwargs(fun, in_tree)\n\u001b[0;32m-> 2223\u001b[0m   out_primal, out_vjp \u001b[38;5;241m=\u001b[39m \u001b[43mad\u001b[49m\u001b[38;5;241;43m.\u001b[39;49m\u001b[43mvjp\u001b[49m\u001b[43m(\u001b[49m\n\u001b[1;32m   2224\u001b[0m \u001b[43m      \u001b[49m\u001b[43mflat_fun\u001b[49m\u001b[43m,\u001b[49m\u001b[43m \u001b[49m\u001b[43mprimals_flat\u001b[49m\u001b[43m,\u001b[49m\u001b[43m \u001b[49m\u001b[43mreduce_axes\u001b[49m\u001b[38;5;241;43m=\u001b[39;49m\u001b[43mreduce_axes\u001b[49m\u001b[43m)\u001b[49m\n\u001b[1;32m   2225\u001b[0m   out_tree \u001b[38;5;241m=\u001b[39m out_tree()\n\u001b[1;32m   2226\u001b[0m \u001b[38;5;28;01melse\u001b[39;00m:\n",
      "File \u001b[0;32m~/Tatra/UHP/Code/Learning/venv11/lib/python3.11/site-packages/jax/_src/interpreters/ad.py:142\u001b[0m, in \u001b[0;36mvjp\u001b[0;34m(traceable, primals, has_aux, reduce_axes)\u001b[0m\n\u001b[1;32m    140\u001b[0m \u001b[38;5;28;01mdef\u001b[39;00m \u001b[38;5;21mvjp\u001b[39m(traceable, primals, has_aux\u001b[38;5;241m=\u001b[39m\u001b[38;5;28;01mFalse\u001b[39;00m, reduce_axes\u001b[38;5;241m=\u001b[39m()):\n\u001b[1;32m    141\u001b[0m   \u001b[38;5;28;01mif\u001b[39;00m \u001b[38;5;129;01mnot\u001b[39;00m has_aux:\n\u001b[0;32m--> 142\u001b[0m     out_primals, pvals, jaxpr, consts \u001b[38;5;241m=\u001b[39m \u001b[43mlinearize\u001b[49m\u001b[43m(\u001b[49m\u001b[43mtraceable\u001b[49m\u001b[43m,\u001b[49m\u001b[43m \u001b[49m\u001b[38;5;241;43m*\u001b[39;49m\u001b[43mprimals\u001b[49m\u001b[43m)\u001b[49m\n\u001b[1;32m    143\u001b[0m   \u001b[38;5;28;01melse\u001b[39;00m:\n\u001b[1;32m    144\u001b[0m     out_primals, pvals, jaxpr, consts, aux \u001b[38;5;241m=\u001b[39m linearize(traceable, \u001b[38;5;241m*\u001b[39mprimals, has_aux\u001b[38;5;241m=\u001b[39m\u001b[38;5;28;01mTrue\u001b[39;00m)\n",
      "File \u001b[0;32m~/Tatra/UHP/Code/Learning/venv11/lib/python3.11/site-packages/jax/_src/interpreters/ad.py:131\u001b[0m, in \u001b[0;36mlinearize\u001b[0;34m(traceable, *primals, **kwargs)\u001b[0m\n\u001b[1;32m    129\u001b[0m _, in_tree \u001b[38;5;241m=\u001b[39m tree_flatten(((primals, primals), {}))\n\u001b[1;32m    130\u001b[0m jvpfun_flat, out_tree \u001b[38;5;241m=\u001b[39m flatten_fun(jvpfun, in_tree)\n\u001b[0;32m--> 131\u001b[0m jaxpr, out_pvals, consts \u001b[38;5;241m=\u001b[39m \u001b[43mpe\u001b[49m\u001b[38;5;241;43m.\u001b[39;49m\u001b[43mtrace_to_jaxpr_nounits\u001b[49m\u001b[43m(\u001b[49m\u001b[43mjvpfun_flat\u001b[49m\u001b[43m,\u001b[49m\u001b[43m \u001b[49m\u001b[43min_pvals\u001b[49m\u001b[43m)\u001b[49m\n\u001b[1;32m    132\u001b[0m out_primals_pvals, out_tangents_pvals \u001b[38;5;241m=\u001b[39m tree_unflatten(out_tree(), out_pvals)\n\u001b[1;32m    133\u001b[0m \u001b[38;5;28;01massert\u001b[39;00m \u001b[38;5;28mall\u001b[39m(out_primal_pval\u001b[38;5;241m.\u001b[39mis_known() \u001b[38;5;28;01mfor\u001b[39;00m out_primal_pval \u001b[38;5;129;01min\u001b[39;00m out_primals_pvals)\n",
      "File \u001b[0;32m~/Tatra/UHP/Code/Learning/venv11/lib/python3.11/site-packages/jax/_src/profiler.py:336\u001b[0m, in \u001b[0;36mannotate_function.<locals>.wrapper\u001b[0;34m(*args, **kwargs)\u001b[0m\n\u001b[1;32m    333\u001b[0m \u001b[38;5;129m@wraps\u001b[39m(func)\n\u001b[1;32m    334\u001b[0m \u001b[38;5;28;01mdef\u001b[39;00m \u001b[38;5;21mwrapper\u001b[39m(\u001b[38;5;241m*\u001b[39margs, \u001b[38;5;241m*\u001b[39m\u001b[38;5;241m*\u001b[39mkwargs):\n\u001b[1;32m    335\u001b[0m   \u001b[38;5;28;01mwith\u001b[39;00m TraceAnnotation(name, \u001b[38;5;241m*\u001b[39m\u001b[38;5;241m*\u001b[39mdecorator_kwargs):\n\u001b[0;32m--> 336\u001b[0m     \u001b[38;5;28;01mreturn\u001b[39;00m \u001b[43mfunc\u001b[49m\u001b[43m(\u001b[49m\u001b[38;5;241;43m*\u001b[39;49m\u001b[43margs\u001b[49m\u001b[43m,\u001b[49m\u001b[43m \u001b[49m\u001b[38;5;241;43m*\u001b[39;49m\u001b[38;5;241;43m*\u001b[39;49m\u001b[43mkwargs\u001b[49m\u001b[43m)\u001b[49m\n\u001b[1;32m    337\u001b[0m   \u001b[38;5;28;01mreturn\u001b[39;00m wrapper\n",
      "File \u001b[0;32m~/Tatra/UHP/Code/Learning/venv11/lib/python3.11/site-packages/jax/_src/interpreters/partial_eval.py:774\u001b[0m, in \u001b[0;36mtrace_to_jaxpr_nounits\u001b[0;34m(fun, pvals, instantiate)\u001b[0m\n\u001b[1;32m    772\u001b[0m \u001b[38;5;28;01mwith\u001b[39;00m core\u001b[38;5;241m.\u001b[39mnew_main(JaxprTrace, name_stack\u001b[38;5;241m=\u001b[39mcurrent_name_stack) \u001b[38;5;28;01mas\u001b[39;00m main:\n\u001b[1;32m    773\u001b[0m   fun \u001b[38;5;241m=\u001b[39m trace_to_subjaxpr_nounits(fun, main, instantiate)\n\u001b[0;32m--> 774\u001b[0m   jaxpr, (out_pvals, consts, env) \u001b[38;5;241m=\u001b[39m \u001b[43mfun\u001b[49m\u001b[38;5;241;43m.\u001b[39;49m\u001b[43mcall_wrapped\u001b[49m\u001b[43m(\u001b[49m\u001b[43mpvals\u001b[49m\u001b[43m)\u001b[49m\n\u001b[1;32m    775\u001b[0m   \u001b[38;5;28;01massert\u001b[39;00m \u001b[38;5;129;01mnot\u001b[39;00m env\n\u001b[1;32m    776\u001b[0m   \u001b[38;5;28;01mdel\u001b[39;00m main, fun, env\n",
      "File \u001b[0;32m~/Tatra/UHP/Code/Learning/venv11/lib/python3.11/site-packages/jax/_src/linear_util.py:191\u001b[0m, in \u001b[0;36mWrappedFun.call_wrapped\u001b[0;34m(self, *args, **kwargs)\u001b[0m\n\u001b[1;32m    188\u001b[0m gen \u001b[38;5;241m=\u001b[39m gen_static_args \u001b[38;5;241m=\u001b[39m out_store \u001b[38;5;241m=\u001b[39m \u001b[38;5;28;01mNone\u001b[39;00m\n\u001b[1;32m    190\u001b[0m \u001b[38;5;28;01mtry\u001b[39;00m:\n\u001b[0;32m--> 191\u001b[0m   ans \u001b[38;5;241m=\u001b[39m \u001b[38;5;28;43mself\u001b[39;49m\u001b[38;5;241;43m.\u001b[39;49m\u001b[43mf\u001b[49m\u001b[43m(\u001b[49m\u001b[38;5;241;43m*\u001b[39;49m\u001b[43margs\u001b[49m\u001b[43m,\u001b[49m\u001b[43m \u001b[49m\u001b[38;5;241;43m*\u001b[39;49m\u001b[38;5;241;43m*\u001b[39;49m\u001b[38;5;28;43mdict\u001b[39;49m\u001b[43m(\u001b[49m\u001b[38;5;28;43mself\u001b[39;49m\u001b[38;5;241;43m.\u001b[39;49m\u001b[43mparams\u001b[49m\u001b[43m,\u001b[49m\u001b[43m \u001b[49m\u001b[38;5;241;43m*\u001b[39;49m\u001b[38;5;241;43m*\u001b[39;49m\u001b[43mkwargs\u001b[49m\u001b[43m)\u001b[49m\u001b[43m)\u001b[49m\n\u001b[1;32m    192\u001b[0m \u001b[38;5;28;01mexcept\u001b[39;00m:\n\u001b[1;32m    193\u001b[0m   \u001b[38;5;66;03m# Some transformations yield from inside context managers, so we have to\u001b[39;00m\n\u001b[1;32m    194\u001b[0m   \u001b[38;5;66;03m# interrupt them before reraising the exception. Otherwise they will only\u001b[39;00m\n\u001b[1;32m    195\u001b[0m   \u001b[38;5;66;03m# get garbage-collected at some later time, running their cleanup tasks\u001b[39;00m\n\u001b[1;32m    196\u001b[0m   \u001b[38;5;66;03m# only after this exception is handled, which can corrupt the global\u001b[39;00m\n\u001b[1;32m    197\u001b[0m   \u001b[38;5;66;03m# state.\u001b[39;00m\n\u001b[1;32m    198\u001b[0m   \u001b[38;5;28;01mwhile\u001b[39;00m stack:\n",
      "Cell \u001b[0;32mIn[2], line 169\u001b[0m, in \u001b[0;36mpotential\u001b[0;34m(r1, r2)\u001b[0m\n\u001b[1;32m    166\u001b[0m r_cut \u001b[38;5;241m=\u001b[39m \u001b[38;5;241m6.0\u001b[39m \u001b[38;5;66;03m# adhoc\u001b[39;00m\n\u001b[1;32m    168\u001b[0m r \u001b[38;5;241m=\u001b[39m jnp\u001b[38;5;241m.\u001b[39mlinalg\u001b[38;5;241m.\u001b[39mnorm(r1 \u001b[38;5;241m-\u001b[39m r2)\n\u001b[0;32m--> 169\u001b[0m V \u001b[38;5;241m=\u001b[39m (A \u001b[38;5;241m-\u001b[39m B \u001b[38;5;241m*\u001b[39m \u001b[43mjnp\u001b[49m\u001b[38;5;241;43m.\u001b[39;49m\u001b[43mexp\u001b[49m\u001b[43m(\u001b[49m\u001b[38;5;241;43m-\u001b[39;49m\u001b[43mC\u001b[49m\u001b[38;5;241;43m*\u001b[39;49m\u001b[43m(\u001b[49m\u001b[43mr\u001b[49m\u001b[43m \u001b[49m\u001b[38;5;241;43m-\u001b[39;49m\u001b[43m \u001b[49m\u001b[43mre\u001b[49m\u001b[43m)\u001b[49m\u001b[38;5;241;43m*\u001b[39;49m\u001b[38;5;241;43m*\u001b[39;49m\u001b[38;5;241;43m2\u001b[39;49m\u001b[43m)\u001b[49m) \u001b[38;5;241m*\u001b[39m jnp\u001b[38;5;241m.\u001b[39mexp(\u001b[38;5;241m-\u001b[39mD\u001b[38;5;241m*\u001b[39mr\u001b[38;5;241m*\u001b[39m\u001b[38;5;241m*\u001b[39m\u001b[38;5;241m2\u001b[39m)\n\u001b[1;32m    170\u001b[0m \u001b[38;5;28;01mreturn\u001b[39;00m V \u001b[38;5;28;01mif\u001b[39;00m r \u001b[38;5;241m<\u001b[39m\u001b[38;5;241m=\u001b[39m r_cut \u001b[38;5;28;01melse\u001b[39;00m \u001b[38;5;241m0.0\u001b[39m\n",
      "    \u001b[0;31m[... skipping hidden 1 frame]\u001b[0m\n",
      "File \u001b[0;32m~/Tatra/UHP/Code/Learning/venv11/lib/python3.11/site-packages/jax/_src/pjit.py:257\u001b[0m, in \u001b[0;36m_cpp_pjit.<locals>.cache_miss\u001b[0;34m(*args, **kwargs)\u001b[0m\n\u001b[1;32m    255\u001b[0m \u001b[38;5;129m@api_boundary\u001b[39m\n\u001b[1;32m    256\u001b[0m \u001b[38;5;28;01mdef\u001b[39;00m \u001b[38;5;21mcache_miss\u001b[39m(\u001b[38;5;241m*\u001b[39margs, \u001b[38;5;241m*\u001b[39m\u001b[38;5;241m*\u001b[39mkwargs):\n\u001b[0;32m--> 257\u001b[0m   outs, out_flat, out_tree, args_flat, jaxpr \u001b[38;5;241m=\u001b[39m \u001b[43m_python_pjit_helper\u001b[49m\u001b[43m(\u001b[49m\n\u001b[1;32m    258\u001b[0m \u001b[43m      \u001b[49m\u001b[43mfun\u001b[49m\u001b[43m,\u001b[49m\u001b[43m \u001b[49m\u001b[43minfer_params_fn\u001b[49m\u001b[43m,\u001b[49m\u001b[43m \u001b[49m\u001b[38;5;241;43m*\u001b[39;49m\u001b[43margs\u001b[49m\u001b[43m,\u001b[49m\u001b[43m \u001b[49m\u001b[38;5;241;43m*\u001b[39;49m\u001b[38;5;241;43m*\u001b[39;49m\u001b[43mkwargs\u001b[49m\u001b[43m)\u001b[49m\n\u001b[1;32m    259\u001b[0m   executable \u001b[38;5;241m=\u001b[39m _read_most_recent_pjit_call_executable(jaxpr)\n\u001b[1;32m    260\u001b[0m   fastpath_data \u001b[38;5;241m=\u001b[39m _get_fastpath_data(executable, out_tree, args_flat, out_flat)\n",
      "File \u001b[0;32m~/Tatra/UHP/Code/Learning/venv11/lib/python3.11/site-packages/jax/_src/pjit.py:163\u001b[0m, in \u001b[0;36m_python_pjit_helper\u001b[0;34m(fun, infer_params_fn, *args, **kwargs)\u001b[0m\n\u001b[1;32m    162\u001b[0m \u001b[38;5;28;01mdef\u001b[39;00m \u001b[38;5;21m_python_pjit_helper\u001b[39m(fun, infer_params_fn, \u001b[38;5;241m*\u001b[39margs, \u001b[38;5;241m*\u001b[39m\u001b[38;5;241m*\u001b[39mkwargs):\n\u001b[0;32m--> 163\u001b[0m   args_flat, _, params, in_tree, out_tree, _, _, _ \u001b[38;5;241m=\u001b[39m \u001b[43minfer_params_fn\u001b[49m\u001b[43m(\u001b[49m\n\u001b[1;32m    164\u001b[0m \u001b[43m      \u001b[49m\u001b[38;5;241;43m*\u001b[39;49m\u001b[43margs\u001b[49m\u001b[43m,\u001b[49m\u001b[43m \u001b[49m\u001b[38;5;241;43m*\u001b[39;49m\u001b[38;5;241;43m*\u001b[39;49m\u001b[43mkwargs\u001b[49m\u001b[43m)\u001b[49m\n\u001b[1;32m    165\u001b[0m   \u001b[38;5;28;01mfor\u001b[39;00m arg \u001b[38;5;129;01min\u001b[39;00m args_flat:\n\u001b[1;32m    166\u001b[0m     dispatch\u001b[38;5;241m.\u001b[39mcheck_arg(arg)\n",
      "File \u001b[0;32m~/Tatra/UHP/Code/Learning/venv11/lib/python3.11/site-packages/jax/_src/api.py:317\u001b[0m, in \u001b[0;36mjit.<locals>.infer_params\u001b[0;34m(*args, **kwargs)\u001b[0m\n\u001b[1;32m    308\u001b[0m out_layouts \u001b[38;5;241m=\u001b[39m kwargs\u001b[38;5;241m.\u001b[39mpop(\u001b[38;5;124m'\u001b[39m\u001b[38;5;124m_out_layouts\u001b[39m\u001b[38;5;124m'\u001b[39m, \u001b[38;5;28;01mNone\u001b[39;00m)\n\u001b[1;32m    309\u001b[0m pjit_info_args \u001b[38;5;241m=\u001b[39m pjit\u001b[38;5;241m.\u001b[39mPjitInfo(\n\u001b[1;32m    310\u001b[0m     fun\u001b[38;5;241m=\u001b[39mfun, in_shardings\u001b[38;5;241m=\u001b[39min_shardings,\n\u001b[1;32m    311\u001b[0m     out_shardings\u001b[38;5;241m=\u001b[39mout_shardings, static_argnums\u001b[38;5;241m=\u001b[39mstatic_argnums,\n\u001b[0;32m   (...)\u001b[0m\n\u001b[1;32m    315\u001b[0m     abstracted_axes\u001b[38;5;241m=\u001b[39mabstracted_axes, in_layouts\u001b[38;5;241m=\u001b[39min_layouts,\n\u001b[1;32m    316\u001b[0m     out_layouts\u001b[38;5;241m=\u001b[39mout_layouts)\n\u001b[0;32m--> 317\u001b[0m \u001b[38;5;28;01mreturn\u001b[39;00m \u001b[43mpjit\u001b[49m\u001b[38;5;241;43m.\u001b[39;49m\u001b[43mcommon_infer_params\u001b[49m\u001b[43m(\u001b[49m\u001b[43mpjit_info_args\u001b[49m\u001b[43m,\u001b[49m\u001b[43m \u001b[49m\u001b[38;5;241;43m*\u001b[39;49m\u001b[43margs\u001b[49m\u001b[43m,\u001b[49m\u001b[43m \u001b[49m\u001b[38;5;241;43m*\u001b[39;49m\u001b[38;5;241;43m*\u001b[39;49m\u001b[43mkwargs\u001b[49m\u001b[43m)\u001b[49m\n",
      "File \u001b[0;32m~/Tatra/UHP/Code/Learning/venv11/lib/python3.11/site-packages/jax/_src/pjit.py:437\u001b[0m, in \u001b[0;36mcommon_infer_params\u001b[0;34m(***failed resolving arguments***)\u001b[0m\n\u001b[1;32m    435\u001b[0m   flat_fun, out_tree \u001b[38;5;241m=\u001b[39m flatten_fun(f, in_tree)\n\u001b[1;32m    436\u001b[0m \u001b[38;5;28;01melse\u001b[39;00m:\n\u001b[0;32m--> 437\u001b[0m   explicit_args, in_tree \u001b[38;5;241m=\u001b[39m \u001b[43mtree_flatten\u001b[49m\u001b[43m(\u001b[49m\u001b[43mdyn_args\u001b[49m\u001b[43m)\u001b[49m\n\u001b[1;32m    438\u001b[0m   flat_fun, out_tree \u001b[38;5;241m=\u001b[39m flatten_fun_nokwargs(f, in_tree)\n\u001b[1;32m    439\u001b[0m   dyn_kwargs \u001b[38;5;241m=\u001b[39m {}\n",
      "File \u001b[0;32m~/Tatra/UHP/Code/Learning/venv11/lib/python3.11/site-packages/jax/_src/tree_util.py:83\u001b[0m, in \u001b[0;36mtree_flatten\u001b[0;34m(tree, is_leaf)\u001b[0m\n\u001b[1;32m     63\u001b[0m \u001b[38;5;28;01mdef\u001b[39;00m \u001b[38;5;21mtree_flatten\u001b[39m(tree: Any,\n\u001b[1;32m     64\u001b[0m                  is_leaf: Callable[[Any], \u001b[38;5;28mbool\u001b[39m] \u001b[38;5;241m|\u001b[39m \u001b[38;5;28;01mNone\u001b[39;00m \u001b[38;5;241m=\u001b[39m \u001b[38;5;28;01mNone\u001b[39;00m\n\u001b[1;32m     65\u001b[0m                  ) \u001b[38;5;241m-\u001b[39m\u001b[38;5;241m>\u001b[39m \u001b[38;5;28mtuple\u001b[39m[\u001b[38;5;28mlist\u001b[39m[Leaf], PyTreeDef]:\n\u001b[1;32m     66\u001b[0m \u001b[38;5;250m  \u001b[39m\u001b[38;5;124;03m\"\"\"Flattens a pytree.\u001b[39;00m\n\u001b[1;32m     67\u001b[0m \n\u001b[1;32m     68\u001b[0m \u001b[38;5;124;03m  The flattening order (i.e. the order of elements in the output list)\u001b[39;00m\n\u001b[0;32m   (...)\u001b[0m\n\u001b[1;32m     81\u001b[0m \u001b[38;5;124;03m    element is a treedef representing the structure of the flattened tree.\u001b[39;00m\n\u001b[1;32m     82\u001b[0m \u001b[38;5;124;03m  \"\"\"\u001b[39;00m\n\u001b[0;32m---> 83\u001b[0m   \u001b[38;5;28;01mreturn\u001b[39;00m \u001b[43mdefault_registry\u001b[49m\u001b[38;5;241;43m.\u001b[39;49m\u001b[43mflatten\u001b[49m\u001b[43m(\u001b[49m\u001b[43mtree\u001b[49m\u001b[43m,\u001b[49m\u001b[43m \u001b[49m\u001b[43mis_leaf\u001b[49m\u001b[43m)\u001b[49m\n",
      "\u001b[0;31mKeyboardInterrupt\u001b[0m: "
     ]
    }
   ],
   "source": [
    "sim.minimise(20, w=1e-4)"
   ]
  },
  {
   "cell_type": "code",
   "execution_count": 15,
   "id": "3a68a545-0f62-4224-99f0-1b951fd1cef9",
   "metadata": {},
   "outputs": [
    {
     "name": "stdout",
     "output_type": "stream",
     "text": [
      "step ke pe\n",
      "Minimising... Initial PE: 2.106e+02\n",
      "step time pe\n",
      "1 0:00:47.400637 202.99716186523438\n",
      "2 0:01:34.539080 193.6429901123047\n",
      "3 0:02:21.728902 188.76344299316406\n"
     ]
    },
    {
     "ename": "KeyboardInterrupt",
     "evalue": "",
     "output_type": "error",
     "traceback": [
      "\u001b[0;31m---------------------------------------------------------------------------\u001b[0m",
      "\u001b[0;31mKeyboardInterrupt\u001b[0m                         Traceback (most recent call last)",
      "Cell \u001b[0;32mIn[15], line 1\u001b[0m\n\u001b[0;32m----> 1\u001b[0m \u001b[43msim\u001b[49m\u001b[38;5;241;43m.\u001b[39;49m\u001b[43mminimise\u001b[49m\u001b[43m(\u001b[49m\u001b[38;5;241;43m20\u001b[39;49m\u001b[43m,\u001b[49m\u001b[43m \u001b[49m\u001b[43mw\u001b[49m\u001b[38;5;241;43m=\u001b[39;49m\u001b[38;5;241;43m5e-2\u001b[39;49m\u001b[43m)\u001b[49m\n",
      "Cell \u001b[0;32mIn[2], line 101\u001b[0m, in \u001b[0;36mReactiveFF.minimise\u001b[0;34m(self, n_iter, w, thermo)\u001b[0m\n\u001b[1;32m     98\u001b[0m tic \u001b[38;5;241m=\u001b[39m datetime\u001b[38;5;241m.\u001b[39mnow()\n\u001b[1;32m    100\u001b[0m \u001b[38;5;28;01mfor\u001b[39;00m i \u001b[38;5;129;01min\u001b[39;00m \u001b[38;5;28mrange\u001b[39m(\u001b[38;5;241m1\u001b[39m, n_iter \u001b[38;5;241m+\u001b[39m \u001b[38;5;241m1\u001b[39m):\n\u001b[0;32m--> 101\u001b[0m     \u001b[38;5;28mself\u001b[39m\u001b[38;5;241m.\u001b[39mF \u001b[38;5;241m=\u001b[39m \u001b[38;5;28;43mself\u001b[39;49m\u001b[38;5;241;43m.\u001b[39;49m\u001b[43mcompute_force\u001b[49m\u001b[43m(\u001b[49m\u001b[43m)\u001b[49m\n\u001b[1;32m    102\u001b[0m     \u001b[38;5;28mself\u001b[39m\u001b[38;5;241m.\u001b[39mX \u001b[38;5;241m+\u001b[39m\u001b[38;5;241m=\u001b[39m \u001b[38;5;28mself\u001b[39m\u001b[38;5;241m.\u001b[39mF \u001b[38;5;241m*\u001b[39m w\n\u001b[1;32m    103\u001b[0m     \u001b[38;5;28mself\u001b[39m\u001b[38;5;241m.\u001b[39mX \u001b[38;5;241m=\u001b[39m \u001b[38;5;28mself\u001b[39m\u001b[38;5;241m.\u001b[39mX \u001b[38;5;241m%\u001b[39m np\u001b[38;5;241m.\u001b[39mdiag(\u001b[38;5;28mself\u001b[39m\u001b[38;5;241m.\u001b[39mbox)\n",
      "Cell \u001b[0;32mIn[2], line 82\u001b[0m, in \u001b[0;36mReactiveFF.compute_force\u001b[0;34m(self)\u001b[0m\n\u001b[1;32m     79\u001b[0m rij \u001b[38;5;241m=\u001b[39m jnp\u001b[38;5;241m.\u001b[39mdot(\u001b[38;5;28mself\u001b[39m\u001b[38;5;241m.\u001b[39mbox, g)\n\u001b[1;32m     81\u001b[0m \u001b[38;5;66;03m# compute pair force\u001b[39;00m\n\u001b[0;32m---> 82\u001b[0m f_pair \u001b[38;5;241m=\u001b[39m \u001b[43mforce\u001b[49m\u001b[43m(\u001b[49m\u001b[43mpotential\u001b[49m\u001b[43m,\u001b[49m\u001b[43m \u001b[49m\u001b[43mri\u001b[49m\u001b[43m,\u001b[49m\u001b[43m \u001b[49m\u001b[43mrj\u001b[49m\u001b[43m)\u001b[49m \u001b[38;5;66;03m# ADD fluct-dissip terms\u001b[39;00m\n\u001b[1;32m     84\u001b[0m \u001b[38;5;66;03m# compute total force\u001b[39;00m\n\u001b[1;32m     85\u001b[0m \u001b[38;5;28mself\u001b[39m\u001b[38;5;241m.\u001b[39mF_cube[i, j, :] \u001b[38;5;241m=\u001b[39m f_pair\n",
      "Cell \u001b[0;32mIn[2], line 175\u001b[0m, in \u001b[0;36mforce\u001b[0;34m(pot, r1, r2)\u001b[0m\n\u001b[1;32m    173\u001b[0m \u001b[38;5;28;01mdef\u001b[39;00m \u001b[38;5;21mforce\u001b[39m(pot, r1, r2):\n\u001b[1;32m    174\u001b[0m \u001b[38;5;250m    \u001b[39m\u001b[38;5;124;03m\"\"\"Compute force on particle 1 from particle 2\"\"\"\u001b[39;00m\n\u001b[0;32m--> 175\u001b[0m     \u001b[38;5;28;01mreturn\u001b[39;00m \u001b[38;5;241m-\u001b[39m\u001b[43mjax\u001b[49m\u001b[38;5;241;43m.\u001b[39;49m\u001b[43mgrad\u001b[49m\u001b[43m(\u001b[49m\u001b[43mpot\u001b[49m\u001b[43m)\u001b[49m\u001b[43m(\u001b[49m\u001b[43mr1\u001b[49m\u001b[43m,\u001b[49m\u001b[43m \u001b[49m\u001b[43mr2\u001b[49m\u001b[43m)\u001b[49m\n",
      "    \u001b[0;31m[... skipping hidden 1 frame]\u001b[0m\n",
      "File \u001b[0;32m~/Tatra/UHP/Code/Learning/venv11/lib/python3.11/site-packages/jax/_src/api.py:659\u001b[0m, in \u001b[0;36mgrad.<locals>.grad_f\u001b[0;34m(*args, **kwargs)\u001b[0m\n\u001b[1;32m    656\u001b[0m \u001b[38;5;129m@wraps\u001b[39m(fun, docstr\u001b[38;5;241m=\u001b[39mdocstr, argnums\u001b[38;5;241m=\u001b[39margnums)\n\u001b[1;32m    657\u001b[0m \u001b[38;5;129m@api_boundary\u001b[39m\n\u001b[1;32m    658\u001b[0m \u001b[38;5;28;01mdef\u001b[39;00m \u001b[38;5;21mgrad_f\u001b[39m(\u001b[38;5;241m*\u001b[39margs, \u001b[38;5;241m*\u001b[39m\u001b[38;5;241m*\u001b[39mkwargs):\n\u001b[0;32m--> 659\u001b[0m   _, g \u001b[38;5;241m=\u001b[39m \u001b[43mvalue_and_grad_f\u001b[49m\u001b[43m(\u001b[49m\u001b[38;5;241;43m*\u001b[39;49m\u001b[43margs\u001b[49m\u001b[43m,\u001b[49m\u001b[43m \u001b[49m\u001b[38;5;241;43m*\u001b[39;49m\u001b[38;5;241;43m*\u001b[39;49m\u001b[43mkwargs\u001b[49m\u001b[43m)\u001b[49m\n\u001b[1;32m    660\u001b[0m   \u001b[38;5;28;01mreturn\u001b[39;00m g\n",
      "File \u001b[0;32m~/Tatra/UHP/Code/Learning/venv11/lib/python3.11/site-packages/jax/_src/traceback_util.py:179\u001b[0m, in \u001b[0;36mapi_boundary.<locals>.reraise_with_filtered_traceback\u001b[0;34m(*args, **kwargs)\u001b[0m\n\u001b[1;32m    177\u001b[0m __tracebackhide__ \u001b[38;5;241m=\u001b[39m \u001b[38;5;28;01mTrue\u001b[39;00m\n\u001b[1;32m    178\u001b[0m \u001b[38;5;28;01mtry\u001b[39;00m:\n\u001b[0;32m--> 179\u001b[0m   \u001b[38;5;28;01mreturn\u001b[39;00m \u001b[43mfun\u001b[49m\u001b[43m(\u001b[49m\u001b[38;5;241;43m*\u001b[39;49m\u001b[43margs\u001b[49m\u001b[43m,\u001b[49m\u001b[43m \u001b[49m\u001b[38;5;241;43m*\u001b[39;49m\u001b[38;5;241;43m*\u001b[39;49m\u001b[43mkwargs\u001b[49m\u001b[43m)\u001b[49m\n\u001b[1;32m    180\u001b[0m \u001b[38;5;28;01mexcept\u001b[39;00m \u001b[38;5;167;01mException\u001b[39;00m \u001b[38;5;28;01mas\u001b[39;00m e:\n\u001b[1;32m    181\u001b[0m   mode \u001b[38;5;241m=\u001b[39m _filtering_mode()\n",
      "\u001b[0;31mKeyboardInterrupt\u001b[0m: "
     ]
    }
   ],
   "source": [
    "sim.minimise(20, w=5e-2)"
   ]
  },
  {
   "cell_type": "code",
   "execution_count": 18,
   "id": "09d7ff7b-4eeb-406f-841b-c1a66a05812c",
   "metadata": {},
   "outputs": [
    {
     "data": {
      "text/plain": [
       "2.154434690031884"
      ]
     },
     "execution_count": 18,
     "metadata": {},
     "output_type": "execute_result"
    }
   ],
   "source": [
    "lmbda = (volume / N)**(1/3)\n",
    "lmbda"
   ]
  },
  {
   "cell_type": "code",
   "execution_count": 20,
   "id": "10d787f0-b9ba-4239-a37b-47d69e164072",
   "metadata": {},
   "outputs": [
    {
     "data": {
      "text/plain": [
       "Array(-0.2811924, dtype=float32)"
      ]
     },
     "execution_count": 20,
     "metadata": {},
     "output_type": "execute_result"
    }
   ],
   "source": [
    "x1 = np.zeros(3)\n",
    "x2 = np.zeros(3)\n",
    "x2[0] = lmbda\n",
    "\n",
    "potential(x1, x2)"
   ]
  },
  {
   "cell_type": "code",
   "execution_count": null,
   "id": "6747c0d1-6d86-4158-8f96-9d7fc1f6a43b",
   "metadata": {},
   "outputs": [],
   "source": []
  }
 ],
 "metadata": {
  "kernelspec": {
   "display_name": "Python 3 (ipykernel)",
   "language": "python",
   "name": "python3"
  },
  "language_info": {
   "codemirror_mode": {
    "name": "ipython",
    "version": 3
   },
   "file_extension": ".py",
   "mimetype": "text/x-python",
   "name": "python",
   "nbconvert_exporter": "python",
   "pygments_lexer": "ipython3",
   "version": "3.11.5"
  }
 },
 "nbformat": 4,
 "nbformat_minor": 5
}

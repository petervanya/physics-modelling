{
 "cells": [
  {
   "cell_type": "markdown",
   "metadata": {},
   "source": [
    "# Exploring quantum chemistry simulations\n",
    "\n",
    "2024-06-04"
   ]
  },
  {
   "cell_type": "code",
   "execution_count": 1,
   "metadata": {},
   "outputs": [
    {
     "name": "stdout",
     "output_type": "stream",
     "text": [
      "Collecting pyscf\n",
      "  Downloading pyscf-2.6.0-py3-none-macosx_10_9_x86_64.whl.metadata (6.3 kB)\n",
      "Requirement already satisfied: numpy!=1.16,!=1.17,>=1.13 in /Users/peter/Tatra/UHP/Code/Learning/venv11/lib/python3.11/site-packages (from pyscf) (1.26.3)\n",
      "Requirement already satisfied: scipy!=1.5.0,!=1.5.1 in /Users/peter/Tatra/UHP/Code/Learning/venv11/lib/python3.11/site-packages (from pyscf) (1.12.0)\n",
      "Collecting h5py>=2.7 (from pyscf)\n",
      "  Downloading h5py-3.11.0-cp311-cp311-macosx_10_9_x86_64.whl.metadata (2.5 kB)\n",
      "Requirement already satisfied: setuptools in /Users/peter/Tatra/UHP/Code/Learning/venv11/lib/python3.11/site-packages (from pyscf) (69.0.2)\n",
      "Downloading pyscf-2.6.0-py3-none-macosx_10_9_x86_64.whl (37.9 MB)\n",
      "\u001b[2K   \u001b[90m━━━━━━━━━━━━━━━━━━━━━━━━━━━━━━━━━━━━━━━━\u001b[0m \u001b[32m37.9/37.9 MB\u001b[0m \u001b[31m18.8 MB/s\u001b[0m eta \u001b[36m0:00:00\u001b[0m00:01\u001b[0m00:01\u001b[0m\n",
      "\u001b[?25hDownloading h5py-3.11.0-cp311-cp311-macosx_10_9_x86_64.whl (3.5 MB)\n",
      "\u001b[2K   \u001b[90m━━━━━━━━━━━━━━━━━━━━━━━━━━━━━━━━━━━━━━━━\u001b[0m \u001b[32m3.5/3.5 MB\u001b[0m \u001b[31m40.9 MB/s\u001b[0m eta \u001b[36m0:00:00\u001b[0m00:01\u001b[0m:00:01\u001b[0m\n",
      "\u001b[?25hInstalling collected packages: h5py, pyscf\n",
      "Successfully installed h5py-3.11.0 pyscf-2.6.0\n"
     ]
    }
   ],
   "source": [
    "# ! pip install --prefer-binary pyscf\n",
    "# ! pip install geometric\n",
    "# ! pip install pyberny"
   ]
  },
  {
   "cell_type": "code",
   "execution_count": 1,
   "metadata": {},
   "outputs": [],
   "source": [
    "import pyscf\n",
    "from pyscf import gto, scf, dft"
   ]
  },
  {
   "cell_type": "markdown",
   "metadata": {},
   "source": [
    "## Exploration, methane molecule"
   ]
  },
  {
   "cell_type": "code",
   "execution_count": 6,
   "metadata": {},
   "outputs": [],
   "source": [
    "molecule = gto.M(atom='O 0 0 0; C 0 0 1; C 0 0 -1', basis='6-311G')"
   ]
  },
  {
   "cell_type": "code",
   "execution_count": 17,
   "metadata": {},
   "outputs": [
    {
     "data": {
      "text/plain": [
       "<pyscf.gto.mole.Mole at 0x127e76910>"
      ]
     },
     "execution_count": 17,
     "metadata": {},
     "output_type": "execute_result"
    }
   ],
   "source": [
    "molecule"
   ]
  },
  {
   "cell_type": "code",
   "execution_count": 27,
   "metadata": {},
   "outputs": [
    {
     "name": "stdout",
     "output_type": "stream",
     "text": [
      "\u001b[0;31mSignature:\u001b[0m \u001b[0mscf\u001b[0m\u001b[0;34m.\u001b[0m\u001b[0mRHF\u001b[0m\u001b[0;34m(\u001b[0m\u001b[0mmol\u001b[0m\u001b[0;34m,\u001b[0m \u001b[0;34m*\u001b[0m\u001b[0margs\u001b[0m\u001b[0;34m)\u001b[0m\u001b[0;34m\u001b[0m\u001b[0;34m\u001b[0m\u001b[0m\n",
      "\u001b[0;31mDocstring:\u001b[0m\n",
      "SCF base class.   non-relativistic RHF.\n",
      "\n",
      "Attributes:\n",
      "    verbose : int\n",
      "        Print level.  Default value equals to :class:`Mole.verbose`\n",
      "    max_memory : float or int\n",
      "        Allowed memory in MB.  Default equals to :class:`Mole.max_memory`\n",
      "    chkfile : str\n",
      "        checkpoint file to save MOs, orbital energies etc.  Writing to\n",
      "        chkfile can be disabled if this attribute is set to None or False.\n",
      "    conv_tol : float\n",
      "        converge threshold.  Default is 1e-9\n",
      "    conv_tol_grad : float\n",
      "        gradients converge threshold.  Default is sqrt(conv_tol)\n",
      "    max_cycle : int\n",
      "        max number of iterations.  If max_cycle <= 0, SCF iteration will\n",
      "        be skipped and the kernel function will compute only the total\n",
      "        energy based on the initial guess. Default value is 50.\n",
      "    init_guess : str\n",
      "        initial guess method.  It can be one of 'minao', 'atom', 'huckel', 'hcore', '1e', 'chkfile'.\n",
      "        Default is 'minao'\n",
      "    DIIS : DIIS class\n",
      "        The class to generate diis object.  It can be one of\n",
      "        diis.SCF_DIIS, diis.ADIIS, diis.EDIIS.\n",
      "    diis : boolean or object of DIIS class defined in :mod:`scf.diis`.\n",
      "        Default is the object associated to the attribute :attr:`self.DIIS`.\n",
      "        Set it to None/False to turn off DIIS.\n",
      "        Note if this attribute is initialized as a DIIS object, the SCF driver\n",
      "        will use this object in the iteration. The DIIS information (vector\n",
      "        basis and error vector) will be held inside this object. When kernel\n",
      "        function is called again, the old states (vector basis and error\n",
      "        vector) will be reused.\n",
      "    diis_space : int\n",
      "        DIIS space size.  By default, 8 Fock matrices and errors vector are stored.\n",
      "    diis_damp : float\n",
      "        DIIS damping factor.  Default is 0.\n",
      "    diis_start_cycle : int\n",
      "        The step to start DIIS.  Default is 1.\n",
      "    diis_file: 'str'\n",
      "        File to store DIIS vectors and error vectors.\n",
      "    level_shift : float or int\n",
      "        Level shift (in AU) for virtual space.  Default is 0.\n",
      "    direct_scf : bool\n",
      "        Direct SCF is used by default.\n",
      "    direct_scf_tol : float\n",
      "        Direct SCF cutoff threshold.  Default is 1e-13.\n",
      "    callback : function(envs_dict) => None\n",
      "        callback function takes one dict as the argument which is\n",
      "        generated by the builtin function :func:`locals`, so that the\n",
      "        callback function can access all local variables in the current\n",
      "        environment.\n",
      "    conv_check : bool\n",
      "        An extra cycle to check convergence after SCF iterations.\n",
      "    check_convergence : function(envs) => bool\n",
      "        A hook for overloading convergence criteria in SCF iterations.\n",
      "\n",
      "Saved results:\n",
      "\n",
      "    converged : bool\n",
      "        SCF converged or not\n",
      "    e_tot : float\n",
      "        Total HF energy (electronic energy plus nuclear repulsion)\n",
      "    mo_energy :\n",
      "        Orbital energies\n",
      "    mo_occ\n",
      "        Orbital occupancy\n",
      "    mo_coeff\n",
      "        Orbital coefficients\n",
      "\n",
      "Examples:\n",
      "\n",
      ">>> mol = gto.M(atom='H 0 0 0; H 0 0 1.1', basis='cc-pvdz')\n",
      ">>> mf = scf.hf.SCF(mol)\n",
      ">>> mf.verbose = 0\n",
      ">>> mf.level_shift = .4\n",
      ">>> mf.scf()\n",
      "-1.0811707843775884\n",
      "\u001b[0;31mFile:\u001b[0m      ~/Tatra/UHP/Code/Learning/venv11/lib/python3.11/site-packages/pyscf/scf/__init__.py\n",
      "\u001b[0;31mType:\u001b[0m      function"
     ]
    }
   ],
   "source": [
    "scf.RHF?"
   ]
  },
  {
   "cell_type": "code",
   "execution_count": 29,
   "metadata": {},
   "outputs": [
    {
     "name": "stdout",
     "output_type": "stream",
     "text": [
      "converged SCF energy = -149.98193184835\n"
     ]
    }
   ],
   "source": [
    "rhf = scf.RHF(molecule)\n",
    "e = rhf.kernel()"
   ]
  },
  {
   "cell_type": "code",
   "execution_count": 26,
   "metadata": {},
   "outputs": [
    {
     "data": {
      "text/plain": [
       "-149.98193184834994"
      ]
     },
     "execution_count": 26,
     "metadata": {},
     "output_type": "execute_result"
    }
   ],
   "source": [
    "e"
   ]
  },
  {
   "cell_type": "markdown",
   "metadata": {},
   "source": [
    "### DFT"
   ]
  },
  {
   "cell_type": "code",
   "execution_count": 21,
   "metadata": {},
   "outputs": [],
   "source": [
    "rks = dft.RKS(molecule)\n",
    "rks.xc = 'b3lyp'"
   ]
  },
  {
   "cell_type": "code",
   "execution_count": 30,
   "metadata": {},
   "outputs": [
    {
     "name": "stdout",
     "output_type": "stream",
     "text": [
      "converged SCF energy = -150.810569957495\n"
     ]
    }
   ],
   "source": [
    "rks = rks.kernel()"
   ]
  },
  {
   "cell_type": "markdown",
   "metadata": {},
   "source": [
    "### Optimise: test code from github"
   ]
  },
  {
   "cell_type": "code",
   "execution_count": 39,
   "metadata": {},
   "outputs": [],
   "source": [
    "from pyscf import gto, scf\n",
    "from pyscf.geomopt.berny_solver import optimize"
   ]
  },
  {
   "cell_type": "code",
   "execution_count": 40,
   "metadata": {},
   "outputs": [
    {
     "name": "stdout",
     "output_type": "stream",
     "text": [
      "\n",
      "Geometry optimization cycle 1\n",
      "Cartesian coordinates (Angstrom)\n",
      " Atom        New coordinates             dX        dY        dZ\n",
      "   N   0.000000   0.000000   0.000000    0.000000  0.000000  0.000000\n",
      "   N   0.000000   0.000000   1.200000    0.000000  0.000000  0.000000\n",
      "converged SCF energy = -108.914051975052\n",
      "--------------- RHF_Scanner gradients ---------------\n",
      "         x                y                z\n",
      "0 N     0.0000000000    -0.0000000000    -0.3121321606\n",
      "1 N    -0.0000000000     0.0000000000     0.3121321606\n",
      "----------------------------------------------\n",
      "cycle 1: E = -108.914051975  dE = -108.914  norm(grad) = 0.441422\n",
      "\n",
      "Geometry optimization cycle 2\n",
      "Cartesian coordinates (Angstrom)\n",
      " Atom        New coordinates             dX        dY        dZ\n",
      "   N   0.000000   0.000000   0.079377    0.000000  0.000000  0.079377\n",
      "   N   0.000000   0.000000   1.120623    0.000000  0.000000 -0.079377\n",
      "converged SCF energy = -108.95047828901\n",
      "--------------- RHF_Scanner gradients ---------------\n",
      "         x                y                z\n",
      "0 N     0.0000000000     0.0000000000     0.1553465954\n",
      "1 N    -0.0000000000    -0.0000000000    -0.1553465954\n",
      "----------------------------------------------\n",
      "cycle 2: E = -108.950478289  dE = -0.0364263  norm(grad) = 0.219693\n",
      "\n",
      "Geometry optimization cycle 3\n",
      "Cartesian coordinates (Angstrom)\n",
      " Atom        New coordinates             dX        dY        dZ\n",
      "   N   0.000000   0.000000   0.053007    0.000000  0.000000 -0.026370\n",
      "   N   0.000000   0.000000   1.146993    0.000000  0.000000  0.026370\n",
      "converged SCF energy = -108.954593583816\n",
      "--------------- RHF_Scanner gradients ---------------\n",
      "         x                y                z\n",
      "0 N     0.0000000000    -0.0000000000    -0.0600815552\n",
      "1 N    -0.0000000000     0.0000000000     0.0600815552\n",
      "----------------------------------------------\n",
      "cycle 3: E = -108.954593584  dE = -0.00411529  norm(grad) = 0.0849682\n",
      "\n",
      "Geometry optimization cycle 4\n",
      "Cartesian coordinates (Angstrom)\n",
      " Atom        New coordinates             dX        dY        dZ\n",
      "   N   0.000000   0.000000   0.060361    0.000000  0.000000  0.007354\n",
      "   N   0.000000   0.000000   1.139639    0.000000  0.000000 -0.007354\n",
      "converged SCF energy = -108.955544787084\n",
      "--------------- RHF_Scanner gradients ---------------\n",
      "         x                y                z\n",
      "0 N    -0.0000000000    -0.0000000000    -0.0074793717\n",
      "1 N     0.0000000000     0.0000000000     0.0074793717\n",
      "----------------------------------------------\n",
      "cycle 4: E = -108.955544787  dE = -0.000951203  norm(grad) = 0.0105774\n",
      "\n",
      "Geometry optimization cycle 5\n",
      "Cartesian coordinates (Angstrom)\n",
      " Atom        New coordinates             dX        dY        dZ\n",
      "   N   0.000000   0.000000   0.061407    0.000000  0.000000  0.001046\n",
      "   N   0.000000   0.000000   1.138593    0.000000  0.000000 -0.001046\n",
      "converged SCF energy = -108.955558739863\n",
      "--------------- RHF_Scanner gradients ---------------\n",
      "         x                y                z\n",
      "0 N     0.0000000000    -0.0000000000     0.0004376918\n",
      "1 N    -0.0000000000     0.0000000000    -0.0004376918\n",
      "----------------------------------------------\n",
      "cycle 5: E = -108.95555874  dE = -1.39528e-05  norm(grad) = 0.00061899\n",
      "\n",
      "Geometry optimization cycle 6\n",
      "Cartesian coordinates (Angstrom)\n",
      " Atom        New coordinates             dX        dY        dZ\n",
      "   N   0.000000   0.000000   0.061349    0.000000  0.000000 -0.000058\n",
      "   N   0.000000   0.000000   1.138651    0.000000  0.000000  0.000058\n",
      "converged SCF energy = -108.955558787297\n",
      "--------------- RHF_Scanner gradients ---------------\n",
      "         x                y                z\n",
      "0 N    -0.0000000000    -0.0000000000    -0.0000034788\n",
      "1 N     0.0000000000     0.0000000000     0.0000034788\n",
      "----------------------------------------------\n",
      "cycle 6: E = -108.955558787  dE = -4.74347e-08  norm(grad) = 4.91975e-06\n",
      "[[0.         0.         0.11593305]\n",
      " [0.         0.         2.1517383 ]]\n",
      "CPU times: user 1.15 s, sys: 98.2 ms, total: 1.25 s\n",
      "Wall time: 2.01 s\n"
     ]
    }
   ],
   "source": [
    "%%time\n",
    "\n",
    "mol = gto.M(atom='N 0 0 0; N 0 0 1.2', basis='ccpvdz')\n",
    "mf = scf.RHF(mol)\n",
    "\n",
    "#\n",
    "# geometry optimization for HF.  There are two entries to invoke the berny\n",
    "# geometry optimization.\n",
    "#\n",
    "# method 1: import the optimize function from pyscf.geomopt.berny_solver\n",
    "mol_eq = optimize(mf)\n",
    "print(mol_eq.atom_coords())"
   ]
  },
  {
   "cell_type": "code",
   "execution_count": 41,
   "metadata": {},
   "outputs": [],
   "source": [
    "from pyscf import mcscf"
   ]
  },
  {
   "cell_type": "code",
   "execution_count": 42,
   "metadata": {},
   "outputs": [
    {
     "name": "stdout",
     "output_type": "stream",
     "text": [
      "\n",
      "Geometry optimization cycle 1\n",
      "Cartesian coordinates (Angstrom)\n",
      " Atom        New coordinates             dX        dY        dZ\n",
      "   N   0.000000   0.000000   0.000000    0.000000  0.000000  0.000000\n",
      "   N   0.000000   0.000000   1.200000    0.000000  0.000000  0.000000\n",
      "converged SCF energy = -108.914051975052\n",
      "--------------- RHF_Scanner gradients ---------------\n",
      "         x                y                z\n",
      "0 N    -0.0000000000    -0.0000000000    -0.3121321606\n",
      "1 N     0.0000000000     0.0000000000     0.3121321606\n",
      "----------------------------------------------\n",
      "cycle 1: E = -108.914051975  dE = -108.914  norm(grad) = 0.441422\n",
      "\n",
      "Geometry optimization cycle 2\n",
      "Cartesian coordinates (Angstrom)\n",
      " Atom        New coordinates             dX        dY        dZ\n",
      "   N   0.000000   0.000000   0.079377    0.000000  0.000000  0.079377\n",
      "   N   0.000000   0.000000   1.120623    0.000000  0.000000 -0.079377\n",
      "converged SCF energy = -108.95047828901\n",
      "--------------- RHF_Scanner gradients ---------------\n",
      "         x                y                z\n",
      "0 N     0.0000000000     0.0000000000     0.1553465954\n",
      "1 N    -0.0000000000    -0.0000000000    -0.1553465954\n",
      "----------------------------------------------\n",
      "cycle 2: E = -108.950478289  dE = -0.0364263  norm(grad) = 0.219693\n",
      "\n",
      "Geometry optimization cycle 3\n",
      "Cartesian coordinates (Angstrom)\n",
      " Atom        New coordinates             dX        dY        dZ\n",
      "   N   0.000000   0.000000   0.053007    0.000000  0.000000 -0.026370\n",
      "   N   0.000000   0.000000   1.146993    0.000000  0.000000  0.026370\n",
      "converged SCF energy = -108.954593583816\n",
      "--------------- RHF_Scanner gradients ---------------\n",
      "         x                y                z\n",
      "0 N     0.0000000000     0.0000000000    -0.0600815552\n",
      "1 N    -0.0000000000    -0.0000000000     0.0600815552\n",
      "----------------------------------------------\n",
      "cycle 3: E = -108.954593584  dE = -0.00411529  norm(grad) = 0.0849682\n",
      "\n",
      "Geometry optimization cycle 4\n",
      "Cartesian coordinates (Angstrom)\n",
      " Atom        New coordinates             dX        dY        dZ\n",
      "   N   0.000000   0.000000   0.060361    0.000000  0.000000  0.007354\n",
      "   N   0.000000   0.000000   1.139639    0.000000  0.000000 -0.007354\n",
      "converged SCF energy = -108.955544787084\n",
      "--------------- RHF_Scanner gradients ---------------\n",
      "         x                y                z\n",
      "0 N    -0.0000000000    -0.0000000000    -0.0074793717\n",
      "1 N     0.0000000000     0.0000000000     0.0074793717\n",
      "----------------------------------------------\n",
      "cycle 4: E = -108.955544787  dE = -0.000951203  norm(grad) = 0.0105774\n",
      "\n",
      "Geometry optimization cycle 5\n",
      "Cartesian coordinates (Angstrom)\n",
      " Atom        New coordinates             dX        dY        dZ\n",
      "   N   0.000000   0.000000   0.061407    0.000000  0.000000  0.001046\n",
      "   N   0.000000   0.000000   1.138593    0.000000  0.000000 -0.001046\n",
      "converged SCF energy = -108.955558739863\n",
      "--------------- RHF_Scanner gradients ---------------\n",
      "         x                y                z\n",
      "0 N    -0.0000000000    -0.0000000000     0.0004376918\n",
      "1 N     0.0000000000     0.0000000000    -0.0004376918\n",
      "----------------------------------------------\n",
      "cycle 5: E = -108.95555874  dE = -1.39528e-05  norm(grad) = 0.00061899\n",
      "\n",
      "Geometry optimization cycle 6\n",
      "Cartesian coordinates (Angstrom)\n",
      " Atom        New coordinates             dX        dY        dZ\n",
      "   N   0.000000   0.000000   0.061349    0.000000  0.000000 -0.000058\n",
      "   N   0.000000   0.000000   1.138651    0.000000  0.000000  0.000058\n",
      "converged SCF energy = -108.955558787297\n",
      "--------------- RHF_Scanner gradients ---------------\n",
      "         x                y                z\n",
      "0 N     0.0000000000    -0.0000000000    -0.0000034788\n",
      "1 N    -0.0000000000     0.0000000000     0.0000034788\n",
      "----------------------------------------------\n",
      "cycle 6: E = -108.955558787  dE = -4.74346e-08  norm(grad) = 4.91975e-06\n",
      "\n",
      "Geometry optimization cycle 1\n",
      "Cartesian coordinates (Angstrom)\n",
      " Atom        New coordinates             dX        dY        dZ\n",
      "   N   0.000000   0.000000   0.000000    0.000000  0.000000  0.000000\n",
      "   N   0.000000   0.000000   1.200000    0.000000  0.000000  0.000000\n",
      "converged SCF energy = -108.914051975052\n",
      "CASSCF energy = -109.023541785339\n",
      "CASCI E = -109.023541785339  E(CI) = -5.47634787092505  S^2 = 0.0000000\n",
      "--------------- CASSCF_Scanner gradients ---------------\n",
      "         x                y                z\n",
      "0 N     0.0000000000    -0.0000000000    -0.2147043363\n",
      "1 N    -0.0000000000     0.0000000000     0.2147043363\n",
      "----------------------------------------------\n",
      "cycle 1: E = -109.023541785  dE = -109.024  norm(grad) = 0.303638\n",
      "\n",
      "Geometry optimization cycle 2\n",
      "Cartesian coordinates (Angstrom)\n",
      " Atom        New coordinates             dX        dY        dZ\n",
      "   N   0.000000   0.000000   0.079377    0.000000  0.000000  0.079377\n",
      "   N   0.000000   0.000000   1.120623    0.000000  0.000000 -0.079377\n",
      "converged SCF energy = -108.95047828901\n",
      "CASSCF energy = -109.033857064933\n",
      "CASCI E = -109.033857064933  E(CI) = -5.94355539673364  S^2 = 0.0000000\n",
      "--------------- CASSCF_Scanner gradients ---------------\n",
      "         x                y                z\n",
      "0 N    -0.0000000511    -0.0000000368     0.2326002177\n",
      "1 N     0.0000000511     0.0000000368    -0.2326002177\n",
      "----------------------------------------------\n",
      "cycle 2: E = -109.033857065  dE = -0.0103153  norm(grad) = 0.328946\n",
      "\n",
      "Geometry optimization cycle 3\n",
      "Cartesian coordinates (Angstrom)\n",
      " Atom        New coordinates             dX        dY        dZ\n",
      "   N   0.000000   0.000000   0.038120    0.000000  0.000000 -0.041257\n",
      "   N   0.000000   0.000000   1.161880    0.000000  0.000000  0.041257\n",
      "converged SCF energy = -108.948552945786\n",
      "CASSCF energy = -109.044747491962\n",
      "CASCI E = -109.044747491962  E(CI) = -5.68244782287994  S^2 = 0.0000000\n",
      "--------------- CASSCF_Scanner gradients ---------------\n",
      "         x                y                z\n",
      "0 N     0.0000000175     0.0000000134    -0.0641806349\n",
      "1 N    -0.0000000175    -0.0000000134     0.0641806349\n",
      "----------------------------------------------\n",
      "cycle 3: E = -109.044747492  dE = -0.0108904  norm(grad) = 0.0907651\n",
      "\n",
      "Geometry optimization cycle 4\n",
      "Cartesian coordinates (Angstrom)\n",
      " Atom        New coordinates             dX        dY        dZ\n",
      "   N   0.000000   0.000000   0.047042    0.000000  0.000000  0.008922\n",
      "   N   0.000000   0.000000   1.152958    0.000000  0.000000 -0.008922\n",
      "converged SCF energy = -108.95279444188\n",
      "CASSCF energy = -109.046083752225\n",
      "CASCI E = -109.046083752225  E(CI) = -5.73533103680900  S^2 = 0.0000000\n",
      "--------------- CASSCF_Scanner gradients ---------------\n",
      "         x                y                z\n",
      "0 N     0.0000000005    -0.0000000002    -0.0139642572\n",
      "1 N    -0.0000000005     0.0000000002     0.0139642572\n",
      "----------------------------------------------\n",
      "cycle 4: E = -109.046083752  dE = -0.00133626  norm(grad) = 0.0197484\n",
      "\n",
      "Geometry optimization cycle 5\n",
      "Cartesian coordinates (Angstrom)\n",
      " Atom        New coordinates             dX        dY        dZ\n",
      "   N   0.000000   0.000000   0.049523    0.000000  0.000000  0.002481\n",
      "   N   0.000000   0.000000   1.150477    0.000000  0.000000 -0.002481\n",
      "converged SCF energy = -108.953649124193\n",
      "CASSCF energy = -109.046143947507\n",
      "CASCI E = -109.046143947507  E(CI) = -5.75036361968913  S^2 = 0.0000000\n",
      "--------------- CASSCF_Scanner gradients ---------------\n",
      "         x                y                z\n",
      "0 N    -0.0000000004     0.0000000008     0.0012155963\n",
      "1 N     0.0000000004    -0.0000000008    -0.0012155963\n",
      "----------------------------------------------\n",
      "cycle 5: E = -109.046143948  dE = -6.01953e-05  norm(grad) = 0.00171911\n",
      "\n",
      "Geometry optimization cycle 1\n",
      "Cartesian coordinates (Angstrom)\n",
      " Atom        New coordinates             dX        dY        dZ\n",
      "   N   0.000000   0.000000   0.000000    0.000000  0.000000  0.000000\n",
      "   N   0.000000   0.000000   1.200000    0.000000  0.000000  0.000000\n",
      "converged SCF energy = -108.914051975052\n",
      "CASSCF energy = -109.023541786248\n",
      "CASCI E = -109.023541786248  E(CI) = -5.47634922763876  S^2 = 0.0000000\n",
      "--------------- CASSCF_Scanner gradients ---------------\n",
      "         x                y                z\n",
      "0 N     0.0000000000     0.0000000000    -0.2147023248\n",
      "1 N    -0.0000000000    -0.0000000000     0.2147023248\n",
      "----------------------------------------------\n",
      "cycle 1: E = -109.023541786  dE = -109.024  norm(grad) = 0.303635\n",
      "\n",
      "Geometry optimization cycle 2\n",
      "Cartesian coordinates (Angstrom)\n",
      " Atom        New coordinates             dX        dY        dZ\n",
      "   N   0.000000   0.000000   0.079377    0.000000  0.000000  0.079377\n",
      "   N   0.000000   0.000000   1.120623    0.000000  0.000000 -0.079377\n",
      "converged SCF energy = -108.95047828901\n",
      "CASSCF energy = -109.033857064936\n",
      "CASCI E = -109.033857064936  E(CI) = -5.94355529758494  S^2 = 0.0000000\n",
      "--------------- CASSCF_Scanner gradients ---------------\n",
      "         x                y                z\n",
      "0 N    -0.0000000322    -0.0000000494     0.2326002712\n",
      "1 N     0.0000000322     0.0000000494    -0.2326002712\n",
      "----------------------------------------------\n",
      "cycle 2: E = -109.033857065  dE = -0.0103153  norm(grad) = 0.328946\n",
      "\n",
      "Geometry optimization cycle 3\n",
      "Cartesian coordinates (Angstrom)\n",
      " Atom        New coordinates             dX        dY        dZ\n",
      "   N   0.000000   0.000000   0.038120    0.000000  0.000000 -0.041257\n",
      "   N   0.000000   0.000000   1.161880    0.000000  0.000000  0.041257\n",
      "converged SCF energy = -108.94855283785\n",
      "CASSCF energy = -109.044747446189\n",
      "CASCI E = -109.044747446189  E(CI) = -5.68244674709891  S^2 = 0.0000000\n",
      "--------------- CASSCF_Scanner gradients ---------------\n",
      "         x                y                z\n",
      "0 N     0.0000000034     0.0000000161    -0.0641816041\n",
      "1 N    -0.0000000034    -0.0000000161     0.0641816041\n",
      "----------------------------------------------\n",
      "cycle 3: E = -109.044747446  dE = -0.0108904  norm(grad) = 0.0907665\n",
      "\n",
      "Geometry optimization cycle 4\n",
      "Cartesian coordinates (Angstrom)\n",
      " Atom        New coordinates             dX        dY        dZ\n",
      "   N   0.000000   0.000000   0.047042    0.000000  0.000000  0.008922\n",
      "   N   0.000000   0.000000   1.152958    0.000000  0.000000 -0.008922\n",
      "converged SCF energy = -108.952794425498\n",
      "CASSCF energy = -109.046083749914\n",
      "CASCI E = -109.046083749914  E(CI) = -5.73533074823408  S^2 = 0.0000000\n",
      "--------------- CASSCF_Scanner gradients ---------------\n",
      "         x                y                z\n",
      "0 N    -0.0000000006     0.0000000005    -0.0139645345\n",
      "1 N     0.0000000006    -0.0000000005     0.0139645345\n",
      "----------------------------------------------\n",
      "cycle 4: E = -109.04608375  dE = -0.0013363  norm(grad) = 0.0197488\n",
      "\n",
      "Geometry optimization cycle 5\n",
      "Cartesian coordinates (Angstrom)\n",
      " Atom        New coordinates             dX        dY        dZ\n",
      "   N   0.000000   0.000000   0.049523    0.000000  0.000000  0.002481\n",
      "   N   0.000000   0.000000   1.150477    0.000000  0.000000 -0.002481\n",
      "converged SCF energy = -108.95364912783\n",
      "CASSCF energy = -109.046143947443\n",
      "CASCI E = -109.046143947443  E(CI) = -5.75036437061532  S^2 = 0.0000000\n",
      "--------------- CASSCF_Scanner gradients ---------------\n",
      "         x                y                z\n",
      "0 N     0.0000000002     0.0000000003     0.0012156584\n",
      "1 N    -0.0000000002    -0.0000000003    -0.0012156584\n",
      "----------------------------------------------\n",
      "cycle 5: E = -109.046143947  dE = -6.01975e-05  norm(grad) = 0.0017192\n",
      "CPU times: user 6.34 s, sys: 707 ms, total: 7.04 s\n",
      "Wall time: 9.75 s\n"
     ]
    }
   ],
   "source": [
    "%%time\n",
    "\n",
    "# method 2: create the optimizer from Gradients class\n",
    "mol_eq = mf.Gradients().optimizer(solver='berny').kernel()\n",
    "\n",
    "#\n",
    "# geometry optimization for CASSCF\n",
    "#\n",
    "\n",
    "mf = scf.RHF(mol)\n",
    "mc = mcscf.CASSCF(mf, 4, 4)\n",
    "\n",
    "conv_params = {\n",
    "    'gradientmax': 6e-3,  # Eh/Bohr\n",
    "    'gradientrms': 2e-3,  # Eh/Bohr\n",
    "    'stepmax': 2e-2,      # Bohr\n",
    "    'steprms': 1.5e-2,    # Bohr\n",
    "}\n",
    "# method 1\n",
    "mol_eq = optimize(mc, **conv_params)\n",
    "\n",
    "# method 2\n",
    "mol_eq = mc.Gradients().optimizer(solver='berny').kernel(conv_params)"
   ]
  },
  {
   "cell_type": "markdown",
   "metadata": {},
   "source": [
    "### Optimise own"
   ]
  },
  {
   "cell_type": "code",
   "execution_count": 45,
   "metadata": {},
   "outputs": [],
   "source": [
    "from pyscf.geomopt.geometric_solver import optimize"
   ]
  },
  {
   "cell_type": "code",
   "execution_count": 50,
   "metadata": {},
   "outputs": [
    {
     "data": {
      "text/plain": [
       "array([[ 0.        ,  0.        ,  0.        ],\n",
       "       [ 0.        ,  0.        ,  1.88972612],\n",
       "       [ 0.        ,  0.        , -1.88972612]])"
      ]
     },
     "execution_count": 50,
     "metadata": {},
     "output_type": "execute_result"
    }
   ],
   "source": [
    "molecule.atom_coords()"
   ]
  },
  {
   "cell_type": "code",
   "execution_count": 46,
   "metadata": {},
   "outputs": [],
   "source": [
    "mf = scf.RHF(molecule)"
   ]
  },
  {
   "cell_type": "code",
   "execution_count": 48,
   "metadata": {},
   "outputs": [
    {
     "name": "stderr",
     "output_type": "stream",
     "text": [
      "geometric-optimize called with the following command line:\n",
      "/Users/peter/Tatra/UHP/Code/Learning/venv11/lib/python3.11/site-packages/ipykernel_launcher.py --f=/Users/peter/Library/Jupyter/runtime/kernel-v2-17315T3PCGngoo48H.json\n",
      "\n",
      "                                        \u001b[91m())))))))))))))))/\u001b[0m                     \n",
      "                                    \u001b[91m())))))))))))))))))))))))),\u001b[0m                \n",
      "                                \u001b[91m*)))))))))))))))))))))))))))))))))\u001b[0m             \n",
      "                        \u001b[94m#,\u001b[0m    \u001b[91m()))))))))/\u001b[0m                \u001b[91m.)))))))))),\u001b[0m          \n",
      "                      \u001b[94m#%%%%,\u001b[0m  \u001b[91m())))))\u001b[0m                        \u001b[91m.))))))))*\u001b[0m        \n",
      "                      \u001b[94m*%%%%%%,\u001b[0m  \u001b[91m))\u001b[0m              \u001b[93m..\u001b[0m              \u001b[91m,))))))).\u001b[0m      \n",
      "                        \u001b[94m*%%%%%%,\u001b[0m         \u001b[93m***************/.\u001b[0m        \u001b[91m.)))))))\u001b[0m     \n",
      "                \u001b[94m#%%/\u001b[0m      \u001b[94m(%%%%%%,\u001b[0m    \u001b[93m/*********************.\u001b[0m       \u001b[91m)))))))\u001b[0m    \n",
      "              \u001b[94m.%%%%%%#\u001b[0m      \u001b[94m*%%%%%%,\u001b[0m  \u001b[93m*******/,\u001b[0m     \u001b[93m**********,\u001b[0m      \u001b[91m.))))))\u001b[0m   \n",
      "                \u001b[94m.%%%%%%/\u001b[0m      \u001b[94m*%%%%%%,\u001b[0m  \u001b[93m**\u001b[0m              \u001b[93m********\u001b[0m      \u001b[91m.))))))\u001b[0m  \n",
      "          \u001b[94m##\u001b[0m      \u001b[94m.%%%%%%/\u001b[0m      \u001b[94m(%%%%%%,\u001b[0m                  \u001b[93m,******\u001b[0m      \u001b[91m/)))))\u001b[0m  \n",
      "        \u001b[94m%%%%%%\u001b[0m      \u001b[94m.%%%%%%#\u001b[0m      \u001b[94m*%%%%%%,\u001b[0m    \u001b[92m,/////.\u001b[0m       \u001b[93m******\u001b[0m      \u001b[91m))))))\u001b[0m \n",
      "      \u001b[94m#%\u001b[0m      \u001b[94m%%\u001b[0m      \u001b[94m.%%%%%%/\u001b[0m      \u001b[94m*%%%%%%,\u001b[0m  \u001b[92m////////,\u001b[0m      \u001b[93m*****/\u001b[0m     \u001b[91m,)))))\u001b[0m \n",
      "    \u001b[94m#%%\u001b[0m  \u001b[94m%%%\u001b[0m  \u001b[94m%%%#\u001b[0m      \u001b[94m.%%%%%%/\u001b[0m      \u001b[94m(%%%%%%,\u001b[0m  \u001b[92m///////.\u001b[0m     \u001b[93m/*****\u001b[0m      \u001b[91m))))).\u001b[0m\n",
      "  \u001b[94m#%%%%.\u001b[0m      \u001b[94m%%%%%#\u001b[0m      \u001b[94m/%%%%%%*\u001b[0m      \u001b[94m#%%%%%%\u001b[0m   \u001b[92m/////)\u001b[0m     \u001b[93m******\u001b[0m      \u001b[91m))))),\u001b[0m\n",
      "    \u001b[94m#%%%%##%\u001b[0m  \u001b[94m%%%#\u001b[0m      \u001b[94m.%%%%%%/\u001b[0m      \u001b[94m(%%%%%%,\u001b[0m  \u001b[92m///////.\u001b[0m     \u001b[93m/*****\u001b[0m      \u001b[91m))))).\u001b[0m\n",
      "      \u001b[94m##\u001b[0m     \u001b[94m%%%\u001b[0m      \u001b[94m.%%%%%%/\u001b[0m      \u001b[94m*%%%%%%,\u001b[0m  \u001b[92m////////.\u001b[0m      \u001b[93m*****/\u001b[0m     \u001b[91m,)))))\u001b[0m \n",
      "        \u001b[94m#%%%%#\u001b[0m      \u001b[94m/%%%%%%/\u001b[0m      \u001b[94m(%%%%%%\u001b[0m      \u001b[92m/)/)//\u001b[0m       \u001b[93m******\u001b[0m      \u001b[91m))))))\u001b[0m \n",
      "          \u001b[94m##\u001b[0m      \u001b[94m.%%%%%%/\u001b[0m      \u001b[94m(%%%%%%,\u001b[0m                  \u001b[93m*******\u001b[0m      \u001b[91m))))))\u001b[0m  \n",
      "                \u001b[94m.%%%%%%/\u001b[0m      \u001b[94m*%%%%%%,\u001b[0m  \u001b[93m**.\u001b[0m             \u001b[93m/*******\u001b[0m      \u001b[91m.))))))\u001b[0m  \n",
      "              \u001b[94m*%%%%%%/\u001b[0m      \u001b[94m(%%%%%%\u001b[0m   \u001b[93m********/*..,*/*********\u001b[0m       \u001b[91m*))))))\u001b[0m   \n",
      "                \u001b[94m#%%/\u001b[0m      \u001b[94m(%%%%%%,\u001b[0m    \u001b[93m*********************/\u001b[0m        \u001b[91m)))))))\u001b[0m    \n",
      "                        \u001b[94m*%%%%%%,\u001b[0m         \u001b[93m,**************/\u001b[0m         \u001b[91m,))))))/\u001b[0m     \n",
      "                      \u001b[94m(%%%%%%\u001b[0m   \u001b[91m()\u001b[0m                              \u001b[91m))))))))\u001b[0m       \n",
      "                      \u001b[94m#%%%%,\u001b[0m  \u001b[91m())))))\u001b[0m                        \u001b[91m,)))))))),\u001b[0m        \n",
      "                        \u001b[94m#,\u001b[0m    \u001b[91m())))))))))\u001b[0m                \u001b[91m,)))))))))).\u001b[0m          \n",
      "                                 \u001b[91m()))))))))))))))))))))))))))))))/\u001b[0m             \n",
      "                                    \u001b[91m())))))))))))))))))))))))).\u001b[0m                \n",
      "                                         \u001b[91m())))))))))))))),\u001b[0m                     \n",
      "\n",
      "-=# \u001b[1;94m geomeTRIC started. Version: 1.0.2 \u001b[0m #=-\n",
      "Current date and time: 2024-06-05 22:21:50\n",
      "Custom engine selected.\n",
      "Bonds will be generated from interatomic distances less than 1.20 times sum of covalent radii\n",
      "9 internal coordinates being used (instead of 9 Cartesians)\n",
      "Internal coordinate system (atoms numbered from 1):\n",
      "Distance 1-2\n",
      "Distance 1-3\n",
      "LinearAngleX 2-1-3\n",
      "LinearAngleY 2-1-3\n",
      "Translation-X 1-3\n",
      "Translation-Y 1-3\n",
      "Translation-Z 1-3\n",
      "Rotation-A 1-3\n",
      "Rotation-B 1-3\n",
      "Rotation-C 1-3\n",
      "<class 'geometric.internal.Distance'> : 2\n",
      "<class 'geometric.internal.LinearAngle'> : 2\n",
      "<class 'geometric.internal.TranslationX'> : 1\n",
      "<class 'geometric.internal.TranslationY'> : 1\n",
      "<class 'geometric.internal.TranslationZ'> : 1\n",
      "<class 'geometric.internal.RotationA'> : 1\n",
      "<class 'geometric.internal.RotationB'> : 1\n",
      "<class 'geometric.internal.RotationC'> : 1\n",
      "> ===== Optimization Info: ====\n",
      "> Job type: Energy minimization\n",
      "> Maximum number of optimization cycles: 300\n",
      "> Initial / maximum trust radius (Angstrom): 0.100 / 0.300\n",
      "> Convergence Criteria:\n",
      "> Will converge when all 5 criteria are reached:\n",
      ">  |Delta-E| < 1.00e-06\n",
      ">  RMS-Grad  < 3.00e-04\n",
      ">  Max-Grad  < 4.50e-04\n",
      ">  RMS-Disp  < 1.20e-03\n",
      ">  Max-Disp  < 1.80e-03\n",
      "> === End Optimization Info ===\n"
     ]
    },
    {
     "name": "stdout",
     "output_type": "stream",
     "text": [
      "\n",
      "Geometry optimization cycle 1\n"
     ]
    },
    {
     "name": "stdout",
     "output_type": "stream",
     "text": [
      "Cartesian coordinates (Angstrom)\n",
      " Atom        New coordinates             dX        dY        dZ\n",
      "   O   0.000000   0.000000   0.000000    0.000000  0.000000  0.000000\n",
      "   C   0.000000   0.000000   1.000000    0.000000  0.000000  0.000000\n",
      "   C   0.000000   0.000000  -1.000000    0.000000  0.000000  0.000000\n",
      "converged SCF energy = -149.98193184835\n",
      "--------------- RHF_Scanner gradients ---------------\n",
      "         x                y                z\n",
      "0 O     0.0000000000    -0.0000000000     0.0000000000\n",
      "1 C    -0.0000000000     0.0000000000    -0.7536217093\n",
      "2 C    -0.0000000000     0.0000000000     0.7536217093\n",
      "----------------------------------------------\n",
      "cycle 1: E = -149.981931848  dE = -149.982  norm(grad) = 1.06578\n"
     ]
    },
    {
     "name": "stderr",
     "output_type": "stream",
     "text": [
      "Step    0 : Gradient = 6.153e-01/7.536e-01 (rms/max) Energy = -149.9819318483\n",
      "Hessian Eigenvalues: 5.00000e-02 5.00000e-02 5.00000e-02 ... 2.50000e-01 3.32740e+00 3.32740e+00\n"
     ]
    },
    {
     "name": "stdout",
     "output_type": "stream",
     "text": [
      "\n",
      "Geometry optimization cycle 2\n",
      "Cartesian coordinates (Angstrom)\n",
      " Atom        New coordinates             dX        dY        dZ\n",
      "   O  -0.000000   0.000000  -0.000000   -0.000000  0.000000 -0.000000\n",
      "   C   0.000000   0.000000   1.119853    0.000000  0.000000  0.119853\n",
      "   C  -0.000000  -0.000000  -1.119853   -0.000000 -0.000000 -0.119853\n",
      "converged SCF energy = -150.193930756591\n",
      "--------------- RHF_Scanner gradients ---------------\n",
      "         x                y                z\n",
      "0 O     0.0000000000    -0.0000000000     0.0000000000\n",
      "1 C    -0.0000000000    -0.0000000000    -0.2458970364\n",
      "2 C     0.0000000000     0.0000000000     0.2458970364\n",
      "----------------------------------------------\n",
      "cycle 2: E = -150.193930757  dE = -0.211999  norm(grad) = 0.347751\n"
     ]
    },
    {
     "name": "stderr",
     "output_type": "stream",
     "text": [
      "Step    1 : Displace = \u001b[0m9.786e-02\u001b[0m/\u001b[0m1.199e-01\u001b[0m (rms/max) Trust = 1.000e-01 (=) Grad = \u001b[0m2.008e-01\u001b[0m/\u001b[0m2.459e-01\u001b[0m (rms/max) E (change) = -150.1939307566 (\u001b[0m-2.120e-01\u001b[0m) Quality = \u001b[0m1.242\u001b[0m\n",
      "Hessian Eigenvalues: 5.00000e-02 5.00000e-02 5.00000e-02 ... 2.50000e-01 2.24171e+00 3.32740e+00\n"
     ]
    },
    {
     "name": "stdout",
     "output_type": "stream",
     "text": [
      "\n",
      "Geometry optimization cycle 3\n",
      "Cartesian coordinates (Angstrom)\n",
      " Atom        New coordinates             dX        dY        dZ\n",
      "   O  -0.000000   0.000000  -0.000000   -0.000000  0.000000  0.000000\n",
      "   C  -0.000000   0.000000   1.177900   -0.000000 -0.000000  0.058046\n",
      "   C   0.000000  -0.000000  -1.177900    0.000000 -0.000000 -0.058046\n",
      "converged SCF energy = -150.231997926447\n",
      "--------------- RHF_Scanner gradients ---------------\n",
      "         x                y                z\n",
      "0 O     0.0000000000    -0.0000000000     0.0000000000\n",
      "1 C     0.0000000000    -0.0000000000    -0.1098468027\n",
      "2 C    -0.0000000000     0.0000000000     0.1098468027\n",
      "----------------------------------------------\n",
      "cycle 3: E = -150.231997926  dE = -0.0380672  norm(grad) = 0.155347\n"
     ]
    },
    {
     "name": "stderr",
     "output_type": "stream",
     "text": [
      "Step    2 : Displace = \u001b[0m4.739e-02\u001b[0m/\u001b[0m5.805e-02\u001b[0m (rms/max) Trust = 1.414e-01 (\u001b[92m+\u001b[0m) Grad = \u001b[0m8.969e-02\u001b[0m/\u001b[0m1.098e-01\u001b[0m (rms/max) E (change) = -150.2319979264 (\u001b[0m-3.807e-02\u001b[0m) Quality = \u001b[0m1.411\u001b[0m\n",
      "Hessian Eigenvalues: 5.00000e-02 5.00000e-02 5.00000e-02 ... 2.50000e-01 1.24030e+00 3.32740e+00\n"
     ]
    },
    {
     "name": "stdout",
     "output_type": "stream",
     "text": [
      "\n",
      "Geometry optimization cycle 4\n",
      "Cartesian coordinates (Angstrom)\n",
      " Atom        New coordinates             dX        dY        dZ\n",
      "   O  -0.000000   0.000000   0.000000    0.000000  0.000000  0.000000\n",
      "   C  -0.000000   0.000000   1.224766   -0.000000  0.000000  0.046867\n",
      "   C   0.000000  -0.000000  -1.224766    0.000000 -0.000000 -0.046867\n",
      "converged SCF energy = -150.244272174885\n",
      "--------------- RHF_Scanner gradients ---------------\n",
      "         x                y                z\n",
      "0 O    -0.0000000000     0.0000000000    -0.0000000000\n",
      "1 C     0.0000000000    -0.0000000000    -0.0328586248\n",
      "2 C    -0.0000000000     0.0000000000     0.0328586248\n",
      "----------------------------------------------\n",
      "cycle 4: E = -150.244272175  dE = -0.0122742  norm(grad) = 0.0464691\n"
     ]
    },
    {
     "name": "stderr",
     "output_type": "stream",
     "text": [
      "Step    3 : Displace = \u001b[0m3.827e-02\u001b[0m/\u001b[0m4.687e-02\u001b[0m (rms/max) Trust = 2.000e-01 (\u001b[92m+\u001b[0m) Grad = \u001b[0m2.683e-02\u001b[0m/\u001b[0m3.286e-02\u001b[0m (rms/max) E (change) = -150.2442721749 (\u001b[0m-1.227e-02\u001b[0m) Quality = \u001b[0m1.262\u001b[0m\n",
      "Hessian Eigenvalues: 5.00000e-02 5.00000e-02 5.00000e-02 ... 2.50000e-01 8.69285e-01 3.32740e+00\n"
     ]
    },
    {
     "name": "stdout",
     "output_type": "stream",
     "text": [
      "\n",
      "Geometry optimization cycle 5\n",
      "Cartesian coordinates (Angstrom)\n",
      " Atom        New coordinates             dX        dY        dZ\n",
      "   O  -0.000000   0.000000   0.000000    0.000000 -0.000000  0.000000\n",
      "   C  -0.000000   0.000000   1.244769   -0.000000  0.000000  0.020003\n",
      "   C   0.000000  -0.000000  -1.244769    0.000000 -0.000000 -0.020003\n",
      "converged SCF energy = -150.24575124486\n",
      "--------------- RHF_Scanner gradients ---------------\n",
      "         x                y                z\n",
      "0 O    -0.0000000000     0.0000000000    -0.0000000000\n",
      "1 C     0.0000000000    -0.0000000000    -0.0068768879\n",
      "2 C     0.0000000000    -0.0000000000     0.0068768879\n",
      "----------------------------------------------\n",
      "cycle 5: E = -150.245751245  dE = -0.00147907  norm(grad) = 0.00972539\n"
     ]
    },
    {
     "name": "stderr",
     "output_type": "stream",
     "text": [
      "Step    4 : Displace = \u001b[0m1.633e-02\u001b[0m/\u001b[0m2.000e-02\u001b[0m (rms/max) Trust = 2.828e-01 (\u001b[92m+\u001b[0m) Grad = \u001b[0m5.615e-03\u001b[0m/\u001b[0m6.877e-03\u001b[0m (rms/max) E (change) = -150.2457512449 (\u001b[0m-1.479e-03\u001b[0m) Quality = \u001b[0m1.191\u001b[0m\n",
      "Hessian Eigenvalues: 5.00000e-02 5.00000e-02 5.00000e-02 ... 2.50000e-01 6.87355e-01 3.32740e+00\n"
     ]
    },
    {
     "name": "stdout",
     "output_type": "stream",
     "text": [
      "\n",
      "Geometry optimization cycle 6\n",
      "Cartesian coordinates (Angstrom)\n",
      " Atom        New coordinates             dX        dY        dZ\n",
      "   O   0.000000   0.000000   0.000000    0.000000 -0.000000 -0.000000\n",
      "   C  -0.000000   0.000000   1.250063    0.000000  0.000000  0.005294\n",
      "   C   0.000000  -0.000000  -1.250063   -0.000000 -0.000000 -0.005294\n",
      "converged SCF energy = -150.245825547671\n",
      "--------------- RHF_Scanner gradients ---------------\n",
      "         x                y                z\n",
      "0 O     0.0000000000     0.0000000000     0.0000000000\n",
      "1 C    -0.0000000000    -0.0000000000    -0.0005891665\n",
      "2 C    -0.0000000000    -0.0000000000     0.0005891665\n",
      "----------------------------------------------\n",
      "cycle 6: E = -150.245825548  dE = -7.43028e-05  norm(grad) = 0.000833207\n"
     ]
    },
    {
     "name": "stderr",
     "output_type": "stream",
     "text": [
      "Step    5 : Displace = \u001b[0m4.323e-03\u001b[0m/\u001b[0m5.294e-03\u001b[0m (rms/max) Trust = 3.000e-01 (\u001b[92m+\u001b[0m) Grad = \u001b[0m4.811e-04\u001b[0m/\u001b[0m5.892e-04\u001b[0m (rms/max) E (change) = -150.2458255477 (\u001b[0m-7.430e-05\u001b[0m) Quality = \u001b[0m1.080\u001b[0m\n",
      "Hessian Eigenvalues: 5.00000e-02 5.00000e-02 5.00000e-02 ... 2.50000e-01 6.28467e-01 3.32740e+00\n"
     ]
    },
    {
     "name": "stdout",
     "output_type": "stream",
     "text": [
      "\n",
      "Geometry optimization cycle 7\n",
      "Cartesian coordinates (Angstrom)\n",
      " Atom        New coordinates             dX        dY        dZ\n",
      "   O  -0.000000  -0.000000   0.000000   -0.000000 -0.000000 -0.000000\n",
      "   C  -0.000000   0.000000   1.250559    0.000000  0.000000  0.000496\n",
      "   C   0.000000  -0.000000  -1.250559    0.000000  0.000000 -0.000496\n",
      "converged SCF energy = -150.245826110651\n",
      "--------------- RHF_Scanner gradients ---------------\n",
      "         x                y                z\n",
      "0 O    -0.0000000000    -0.0000000000     0.0000000000\n",
      "1 C     0.0000000000     0.0000000000    -0.0000110039\n",
      "2 C     0.0000000000     0.0000000000     0.0000110039\n",
      "----------------------------------------------\n",
      "cycle 7: E = -150.245826111  dE = -5.6298e-07  norm(grad) = 1.55618e-05\n"
     ]
    },
    {
     "name": "stderr",
     "output_type": "stream",
     "text": [
      "Step    6 : Displace = \u001b[92m4.051e-04\u001b[0m/\u001b[92m4.961e-04\u001b[0m (rms/max) Trust = 3.000e-01 (=) Grad = \u001b[92m8.985e-06\u001b[0m/\u001b[92m1.100e-05\u001b[0m (rms/max) E (change) = -150.2458261107 (\u001b[92m-5.630e-07\u001b[0m) Quality = \u001b[0m1.019\u001b[0m\n",
      "Hessian Eigenvalues: 5.00000e-02 5.00000e-02 5.00000e-02 ... 2.50000e-01 6.28467e-01 3.32740e+00\n",
      "Converged! =D\n",
      "\n",
      "    #==========================================================================#\n",
      "    #| If this code has benefited your research, please support us by citing: |#\n",
      "    #|                                                                        |#\n",
      "    #| Wang, L.-P.; Song, C.C. (2016) \"Geometry optimization made simple with |#\n",
      "    #| translation and rotation coordinates\", J. Chem, Phys. 144, 214108.     |#\n",
      "    #| http://dx.doi.org/10.1063/1.4952956                                    |#\n",
      "    #==========================================================================#\n",
      "    Time elapsed since start of run_optimizer: 6.769 seconds\n"
     ]
    },
    {
     "name": "stdout",
     "output_type": "stream",
     "text": [
      "CPU times: user 4.09 s, sys: 197 ms, total: 4.29 s\n",
      "Wall time: 6.84 s\n"
     ]
    }
   ],
   "source": [
    "%%time\n",
    "\n",
    "mol_eq = optimize(mf)"
   ]
  },
  {
   "cell_type": "code",
   "execution_count": 49,
   "metadata": {},
   "outputs": [
    {
     "data": {
      "text/plain": [
       "array([[-8.16725392e-14, -4.92852644e-14,  8.23367392e-13],\n",
       "       [-5.70989290e-14,  1.98563920e-13,  2.36321441e+00],\n",
       "       [ 1.30579764e-13, -1.26623951e-13, -2.36321441e+00]])"
      ]
     },
     "execution_count": 49,
     "metadata": {},
     "output_type": "execute_result"
    }
   ],
   "source": [
    "mol_eq.atom_coords()"
   ]
  },
  {
   "cell_type": "code",
   "execution_count": null,
   "metadata": {},
   "outputs": [],
   "source": []
  }
 ],
 "metadata": {
  "kernelspec": {
   "display_name": "venv11",
   "language": "python",
   "name": "python3"
  },
  "language_info": {
   "codemirror_mode": {
    "name": "ipython",
    "version": 3
   },
   "file_extension": ".py",
   "mimetype": "text/x-python",
   "name": "python",
   "nbconvert_exporter": "python",
   "pygments_lexer": "ipython3",
   "version": "3.11.5"
  }
 },
 "nbformat": 4,
 "nbformat_minor": 2
}

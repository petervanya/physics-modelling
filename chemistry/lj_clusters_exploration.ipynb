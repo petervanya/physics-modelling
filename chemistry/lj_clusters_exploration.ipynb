{
 "cells": [
  {
   "cell_type": "markdown",
   "metadata": {},
   "source": [
    "# Exploration/reproducing LJ cluster energies from Wales-Doye paper\n",
    "\n",
    "2024-04-30\n",
    "\n",
    "Paper doi: https://sci-hub.ee/10.1021/jp970984n\n",
    "\n",
    "Process:\n",
    "1. Download the data from the paper\n",
    "2. Wrangle, clean, compute energy per atom and visualise how this changes with atom number\n",
    "3. Reproduce some results: write algo for basin hopping, run Scipy basin hopping to verify"
   ]
  },
  {
   "cell_type": "code",
   "execution_count": 3,
   "metadata": {},
   "outputs": [],
   "source": [
    "import numpy as np\n",
    "import pandas as pd\n",
    "\n",
    "import plotly.express as px"
   ]
  },
  {
   "cell_type": "code",
   "execution_count": 1,
   "metadata": {},
   "outputs": [],
   "source": [
    "s = \"\"\"\n",
    "2 D∞h -1.000 000 2 57 Cs -288.342 625 10\n",
    "3 D3h -3.000 000 2/3 58 C 3v -294.378 148 10\n",
    "4 Td -6.000 000 2/3 59 C 2v -299.738 070 10\n",
    "5 D3h -9.103 852 2/3 60 Cs -305.875 476 10\n",
    "6 Oh -12.712 062 2/3 61 C 2v -312.008 896 10\n",
    "7 D5h -16.505 384 2/3 62 Cs -317.353 901 10\n",
    "8 Cs -19.821 489 2/3 63 C 1 -323.489 734 10\n",
    "9 C2v -24.113 360 2/3 64 Cs -329.620 147 10\n",
    "10 C3v -28.422 532 2 65 C 2 -334.971 532 12\n",
    "11 C2v -32.765 970 2 66 C 1 -341.110 599 11/12\n",
    "12 C5v -37.967 600 2 67 C s -347.252 007 10\n",
    "13 Ih -44.326 801 2/3 68 C 1 -353.394 542 10\n",
    "14 C3v -47.845 157 2/3 69 C5V -359.882 566 present-work\n",
    "15 C2v -52.322 627 2 70 C 5v -366.892 251 10\n",
    "16 Cs -56.815 742 2 71 C 5v -373.349 661 10\n",
    "17 C2 -61.317 995 7 72 Cs -378.637 253 11\n",
    "18 C5v -66.530 949 2 73 Cs -384.789 377 10\n",
    "19 D5h -72.659 782 2 74 Cs -390.908 500 10\n",
    "20 C2v -77.177 043 2 75 D 5h -397.492 331 14\n",
    "21 C2v -81.684 571 2 76 Cs -402.894 866 14\n",
    "22 Cs -86.809 782 10 77 C 2v -409.083 517 14\n",
    "23 D3h -92.844 472 8 78 C s -414.794 401 present-work\n",
    "24 Cs -97.348 815 9 79 C 2v -421.810 897 10\n",
    "25 Cs -102.372 663 2 80 Cs -428.083 564 10\n",
    "26 Td -108.315 616 2 81 C 2v -434.343 643 10\n",
    "27 C2v -112.873 584 10 82 C 1 -440.550 425 10\n",
    "28 Cs -117.822 402 10 83 C 2v -446.924 094 10\n",
    "29 D3h -123.587 371 2 84 C 1 -452.657 214 10\n",
    "30 C2v -128.286 571 10 85 C 3v -459.055 799 10\n",
    "31 Cs -133.586 422 10 86 C 1 -465.384 493 10\n",
    "32 C2v -139.635 524 10 87 Cs -472.098 165 10\n",
    "33 Cs -144.842 719 10 88 Cs -479.032 630 16\n",
    "34 C2v -150.044 528 10 89 C 3v -486.053 911 10\n",
    "35 C1 -155.756 643 10 90 Cs -492.433 908 10\n",
    "36 Cs -161.825 363 10 91 Cs -498.811 060 10\n",
    "37 C1 -167.033 672 10 92 C 3v -505.185 309 10\n",
    "38 Oh -173.928 427 13/14 93 C 1 -510.877 688 10\n",
    "39 C5v -180.033 185 10 94 C 1 -517.264 131 10\n",
    "40 Cs -185.249 839 10 95 C 1 -523.640 211 10\n",
    "41 Cs -190.536 277 10 96 C1 -529.879 146 10\n",
    "42 Cs -196.277 534 10 97 C1 -536.681 383 10\n",
    "43 Cs -202.364 664 10 98 Cs -543.642 957 16\n",
    "44 C1 -207.688 728 10 99 C 2v -550.666 526 10\n",
    "45 C1 -213.784 862 10 100 Cs -557.039 820 10\n",
    "46 C2V -220.680 330 10 101 C 2v -563.411 308 10\n",
    "47 C1 -226.012 256 10 102 C 2v -569.363 652 15\n",
    "48 Cs -232.199 529 10 103 Cs -575.766 131 15\n",
    "49 C3v -239.091 864 10 104 C 2v -582.086 642 15\n",
    "50 Cs -244.549 926 10 105 C 1 -588.266 501 10\n",
    "51 C2v -251.253 964 10 106 C 1 -595.061 072 10\n",
    "52 C3v -258.229 991 10 107 C s -602.007 110 present-work\n",
    "53 C2v -265.203 016 10 108 C s -609.033 011 10\n",
    "54 C5v -272.208 631 10 109 C 1 -615.411 166 10\n",
    "55 Ih -279.248 470 4 110 Cs -621.788 224 10\n",
    "56 C3v -283.643 105 10\n",
    "\"\"\""
   ]
  },
  {
   "cell_type": "code",
   "execution_count": 5,
   "metadata": {},
   "outputs": [],
   "source": [
    "lines = s.replace(\"C \", \"C\").replace(\"D \", \"D\").strip(\"\\n\").split(\"\\n\")\n",
    "df = pd.DataFrame([line.split() for line in lines])\n",
    "\n",
    "# select and rename relevant columns\n",
    "df = df[[0, 1, 2, 5, 6, 7]]\n",
    "df.columns = [\"n\", \"symmetry\", \"energy\", \"n2\", \"symmetry2\", \"energy2\"]\n",
    "\n",
    "# select two columns of data\n",
    "df1 = df[['n', 'symmetry', 'energy']]\n",
    "df2 = df[['n2', 'symmetry2', 'energy2']]\n",
    "df2.columns = ['n', 'symmetry', 'energy']\n",
    "\n",
    "# concatenate\n",
    "dff = pd.concat([df1, df2], axis=0, ignore_index=True)\n",
    "dff = dff.dropna()\n",
    "\n",
    "# compute\n",
    "dff['unit_energy'] = dff['energy'].astype(float) / dff['n'].astype(float)"
   ]
  },
  {
   "cell_type": "code",
   "execution_count": 39,
   "metadata": {},
   "outputs": [
    {
     "data": {
      "text/html": [
       "<div>\n",
       "<style scoped>\n",
       "    .dataframe tbody tr th:only-of-type {\n",
       "        vertical-align: middle;\n",
       "    }\n",
       "\n",
       "    .dataframe tbody tr th {\n",
       "        vertical-align: top;\n",
       "    }\n",
       "\n",
       "    .dataframe thead th {\n",
       "        text-align: right;\n",
       "    }\n",
       "</style>\n",
       "<table border=\"1\" class=\"dataframe\">\n",
       "  <thead>\n",
       "    <tr style=\"text-align: right;\">\n",
       "      <th></th>\n",
       "      <th>n</th>\n",
       "      <th>symmetry</th>\n",
       "      <th>energy</th>\n",
       "      <th>n2</th>\n",
       "      <th>symmetry2</th>\n",
       "      <th>energy2</th>\n",
       "    </tr>\n",
       "  </thead>\n",
       "  <tbody>\n",
       "    <tr>\n",
       "      <th>0</th>\n",
       "      <td>2</td>\n",
       "      <td>D∞h</td>\n",
       "      <td>-1.000</td>\n",
       "      <td>57</td>\n",
       "      <td>Cs</td>\n",
       "      <td>-288.342</td>\n",
       "    </tr>\n",
       "    <tr>\n",
       "      <th>1</th>\n",
       "      <td>3</td>\n",
       "      <td>D3h</td>\n",
       "      <td>-3.000</td>\n",
       "      <td>58</td>\n",
       "      <td>C3v</td>\n",
       "      <td>-294.378</td>\n",
       "    </tr>\n",
       "    <tr>\n",
       "      <th>2</th>\n",
       "      <td>4</td>\n",
       "      <td>Td</td>\n",
       "      <td>-6.000</td>\n",
       "      <td>59</td>\n",
       "      <td>C2v</td>\n",
       "      <td>-299.738</td>\n",
       "    </tr>\n",
       "    <tr>\n",
       "      <th>3</th>\n",
       "      <td>5</td>\n",
       "      <td>D3h</td>\n",
       "      <td>-9.103</td>\n",
       "      <td>60</td>\n",
       "      <td>Cs</td>\n",
       "      <td>-305.875</td>\n",
       "    </tr>\n",
       "    <tr>\n",
       "      <th>4</th>\n",
       "      <td>6</td>\n",
       "      <td>Oh</td>\n",
       "      <td>-12.712</td>\n",
       "      <td>61</td>\n",
       "      <td>C2v</td>\n",
       "      <td>-312.008</td>\n",
       "    </tr>\n",
       "    <tr>\n",
       "      <th>5</th>\n",
       "      <td>7</td>\n",
       "      <td>D5h</td>\n",
       "      <td>-16.505</td>\n",
       "      <td>62</td>\n",
       "      <td>Cs</td>\n",
       "      <td>-317.353</td>\n",
       "    </tr>\n",
       "    <tr>\n",
       "      <th>6</th>\n",
       "      <td>8</td>\n",
       "      <td>Cs</td>\n",
       "      <td>-19.821</td>\n",
       "      <td>63</td>\n",
       "      <td>C1</td>\n",
       "      <td>-323.489</td>\n",
       "    </tr>\n",
       "    <tr>\n",
       "      <th>7</th>\n",
       "      <td>9</td>\n",
       "      <td>C2v</td>\n",
       "      <td>-24.113</td>\n",
       "      <td>64</td>\n",
       "      <td>Cs</td>\n",
       "      <td>-329.620</td>\n",
       "    </tr>\n",
       "    <tr>\n",
       "      <th>8</th>\n",
       "      <td>10</td>\n",
       "      <td>C3v</td>\n",
       "      <td>-28.422</td>\n",
       "      <td>65</td>\n",
       "      <td>C2</td>\n",
       "      <td>-334.971</td>\n",
       "    </tr>\n",
       "    <tr>\n",
       "      <th>9</th>\n",
       "      <td>11</td>\n",
       "      <td>C2v</td>\n",
       "      <td>-32.765</td>\n",
       "      <td>66</td>\n",
       "      <td>C1</td>\n",
       "      <td>-341.110</td>\n",
       "    </tr>\n",
       "  </tbody>\n",
       "</table>\n",
       "</div>"
      ],
      "text/plain": [
       "    n symmetry   energy  n2 symmetry2   energy2\n",
       "0   2      D∞h   -1.000  57        Cs  -288.342\n",
       "1   3      D3h   -3.000  58       C3v  -294.378\n",
       "2   4       Td   -6.000  59       C2v  -299.738\n",
       "3   5      D3h   -9.103  60        Cs  -305.875\n",
       "4   6       Oh  -12.712  61       C2v  -312.008\n",
       "5   7      D5h  -16.505  62        Cs  -317.353\n",
       "6   8       Cs  -19.821  63        C1  -323.489\n",
       "7   9      C2v  -24.113  64        Cs  -329.620\n",
       "8  10      C3v  -28.422  65        C2  -334.971\n",
       "9  11      C2v  -32.765  66        C1  -341.110"
      ]
     },
     "execution_count": 39,
     "metadata": {},
     "output_type": "execute_result"
    }
   ],
   "source": [
    "df.head(10)"
   ]
  },
  {
   "cell_type": "code",
   "execution_count": 6,
   "metadata": {},
   "outputs": [
    {
     "data": {
      "application/vnd.plotly.v1+json": {
       "config": {
        "plotlyServerURL": "https://plot.ly"
       },
       "data": [
        {
         "hovertemplate": "n=%{x}<br>unit_energy=%{y}<extra></extra>",
         "legendgroup": "",
         "marker": {
          "color": "#636efa",
          "symbol": "circle"
         },
         "mode": "markers",
         "name": "",
         "orientation": "v",
         "showlegend": false,
         "type": "scatter",
         "x": [
          "2",
          "3",
          "4",
          "5",
          "6",
          "7",
          "8",
          "9",
          "10",
          "11",
          "12",
          "13",
          "14",
          "15",
          "16",
          "17",
          "18",
          "19",
          "20",
          "21",
          "22",
          "23",
          "24",
          "25",
          "26",
          "27",
          "28",
          "29",
          "30",
          "31",
          "32",
          "33",
          "34",
          "35",
          "36",
          "37",
          "38",
          "39",
          "40",
          "41",
          "42",
          "43",
          "44",
          "45",
          "46",
          "47",
          "48",
          "49",
          "50",
          "51",
          "52",
          "53",
          "54",
          "55",
          "56",
          "57",
          "58",
          "59",
          "60",
          "61",
          "62",
          "63",
          "64",
          "65",
          "66",
          "67",
          "68",
          "69",
          "70",
          "71",
          "72",
          "73",
          "74",
          "75",
          "76",
          "77",
          "78",
          "79",
          "80",
          "81",
          "82",
          "83",
          "84",
          "85",
          "86",
          "87",
          "88",
          "89",
          "90",
          "91",
          "92",
          "93",
          "94",
          "95",
          "96",
          "97",
          "98",
          "99",
          "100",
          "101",
          "102",
          "103",
          "104",
          "105",
          "106",
          "107",
          "108",
          "109",
          "110"
         ],
         "xaxis": "x",
         "y": [
          -0.5,
          -1,
          -1.5,
          -1.8206,
          -2.1186666666666665,
          -2.3578571428571427,
          -2.477625,
          -2.679222222222222,
          -2.8422,
          -2.9786363636363635,
          -3.1639166666666667,
          -3.409692307692308,
          -3.4175,
          -3.4881333333333333,
          -3.5509375,
          -3.6068823529411764,
          -3.696111111111111,
          -3.8241578947368424,
          -3.8588500000000003,
          -3.8897142857142857,
          -3.945863636363636,
          -4.036695652173913,
          -4.056166666666667,
          -4.09488,
          -4.165961538461539,
          -4.180481481481482,
          -4.207928571428572,
          -4.261620689655173,
          -4.2762,
          -4.309225806451614,
          -4.36359375,
          -4.389151515151515,
          -4.413058823529412,
          -4.450171428571428,
          -4.495138888888889,
          -4.514405405405405,
          -4.5770526315789475,
          -4.616230769230769,
          -4.631225,
          -4.647219512195122,
          -4.673261904761905,
          -4.706139534883721,
          -4.720181818181818,
          -4.750755555555555,
          -4.797391304347826,
          -4.808765957446808,
          -4.837479166666667,
          -4.879408163265306,
          -4.89098,
          -4.926529411764705,
          -4.965942307692307,
          -5.0038301886792445,
          -5.040888888888889,
          -5.077236363636364,
          -5.065053571428571,
          -5.058631578947368,
          -5.075482758620689,
          -5.0803050847457625,
          -5.097916666666666,
          -5.114885245901639,
          -5.1185967741935485,
          -5.134746031746031,
          -5.1503125,
          -5.1534,
          -5.168333333333334,
          -5.182865671641792,
          -5.196970588235295,
          -5.21568115942029,
          -5.241314285714286,
          -5.25843661971831,
          -5.258847222222222,
          -5.271082191780822,
          -5.28254054054054,
          -5.299893333333333,
          -5.301236842105263,
          -5.312766233766234,
          -5.317871794871794,
          -5.339367088607595,
          -5.3510375,
          -5.362259259259259,
          -5.3725609756097565,
          -5.384626506024096,
          -5.388773809523809,
          -5.400647058823529,
          -5.411441860465117,
          -5.426413793103449,
          -5.443545454545454,
          -5.461269662921349,
          -5.471477777777777,
          -5.4814395604395605,
          -5.491141304347826,
          -5.493301075268818,
          -5.502808510638298,
          -5.512,
          -5.519572916666667,
          -5.53279381443299,
          -5.547367346938776,
          -5.562282828282829,
          -5.57039,
          -5.578326732673267,
          -5.581990196078432,
          -5.5899611650485435,
          -5.596980769230769,
          -5.602533333333333,
          -5.613783018867925,
          -5.626233644859813,
          -5.639194444444445,
          -5.64597247706422,
          -5.652618181818182
         ],
         "yaxis": "y"
        }
       ],
       "layout": {
        "legend": {
         "tracegroupgap": 0
        },
        "margin": {
         "t": 60
        },
        "template": {
         "data": {
          "bar": [
           {
            "error_x": {
             "color": "#2a3f5f"
            },
            "error_y": {
             "color": "#2a3f5f"
            },
            "marker": {
             "line": {
              "color": "#E5ECF6",
              "width": 0.5
             },
             "pattern": {
              "fillmode": "overlay",
              "size": 10,
              "solidity": 0.2
             }
            },
            "type": "bar"
           }
          ],
          "barpolar": [
           {
            "marker": {
             "line": {
              "color": "#E5ECF6",
              "width": 0.5
             },
             "pattern": {
              "fillmode": "overlay",
              "size": 10,
              "solidity": 0.2
             }
            },
            "type": "barpolar"
           }
          ],
          "carpet": [
           {
            "aaxis": {
             "endlinecolor": "#2a3f5f",
             "gridcolor": "white",
             "linecolor": "white",
             "minorgridcolor": "white",
             "startlinecolor": "#2a3f5f"
            },
            "baxis": {
             "endlinecolor": "#2a3f5f",
             "gridcolor": "white",
             "linecolor": "white",
             "minorgridcolor": "white",
             "startlinecolor": "#2a3f5f"
            },
            "type": "carpet"
           }
          ],
          "choropleth": [
           {
            "colorbar": {
             "outlinewidth": 0,
             "ticks": ""
            },
            "type": "choropleth"
           }
          ],
          "contour": [
           {
            "colorbar": {
             "outlinewidth": 0,
             "ticks": ""
            },
            "colorscale": [
             [
              0,
              "#0d0887"
             ],
             [
              0.1111111111111111,
              "#46039f"
             ],
             [
              0.2222222222222222,
              "#7201a8"
             ],
             [
              0.3333333333333333,
              "#9c179e"
             ],
             [
              0.4444444444444444,
              "#bd3786"
             ],
             [
              0.5555555555555556,
              "#d8576b"
             ],
             [
              0.6666666666666666,
              "#ed7953"
             ],
             [
              0.7777777777777778,
              "#fb9f3a"
             ],
             [
              0.8888888888888888,
              "#fdca26"
             ],
             [
              1,
              "#f0f921"
             ]
            ],
            "type": "contour"
           }
          ],
          "contourcarpet": [
           {
            "colorbar": {
             "outlinewidth": 0,
             "ticks": ""
            },
            "type": "contourcarpet"
           }
          ],
          "heatmap": [
           {
            "colorbar": {
             "outlinewidth": 0,
             "ticks": ""
            },
            "colorscale": [
             [
              0,
              "#0d0887"
             ],
             [
              0.1111111111111111,
              "#46039f"
             ],
             [
              0.2222222222222222,
              "#7201a8"
             ],
             [
              0.3333333333333333,
              "#9c179e"
             ],
             [
              0.4444444444444444,
              "#bd3786"
             ],
             [
              0.5555555555555556,
              "#d8576b"
             ],
             [
              0.6666666666666666,
              "#ed7953"
             ],
             [
              0.7777777777777778,
              "#fb9f3a"
             ],
             [
              0.8888888888888888,
              "#fdca26"
             ],
             [
              1,
              "#f0f921"
             ]
            ],
            "type": "heatmap"
           }
          ],
          "heatmapgl": [
           {
            "colorbar": {
             "outlinewidth": 0,
             "ticks": ""
            },
            "colorscale": [
             [
              0,
              "#0d0887"
             ],
             [
              0.1111111111111111,
              "#46039f"
             ],
             [
              0.2222222222222222,
              "#7201a8"
             ],
             [
              0.3333333333333333,
              "#9c179e"
             ],
             [
              0.4444444444444444,
              "#bd3786"
             ],
             [
              0.5555555555555556,
              "#d8576b"
             ],
             [
              0.6666666666666666,
              "#ed7953"
             ],
             [
              0.7777777777777778,
              "#fb9f3a"
             ],
             [
              0.8888888888888888,
              "#fdca26"
             ],
             [
              1,
              "#f0f921"
             ]
            ],
            "type": "heatmapgl"
           }
          ],
          "histogram": [
           {
            "marker": {
             "pattern": {
              "fillmode": "overlay",
              "size": 10,
              "solidity": 0.2
             }
            },
            "type": "histogram"
           }
          ],
          "histogram2d": [
           {
            "colorbar": {
             "outlinewidth": 0,
             "ticks": ""
            },
            "colorscale": [
             [
              0,
              "#0d0887"
             ],
             [
              0.1111111111111111,
              "#46039f"
             ],
             [
              0.2222222222222222,
              "#7201a8"
             ],
             [
              0.3333333333333333,
              "#9c179e"
             ],
             [
              0.4444444444444444,
              "#bd3786"
             ],
             [
              0.5555555555555556,
              "#d8576b"
             ],
             [
              0.6666666666666666,
              "#ed7953"
             ],
             [
              0.7777777777777778,
              "#fb9f3a"
             ],
             [
              0.8888888888888888,
              "#fdca26"
             ],
             [
              1,
              "#f0f921"
             ]
            ],
            "type": "histogram2d"
           }
          ],
          "histogram2dcontour": [
           {
            "colorbar": {
             "outlinewidth": 0,
             "ticks": ""
            },
            "colorscale": [
             [
              0,
              "#0d0887"
             ],
             [
              0.1111111111111111,
              "#46039f"
             ],
             [
              0.2222222222222222,
              "#7201a8"
             ],
             [
              0.3333333333333333,
              "#9c179e"
             ],
             [
              0.4444444444444444,
              "#bd3786"
             ],
             [
              0.5555555555555556,
              "#d8576b"
             ],
             [
              0.6666666666666666,
              "#ed7953"
             ],
             [
              0.7777777777777778,
              "#fb9f3a"
             ],
             [
              0.8888888888888888,
              "#fdca26"
             ],
             [
              1,
              "#f0f921"
             ]
            ],
            "type": "histogram2dcontour"
           }
          ],
          "mesh3d": [
           {
            "colorbar": {
             "outlinewidth": 0,
             "ticks": ""
            },
            "type": "mesh3d"
           }
          ],
          "parcoords": [
           {
            "line": {
             "colorbar": {
              "outlinewidth": 0,
              "ticks": ""
             }
            },
            "type": "parcoords"
           }
          ],
          "pie": [
           {
            "automargin": true,
            "type": "pie"
           }
          ],
          "scatter": [
           {
            "fillpattern": {
             "fillmode": "overlay",
             "size": 10,
             "solidity": 0.2
            },
            "type": "scatter"
           }
          ],
          "scatter3d": [
           {
            "line": {
             "colorbar": {
              "outlinewidth": 0,
              "ticks": ""
             }
            },
            "marker": {
             "colorbar": {
              "outlinewidth": 0,
              "ticks": ""
             }
            },
            "type": "scatter3d"
           }
          ],
          "scattercarpet": [
           {
            "marker": {
             "colorbar": {
              "outlinewidth": 0,
              "ticks": ""
             }
            },
            "type": "scattercarpet"
           }
          ],
          "scattergeo": [
           {
            "marker": {
             "colorbar": {
              "outlinewidth": 0,
              "ticks": ""
             }
            },
            "type": "scattergeo"
           }
          ],
          "scattergl": [
           {
            "marker": {
             "colorbar": {
              "outlinewidth": 0,
              "ticks": ""
             }
            },
            "type": "scattergl"
           }
          ],
          "scattermapbox": [
           {
            "marker": {
             "colorbar": {
              "outlinewidth": 0,
              "ticks": ""
             }
            },
            "type": "scattermapbox"
           }
          ],
          "scatterpolar": [
           {
            "marker": {
             "colorbar": {
              "outlinewidth": 0,
              "ticks": ""
             }
            },
            "type": "scatterpolar"
           }
          ],
          "scatterpolargl": [
           {
            "marker": {
             "colorbar": {
              "outlinewidth": 0,
              "ticks": ""
             }
            },
            "type": "scatterpolargl"
           }
          ],
          "scatterternary": [
           {
            "marker": {
             "colorbar": {
              "outlinewidth": 0,
              "ticks": ""
             }
            },
            "type": "scatterternary"
           }
          ],
          "surface": [
           {
            "colorbar": {
             "outlinewidth": 0,
             "ticks": ""
            },
            "colorscale": [
             [
              0,
              "#0d0887"
             ],
             [
              0.1111111111111111,
              "#46039f"
             ],
             [
              0.2222222222222222,
              "#7201a8"
             ],
             [
              0.3333333333333333,
              "#9c179e"
             ],
             [
              0.4444444444444444,
              "#bd3786"
             ],
             [
              0.5555555555555556,
              "#d8576b"
             ],
             [
              0.6666666666666666,
              "#ed7953"
             ],
             [
              0.7777777777777778,
              "#fb9f3a"
             ],
             [
              0.8888888888888888,
              "#fdca26"
             ],
             [
              1,
              "#f0f921"
             ]
            ],
            "type": "surface"
           }
          ],
          "table": [
           {
            "cells": {
             "fill": {
              "color": "#EBF0F8"
             },
             "line": {
              "color": "white"
             }
            },
            "header": {
             "fill": {
              "color": "#C8D4E3"
             },
             "line": {
              "color": "white"
             }
            },
            "type": "table"
           }
          ]
         },
         "layout": {
          "annotationdefaults": {
           "arrowcolor": "#2a3f5f",
           "arrowhead": 0,
           "arrowwidth": 1
          },
          "autotypenumbers": "strict",
          "coloraxis": {
           "colorbar": {
            "outlinewidth": 0,
            "ticks": ""
           }
          },
          "colorscale": {
           "diverging": [
            [
             0,
             "#8e0152"
            ],
            [
             0.1,
             "#c51b7d"
            ],
            [
             0.2,
             "#de77ae"
            ],
            [
             0.3,
             "#f1b6da"
            ],
            [
             0.4,
             "#fde0ef"
            ],
            [
             0.5,
             "#f7f7f7"
            ],
            [
             0.6,
             "#e6f5d0"
            ],
            [
             0.7,
             "#b8e186"
            ],
            [
             0.8,
             "#7fbc41"
            ],
            [
             0.9,
             "#4d9221"
            ],
            [
             1,
             "#276419"
            ]
           ],
           "sequential": [
            [
             0,
             "#0d0887"
            ],
            [
             0.1111111111111111,
             "#46039f"
            ],
            [
             0.2222222222222222,
             "#7201a8"
            ],
            [
             0.3333333333333333,
             "#9c179e"
            ],
            [
             0.4444444444444444,
             "#bd3786"
            ],
            [
             0.5555555555555556,
             "#d8576b"
            ],
            [
             0.6666666666666666,
             "#ed7953"
            ],
            [
             0.7777777777777778,
             "#fb9f3a"
            ],
            [
             0.8888888888888888,
             "#fdca26"
            ],
            [
             1,
             "#f0f921"
            ]
           ],
           "sequentialminus": [
            [
             0,
             "#0d0887"
            ],
            [
             0.1111111111111111,
             "#46039f"
            ],
            [
             0.2222222222222222,
             "#7201a8"
            ],
            [
             0.3333333333333333,
             "#9c179e"
            ],
            [
             0.4444444444444444,
             "#bd3786"
            ],
            [
             0.5555555555555556,
             "#d8576b"
            ],
            [
             0.6666666666666666,
             "#ed7953"
            ],
            [
             0.7777777777777778,
             "#fb9f3a"
            ],
            [
             0.8888888888888888,
             "#fdca26"
            ],
            [
             1,
             "#f0f921"
            ]
           ]
          },
          "colorway": [
           "#636efa",
           "#EF553B",
           "#00cc96",
           "#ab63fa",
           "#FFA15A",
           "#19d3f3",
           "#FF6692",
           "#B6E880",
           "#FF97FF",
           "#FECB52"
          ],
          "font": {
           "color": "#2a3f5f"
          },
          "geo": {
           "bgcolor": "white",
           "lakecolor": "white",
           "landcolor": "#E5ECF6",
           "showlakes": true,
           "showland": true,
           "subunitcolor": "white"
          },
          "hoverlabel": {
           "align": "left"
          },
          "hovermode": "closest",
          "mapbox": {
           "style": "light"
          },
          "paper_bgcolor": "white",
          "plot_bgcolor": "#E5ECF6",
          "polar": {
           "angularaxis": {
            "gridcolor": "white",
            "linecolor": "white",
            "ticks": ""
           },
           "bgcolor": "#E5ECF6",
           "radialaxis": {
            "gridcolor": "white",
            "linecolor": "white",
            "ticks": ""
           }
          },
          "scene": {
           "xaxis": {
            "backgroundcolor": "#E5ECF6",
            "gridcolor": "white",
            "gridwidth": 2,
            "linecolor": "white",
            "showbackground": true,
            "ticks": "",
            "zerolinecolor": "white"
           },
           "yaxis": {
            "backgroundcolor": "#E5ECF6",
            "gridcolor": "white",
            "gridwidth": 2,
            "linecolor": "white",
            "showbackground": true,
            "ticks": "",
            "zerolinecolor": "white"
           },
           "zaxis": {
            "backgroundcolor": "#E5ECF6",
            "gridcolor": "white",
            "gridwidth": 2,
            "linecolor": "white",
            "showbackground": true,
            "ticks": "",
            "zerolinecolor": "white"
           }
          },
          "shapedefaults": {
           "line": {
            "color": "#2a3f5f"
           }
          },
          "ternary": {
           "aaxis": {
            "gridcolor": "white",
            "linecolor": "white",
            "ticks": ""
           },
           "baxis": {
            "gridcolor": "white",
            "linecolor": "white",
            "ticks": ""
           },
           "bgcolor": "#E5ECF6",
           "caxis": {
            "gridcolor": "white",
            "linecolor": "white",
            "ticks": ""
           }
          },
          "title": {
           "x": 0.05
          },
          "xaxis": {
           "automargin": true,
           "gridcolor": "white",
           "linecolor": "white",
           "ticks": "",
           "title": {
            "standoff": 15
           },
           "zerolinecolor": "white",
           "zerolinewidth": 2
          },
          "yaxis": {
           "automargin": true,
           "gridcolor": "white",
           "linecolor": "white",
           "ticks": "",
           "title": {
            "standoff": 15
           },
           "zerolinecolor": "white",
           "zerolinewidth": 2
          }
         }
        },
        "xaxis": {
         "anchor": "y",
         "domain": [
          0,
          1
         ],
         "title": {
          "text": "n"
         }
        },
        "yaxis": {
         "anchor": "x",
         "domain": [
          0,
          1
         ],
         "title": {
          "text": "unit_energy"
         }
        }
       }
      }
     },
     "metadata": {},
     "output_type": "display_data"
    }
   ],
   "source": [
    "px.scatter(dff, x=\"n\", y=\"unit_energy\") # , log_x=True)"
   ]
  },
  {
   "cell_type": "markdown",
   "metadata": {},
   "source": [
    "## Basin hopping for LJ clusters"
   ]
  },
  {
   "cell_type": "code",
   "execution_count": 9,
   "metadata": {},
   "outputs": [],
   "source": [
    "from scipy.optimize import basinhopping"
   ]
  },
  {
   "cell_type": "code",
   "execution_count": 27,
   "metadata": {},
   "outputs": [],
   "source": [
    "def potential(r, epsilon=1.0, sigma=1.0):\n",
    "    return 4 * epsilon * ((sigma / r) ** 12 - (sigma / r) ** 6)\n",
    "\n",
    "def force(r, epsilon=1.0, sigma=1.0):\n",
    "    return 4 * epsilon * (12 * (sigma / r) ** 13 - 6 * (sigma / r) ** 7)\n",
    "\n",
    "def total_energy(R, epsilon=1.0, sigma=1.0):\n",
    "    V = 0.0\n",
    "    for i, _ in enumerate(R):\n",
    "        for j in range(i):\n",
    "            rij = np.linalg.norm(R[i] - R[j])\n",
    "            V += potential(rij, epsilon, sigma)\n",
    "    return V\n",
    "\n",
    "def total_energy_bh(r, epsilon=1.0, sigma=1.0):\n",
    "    \"\"\"flat matrix of positions\"\"\"\n",
    "    V = 0.0\n",
    "    R = r.reshape(-1, 3)\n",
    "    for i, _ in enumerate(R):\n",
    "        for j in range(i):\n",
    "            rij = np.linalg.norm(R[i] - R[j])\n",
    "            V += potential(rij, epsilon, sigma)\n",
    "    return V"
   ]
  },
  {
   "cell_type": "code",
   "execution_count": 60,
   "metadata": {},
   "outputs": [],
   "source": [
    "def print_fun(x, f, accepted):\n",
    "    print(\"at minimum %.4f accepted %d\" % (f, int(accepted)))"
   ]
  },
  {
   "cell_type": "code",
   "execution_count": 78,
   "metadata": {},
   "outputs": [
    {
     "data": {
      "text/plain": [
       "-1.0"
      ]
     },
     "execution_count": 78,
     "metadata": {},
     "output_type": "execute_result"
    }
   ],
   "source": [
    "# test minimal energy for 2 and 3 particle clusters\n",
    "\n",
    "# 2 particles\n",
    "R = np.array([[0.0, 0.0, 0.0], [2**(1/6), 0.0, 0.0]])\n",
    "total_energy_bh(R.flatten())"
   ]
  },
  {
   "cell_type": "code",
   "execution_count": 150,
   "metadata": {},
   "outputs": [],
   "source": [
    "np.random.seed(42)\n",
    "\n",
    "N = 20\n",
    "R = np.random.uniform(0, 2, size=(N, 3))"
   ]
  },
  {
   "cell_type": "code",
   "execution_count": 151,
   "metadata": {},
   "outputs": [
    {
     "data": {
      "text/plain": [
       "(2485.388101314041, 2485.388101314041)"
      ]
     },
     "execution_count": 151,
     "metadata": {},
     "output_type": "execute_result"
    }
   ],
   "source": [
    "# test energy and equivalence\n",
    "total_energy(R) / 1e6, total_energy_bh(R.flatten()) / 1e6"
   ]
  },
  {
   "cell_type": "code",
   "execution_count": 152,
   "metadata": {},
   "outputs": [
    {
     "name": "stdout",
     "output_type": "stream",
     "text": [
      "at minimum -72.2434 accepted 1\n",
      "at minimum -73.9933 accepted 1\n",
      "at minimum -72.3737 accepted 1\n",
      "at minimum -72.3412 accepted 1\n",
      "at minimum -75.2294 accepted 1\n",
      "at minimum -75.2294 accepted 1\n",
      "at minimum -71.2735 accepted 0\n",
      "at minimum -75.6384 accepted 1\n",
      "at minimum -70.6595 accepted 0\n",
      "at minimum -74.7350 accepted 0\n",
      "at minimum -74.0008 accepted 0\n",
      "at minimum -74.0972 accepted 1\n",
      "at minimum -73.9121 accepted 1\n",
      "at minimum -74.4696 accepted 1\n",
      "at minimum -73.0209 accepted 0\n",
      "at minimum -74.8291 accepted 1\n",
      "at minimum -72.0155 accepted 0\n",
      "at minimum -74.7554 accepted 1\n",
      "at minimum -74.8360 accepted 1\n",
      "CPU times: user 1min 32s, sys: 1.23 s, total: 1min 33s\n",
      "Wall time: 1min 42s\n"
     ]
    }
   ],
   "source": [
    "%%time\n",
    "\n",
    "res = basinhopping(\n",
    "    total_energy_bh,\n",
    "    R.flatten(),\n",
    "    niter=100,\n",
    "    minimizer_kwargs=dict(method='L-BFGS-B', args=(1.0, 1.0)),\n",
    "    callback=print_fun,\n",
    "    niter_success=10\n",
    ")"
   ]
  },
  {
   "cell_type": "code",
   "execution_count": 153,
   "metadata": {},
   "outputs": [
    {
     "data": {
      "text/plain": [
       "                    message: ['success condition satisfied']\n",
       "                    success: True\n",
       "                        fun: -75.63840473386608\n",
       "                          x: [ 9.117e-01  1.679e+00 ...  5.531e-01\n",
       "                               1.796e+00]\n",
       "                        nit: 18\n",
       "      minimization_failures: 0\n",
       "                       nfev: 112728\n",
       "                       njev: 1848\n",
       " lowest_optimization_result:  message: CONVERGENCE: REL_REDUCTION_OF_F_<=_FACTR*EPSMCH\n",
       "                              success: True\n",
       "                               status: 0\n",
       "                                  fun: -75.63840473386608\n",
       "                                    x: [ 9.117e-01  1.679e+00 ...\n",
       "                                         5.531e-01  1.796e+00]\n",
       "                                  nit: 187\n",
       "                                  jac: [ 9.251e-04 -2.215e-03 ...\n",
       "                                         2.231e-04 -9.805e-04]\n",
       "                                 nfev: 12810\n",
       "                                 njev: 210\n",
       "                             hess_inv: <60x60 LbfgsInvHessProduct with dtype=float64>"
      ]
     },
     "execution_count": 153,
     "metadata": {},
     "output_type": "execute_result"
    }
   ],
   "source": [
    "res"
   ]
  },
  {
   "cell_type": "code",
   "execution_count": 154,
   "metadata": {},
   "outputs": [],
   "source": [
    "res_DB = {\n",
    "    2: -1.0,\n",
    "    3: -3.0,\n",
    "    4: -6.0,\n",
    "    5: -9.103852415707523,\n",
    "    6: -12.71206225680801,\n",
    "    7: -16.505384168011513,\n",
    "    8: -19.821489192027727,\n",
    "    9: -24.113360426738065,\n",
    "    10: -28.422531875296897,\n",
    "    15: -52.32262719388441,\n",
    "    20: -75.63840473386608,\n",
    "}"
   ]
  },
  {
   "cell_type": "markdown",
   "metadata": {},
   "source": [
    "#### Notes:\n",
    "- for N = 7 and CG, need 10 success iterations than for lower N\n",
    "- for N >= 8 and CG, 100 iters not enough, stuck at a rather high local minimum, need to use LBFGS\n",
    "- for N ~= 20, did not get correct result in 100 iters, error within 3%\n"
   ]
  },
  {
   "cell_type": "code",
   "execution_count": 125,
   "metadata": {},
   "outputs": [],
   "source": [
    "# database of wrong results\n",
    "# res_DB_wrong = {\n",
    "#     2: -3.0651362881419146,\n",
    "#     3: -4.099658416989308,\n",
    "#     4: -6.134311998154777,\n",
    "#     5: -11.307904824879119,\n",
    "#     6: -17.551024824456363,\n",
    "#     7: -20.655221197581174,\n",
    "#     8: -23.75941779839724,\n",
    "# }"
   ]
  },
  {
   "cell_type": "code",
   "execution_count": null,
   "metadata": {},
   "outputs": [],
   "source": []
  }
 ],
 "metadata": {
  "kernelspec": {
   "display_name": "venv11",
   "language": "python",
   "name": "python3"
  },
  "language_info": {
   "codemirror_mode": {
    "name": "ipython",
    "version": 3
   },
   "file_extension": ".py",
   "mimetype": "text/x-python",
   "name": "python",
   "nbconvert_exporter": "python",
   "pygments_lexer": "ipython3",
   "version": "3.11.5"
  }
 },
 "nbformat": 4,
 "nbformat_minor": 2
}
